{
 "cells": [
  {
   "cell_type": "markdown",
   "metadata": {},
   "source": [
    "<table align=\"left\">\n",
    "  <td>\n",
    "    <a href=\"https://colab.research.google.com/github/nguwijy/deep_branching_jjiam/blob/main/index.ipynb\" target=\"_parent\"><img src=\"https://colab.research.google.com/assets/colab-badge.svg\" alt=\"Open In Colab\"/></a>\n",
    "  </td>\n",
    "</table>"
   ]
  },
  {
   "cell_type": "markdown",
   "metadata": {},
   "source": [
    "# Deep branching solver for PDE system\n",
    "Deep branching solver based on [[NPP22]](#nguwi2022deepbranching)\n",
    "aims to solve system of fully nonlinear PDE system of the form\n",
    "$$\n",
    "\\begin{cases}\n",
    "\\partial_t u_i(t, x) + \\frac{\\nu}{2} \\Delta u_i(t, x) + f_i((\\partial_{\\alpha^j} u_{\\zeta^j}(t, x))_{0 \\le j < n}) = 0, \\quad 0 \\le i < d_{out}, \\\\\n",
    "u_i(T, x) = \\phi_i(x), \\\\\n",
    "\\Delta u_{-1}(t, x) = -\\sum\\limits_{i=0}^{d_{out}-1} \\partial_{1_i} u_j(t, x) \\partial_{1_j} u_i(t, x), \\\\\n",
    "\\sum\\limits_{i = 0}^{m - 1} \\partial_{\\alpha_{deriv}^i} u_{\\zeta_{deriv}^i}(t, x) = 0, \\quad (t, x) \\in [0, T] \\times \\Omega, \\quad \\Omega \\subset \\mathbb{R}^{d_{in}}.\n",
    "\\end{cases}\n",
    "$$\n",
    "\n",
    "[The html page](https://rawcdn.githack.com/nguwijy/deep_branching_with_domain/main/doc/branch/branch.html) records all documentation of the deep branching solver."
   ]
  },
  {
   "cell_type": "markdown",
   "metadata": {},
   "source": [
    "## Notebooks\n",
    "1. [Deep branching with domain](heat_equation.ipynb)\n",
    "2. [Modified burgers equation](modified_burgers.ipynb)\n",
    "3. [Non-Newtonian burgers equation](non-newtonian_burgers.ipynb)\n",
    "4. [Multidimensional burgers equation](multidimensional_burgers.ipynb)\n",
    "5. [Poiseuille flow](poiseuille.ipynb)"
   ]
  },
  {
   "cell_type": "markdown",
   "source": [
    "## References\n",
    "<a id=\"nguwi2022deepbranching\">[NPP22]</a>\n",
    "J.Y. Nguwi, G. Penent, and N. Privault.\n",
    "A deep branching solver for fully nonlinear partial differential equations.\n",
    "*arXiv preprint arXiv:2203.03234*, 2022."
   ],
   "metadata": {
    "collapsed": false
   }
  }
 ],
 "metadata": {
  "kernelspec": {
   "display_name": "Python 3 (ipykernel)",
   "language": "python",
   "name": "python3"
  },
  "language_info": {
   "codemirror_mode": {
    "name": "ipython",
    "version": 3
   },
   "file_extension": ".py",
   "mimetype": "text/x-python",
   "name": "python",
   "nbconvert_exporter": "python",
   "pygments_lexer": "ipython3",
   "version": "3.8.15"
  },
  "nav_menu": {},
  "toc": {
   "navigate_menu": true,
   "number_sections": true,
   "sideBar": true,
   "threshold": 6,
   "toc_cell": false,
   "toc_section_display": "block",
   "toc_window_display": false
  }
 },
 "nbformat": 4,
 "nbformat_minor": 4
}
