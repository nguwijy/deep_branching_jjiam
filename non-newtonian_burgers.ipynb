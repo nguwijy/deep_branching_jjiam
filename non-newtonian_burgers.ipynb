{
 "cells": [
  {
   "cell_type": "markdown",
   "metadata": {},
   "source": [
    "<table align=\"left\">\n",
    "  <td>\n",
    "    <a href=\"https://colab.research.google.com/github/nguwijy/deep_branching_jjiam/blob/main/non-newtownian_burgers.ipynb\" target=\"_parent\"><img src=\"https://colab.research.google.com/assets/colab-badge.svg\" alt=\"Open In Colab\"/></a>\n",
    "  </td>\n",
    "</table>"
   ]
  },
  {
   "cell_type": "markdown",
   "metadata": {
    "id": "GSuvC0ycqjNq",
    "pycharm": {
     "name": "#%% md\n"
    }
   },
   "source": [
    "# Imports & basic configuration"
   ]
  },
  {
   "cell_type": "code",
   "execution_count": 1,
   "metadata": {
    "colab": {
     "base_uri": "https://localhost:8080/"
    },
    "executionInfo": {
     "elapsed": 2706,
     "status": "ok",
     "timestamp": 1647940111437,
     "user": {
      "displayName": "nguwi jy",
      "photoUrl": "https://lh3.googleusercontent.com/a-/AOh14GgoiFFc59OKXMvhrMZCwWWzqPAzDXA1ooQ_zi8p=s64",
      "userId": "17294038731682000497"
     },
     "user_tz": -480
    },
    "id": "6357edd9",
    "outputId": "f45d2e8e-9123-4654-b639-cb824fdfdbdc",
    "pycharm": {
     "name": "#%%\n"
    }
   },
   "outputs": [],
   "source": [
    "import os\n",
    "import sys\n",
    "# install the package if not yet installed\n",
    "try:\n",
    "    from branch.branch import Net\n",
    "except:\n",
    "    !python -m pip install git+https://github.com/nguwijy/deep_branching_with_domain.git\n",
    "    from branch.branch import Net\n",
    "import math\n",
    "from scipy import special\n",
    "import numpy as np\n",
    "import torch\n",
    "import matplotlib.pyplot as plt\n",
    "import time\n",
    "import logging\n",
    "from pynverse import inversefunc\n",
    "from branch.galerkin import DGMNet\n",
    "from branch.bsde import BSDENet\n",
    "\n",
    "device = torch.device(\"cuda\" if torch.cuda.is_available() else \"cpu\")"
   ]
  },
  {
   "cell_type": "code",
   "execution_count": 2,
   "metadata": {
    "colab": {
     "base_uri": "https://localhost:8080/"
    },
    "executionInfo": {
     "elapsed": 362,
     "status": "ok",
     "timestamp": 1647940117264,
     "user": {
      "displayName": "nguwi jy",
      "photoUrl": "https://lh3.googleusercontent.com/a-/AOh14GgoiFFc59OKXMvhrMZCwWWzqPAzDXA1ooQ_zi8p=s64",
      "userId": "17294038731682000497"
     },
     "user_tz": -480
    },
    "id": "GKSN0XXSwzs_",
    "outputId": "479076d5-d9fa-418a-99aa-b38c14893038",
    "pycharm": {
     "name": "#%%\n"
    }
   },
   "outputs": [
    {
     "name": "stdout",
     "output_type": "stream",
     "text": [
      "torch version: 1.13.1+cu117\n"
     ]
    }
   ],
   "source": [
    "# perfect reproducibility is not guaranteed with different version of torch\n",
    "#\n",
    "print(f\"torch version: {torch.__version__}\")"
   ]
  },
  {
   "cell_type": "code",
   "execution_count": 3,
   "metadata": {
    "colab": {
     "base_uri": "https://localhost:8080/"
    },
    "executionInfo": {
     "elapsed": 29,
     "status": "ok",
     "timestamp": 1647940111438,
     "user": {
      "displayName": "nguwi jy",
      "photoUrl": "https://lh3.googleusercontent.com/a-/AOh14GgoiFFc59OKXMvhrMZCwWWzqPAzDXA1ooQ_zi8p=s64",
      "userId": "17294038731682000497"
     },
     "user_tz": -480
    },
    "id": "W8KR70pwVNfJ",
    "outputId": "0971b8c8-a20c-424a-d81f-1b53d6b34b84",
    "pycharm": {
     "name": "#%%\n"
    }
   },
   "outputs": [
    {
     "name": "stdout",
     "output_type": "stream",
     "text": [
      "Information of the allocated GPU.\n",
      "Tue Apr  4 09:26:54 2023       \r\n",
      "+-----------------------------------------------------------------------------+\r\n",
      "| NVIDIA-SMI 525.60.13    Driver Version: 525.60.13    CUDA Version: 12.0     |\r\n",
      "|-------------------------------+----------------------+----------------------+\r\n",
      "| GPU  Name        Persistence-M| Bus-Id        Disp.A | Volatile Uncorr. ECC |\r\n",
      "| Fan  Temp  Perf  Pwr:Usage/Cap|         Memory-Usage | GPU-Util  Compute M. |\r\n",
      "|                               |                      |               MIG M. |\r\n",
      "|===============================+======================+======================|\r\n",
      "|   0  NVIDIA RTX A4000    On   | 00000000:21:00.0  On |                  Off |\r\n",
      "| 41%   37C    P8    19W / 140W |   1540MiB / 16376MiB |      9%      Default |\r\n",
      "|                               |                      |                  N/A |\r\n",
      "+-------------------------------+----------------------+----------------------+\r\n",
      "                                                                               \r\n",
      "+-----------------------------------------------------------------------------+\r\n",
      "| Processes:                                                                  |\r\n",
      "|  GPU   GI   CI        PID   Type   Process name                  GPU Memory |\r\n",
      "|        ID   ID                                                   Usage      |\r\n",
      "|=============================================================================|\r\n",
      "|    0   N/A  N/A      1664      G   /usr/lib/xorg/Xorg                710MiB |\r\n",
      "|    0   N/A  N/A    155104      G   ...b/thunderbird/thunderbird      165MiB |\r\n",
      "|    0   N/A  N/A   1187029      G   ...1/usr/lib/firefox/firefox      155MiB |\r\n",
      "|    0   N/A  N/A   1313840      G   ...2gtk-4.1/WebKitWebProcess       28MiB |\r\n",
      "|    0   N/A  N/A   2202245      G   /usr/bin/gnome-shell              102MiB |\r\n",
      "|    0   N/A  N/A   2258072      G   ...AAAAAAAAA= --shared-files       76MiB |\r\n",
      "|    0   N/A  N/A   3235752      G   ...RendererForSitePerProcess       50MiB |\r\n",
      "|    0   N/A  N/A   3312167      G   /usr/bin/nautilus                  28MiB |\r\n",
      "|    0   N/A  N/A   3429765      G   ...646980843157772997,131072       74MiB |\r\n",
      "|    0   N/A  N/A   3431469      G   ...427669924472568667,131072      102MiB |\r\n",
      "+-----------------------------------------------------------------------------+\r\n"
     ]
    }
   ],
   "source": [
    "print(\"Information of the allocated GPU.\")\n",
    "!nvidia-smi"
   ]
  },
  {
   "cell_type": "code",
   "execution_count": 4,
   "metadata": {
    "id": "sdQhnjL3U5SJ",
    "pycharm": {
     "name": "#%%\n"
    }
   },
   "outputs": [],
   "source": [
    "# performance evaluation for PDE\n",
    "def compare_performance(\n",
    "    grid_1d,\n",
    "    grid_nd,\n",
    "    grid_with_t,\n",
    "    t_lo,\n",
    "    true,\n",
    "    terminal,\n",
    "    fname=None,\n",
    "    debug_mode=False,\n",
    "    disable_galerkin=False,\n",
    "    disable_bsde=False,\n",
    "    disable_branch=False,\n",
    "    seeds=list(range(10)),\n",
    "    disable_relative=False,\n",
    "    **kwargs,\n",
    "):\n",
    "    if not os.path.isdir('logs/deep_branching/data/'):\n",
    "        os.makedirs('logs/deep_branching/data/')\n",
    "    if not os.path.isdir('logs/deep_branching/plot/'):\n",
    "        os.makedirs('logs/deep_branching/plot/')\n",
    "    x_lo, x_hi = grid_nd.min(), grid_nd.max()\n",
    "    grid_nd = grid_nd.astype(np.float32)\n",
    "    grid_with_t = grid_with_t.astype(np.float32)\n",
    "    \n",
    "    problem_name = fname\n",
    "    fname = f\"{fname}_dim_{grid_nd.shape[0]}\" if fname is not None else None\n",
    "    counter = 1\n",
    "\n",
    "    branch_runtime, branch_l1_error, branch_l2_error, branch_rel_error, branch = (\n",
    "        [],\n",
    "        [],\n",
    "        [],\n",
    "        [],\n",
    "        0,\n",
    "    )\n",
    "    branch_fdb_runtime, branch_total_runtime = [], []\n",
    "    dgm_runtime, dgm_l1_error, dgm_l2_error, dgm_rel_error, dgm = [], [], [], [], 0\n",
    "    bsde_runtime, bsde_l1_error, bsde_l2_error, bsde_rel_error, bsde = [], [], [], [], 0\n",
    "    for seed in seeds:\n",
    "        ######### Deep branching method\n",
    "        if not disable_branch:\n",
    "            torch.manual_seed(seed)\n",
    "            print(\n",
    "                f\"#### Starting deep branching method with seed {seed} - {counter} out of {len(seeds)} times\"\n",
    "            )\n",
    "            start = time.time()\n",
    "            model = Net(t_lo=t_lo, t_hi=t_lo, x_lo=x_lo, x_hi=x_hi, problem_name=problem_name, **kwargs)\n",
    "            model.train_and_eval(debug_mode)\n",
    "            branch_total_runtime.append(time.time() - start)\n",
    "            branch_fdb_runtime.append(model.fdb_runtime)\n",
    "            branch_runtime.append(branch_total_runtime[-1] - branch_fdb_runtime[-1])\n",
    "            # note that branch output batch_size x 1 instead of batch_size like other algo\n",
    "            tmp = (\n",
    "                model(torch.tensor(grid_with_t.T, device=device), patch=model.patches - 1)[:, 0].detach().cpu().numpy()\n",
    "            )\n",
    "            branch += tmp\n",
    "            branch_l1_error.append((np.abs(tmp - true)).mean())\n",
    "            branch_l2_error.append(((tmp - true) ** 2).mean())\n",
    "            if not disable_relative:\n",
    "                branch_rel_error.append((np.abs(tmp - true) / np.abs(true)).mean())\n",
    "            else:\n",
    "                branch_rel_error.append(0)\n",
    "            print(\n",
    "                f\"Time taken: {branch_runtime[-1]:.0f} seconds; L1 error: {branch_l1_error[-1]:.2E}; L2 error: {branch_l2_error[-1]:.2E}; rel error: {branch_rel_error[-1]:.2E}.\"\n",
    "            )\n",
    "            print(\n",
    "                f\"fdb runtime: {branch_fdb_runtime[-1]:.0f} seconds; total runtime: {branch_total_runtime[-1]:.0f} seconds.\"\n",
    "            )\n",
    "\n",
    "        ######### Deep galerkin method\n",
    "        if not disable_galerkin:\n",
    "            torch.manual_seed(seed)\n",
    "            print(\n",
    "                f\"#### Starting deep galerkin method with seed {seed} - {counter} out of {len(seeds)} times\"\n",
    "            )\n",
    "            start = time.time()\n",
    "            model = DGMNet(t_lo=t_lo, t_hi=kwargs[\"T\"], x_lo=x_lo, x_hi=x_hi, **kwargs)\n",
    "            model.train_and_eval(debug_mode)\n",
    "            dgm_runtime.append(time.time() - start)\n",
    "            tmp = (\n",
    "                model(torch.tensor(grid_with_t.T, device=device)).detach().cpu().numpy()\n",
    "            )\n",
    "            dgm += tmp\n",
    "            dgm_l1_error.append((np.abs(tmp - true)).mean())\n",
    "            dgm_l2_error.append(((tmp - true) ** 2).mean())\n",
    "            if not disable_relative:\n",
    "                dgm_rel_error.append((np.abs(tmp - true) / np.abs(true)).mean())\n",
    "            else:\n",
    "                dgm_rel_error.append(0)\n",
    "            print(\n",
    "                f\"Time taken: {dgm_runtime[-1]:.0f} seconds; L1 error: {dgm_l1_error[-1]:.2E}; L2 error: {dgm_l2_error[-1]:.2E}; rel error: {dgm_rel_error[-1]:.2E}.\"\n",
    "            )\n",
    "\n",
    "        ######### Deep BSDE method\n",
    "        if not disable_bsde:\n",
    "            torch.manual_seed(seed)\n",
    "            print(\n",
    "                f\"#### Starting deep BSDE method with seed {seed} - {counter} out of {len(seeds)} times\"\n",
    "            )\n",
    "            start = time.time()\n",
    "            model = BSDENet(t_lo=t_lo, t_hi=kwargs[\"T\"], x_lo=x_lo, x_hi=x_hi, **kwargs)\n",
    "            model.train_and_eval(debug_mode)\n",
    "            bsde_runtime.append(time.time() - start)\n",
    "            tmp = (\n",
    "                model(torch.tensor(grid_nd.T, device=device))\n",
    "                .squeeze(-1)\n",
    "                .detach()\n",
    "                .cpu()\n",
    "                .numpy()\n",
    "            )\n",
    "            bsde += tmp\n",
    "            bsde_l1_error.append((np.abs(tmp - true)).mean())\n",
    "            bsde_l2_error.append(((tmp - true) ** 2).mean())\n",
    "            if not disable_relative:\n",
    "                bsde_rel_error.append((np.abs(tmp - true) / np.abs(true)).mean())\n",
    "            else:\n",
    "                bsde_rel_error.append(0)\n",
    "            print(\n",
    "                f\"Time taken: {bsde_runtime[-1]:.0f} seconds; L1 error: {bsde_l1_error[-1]:.2E}; L2 error: {bsde_l2_error[-1]:.2E}; rel error: {bsde_rel_error[-1]:.2E}.\"\n",
    "            )\n",
    "\n",
    "        print(\"\\n\")\n",
    "        counter += 1\n",
    "\n",
    "    # Plot\n",
    "    f = plt.figure()\n",
    "    plt.plot(grid_1d, true, label=\"True solution\")\n",
    "    plt.plot(grid_1d, terminal, label=\"Terminal condition\")\n",
    "    # save into csv\n",
    "    if fname is not None:\n",
    "        plt_data = np.stack((grid_1d, true, terminal), axis=-1)\n",
    "        plt_header = \"x, true, terminal\"\n",
    "\n",
    "    if not disable_branch:\n",
    "        branch /= len(seeds)\n",
    "        branch_runtime, branch_l1_error, branch_l2_error, branch_rel_error = (\n",
    "            np.array(branch_runtime),\n",
    "            np.array(branch_l1_error),\n",
    "            np.array(branch_l2_error),\n",
    "            np.array(branch_rel_error),\n",
    "        )\n",
    "        branch_fdb_runtime, branch_total_runtime = np.array(\n",
    "            branch_fdb_runtime\n",
    "        ), np.array(branch_total_runtime)\n",
    "        print(\"\\n\")\n",
    "        print(\"######## Summary for deep branching method\")\n",
    "        print(f\"runtime:        {branch_runtime.mean():.0f}\")\n",
    "        print(f\"fdb runtime:    {branch_fdb_runtime.mean():.0f}\")\n",
    "        print(f\"total runtime:  {branch_total_runtime.mean():.0f}\")\n",
    "        print(f\"mean L1 error:  {branch_l1_error.mean():.2E}\")\n",
    "        print(f\"std L1 error:   {branch_l1_error.std():.2E}\")\n",
    "        print(f\"mean L2 error:  {branch_l2_error.mean():.2E}\")\n",
    "        print(f\"std L2 error:   {branch_l2_error.std():.2E}\")\n",
    "        print(f\"mean rel error: {branch_rel_error.mean():.2E}\")\n",
    "        print(f\"std rel error:  {branch_rel_error.std():.2E}\")\n",
    "        # Plot\n",
    "        plt.plot(grid_1d, branch, label=\"Deep branching\")\n",
    "        # save into csv\n",
    "        if fname is not None:\n",
    "            plt_data = np.concatenate(\n",
    "                (plt_data, np.expand_dims(branch, axis=-1)), axis=-1\n",
    "            )\n",
    "            plt_header += \", branch\"\n",
    "            data = np.stack(\n",
    "                (branch_runtime, branch_l1_error, branch_l2_error, branch_rel_error),\n",
    "                axis=-1,\n",
    "            )\n",
    "            np.savetxt(\n",
    "                \"logs/deep_branching/data/branch_\" + fname + \".csv\",\n",
    "                data,\n",
    "                delimiter=\",\",\n",
    "                header=\"runtime,l1_error,l2_error,rel_error\",\n",
    "                comments=\"\",\n",
    "            )\n",
    "\n",
    "    if not disable_galerkin:\n",
    "        dgm /= len(seeds)\n",
    "        dgm_runtime, dgm_l1_error, dgm_l2_error, dgm_rel_error = (\n",
    "            np.array(dgm_runtime),\n",
    "            np.array(dgm_l1_error),\n",
    "            np.array(dgm_l2_error),\n",
    "            np.array(dgm_rel_error),\n",
    "        )\n",
    "        print(\"\\n\")\n",
    "        print(\"######## Summary for deep galerkin method\")\n",
    "        print(f\"runtime:        {dgm_runtime.mean():.0f}\")\n",
    "        print(f\"mean L1 error:  {dgm_l1_error.mean():.2E}\")\n",
    "        print(f\"std L1 error:   {dgm_l1_error.std():.2E}\")\n",
    "        print(f\"mean L2 error:  {dgm_l2_error.mean():.2E}\")\n",
    "        print(f\"std L2 error:   {dgm_l2_error.std():.2E}\")\n",
    "        print(f\"mean rel error: {dgm_rel_error.mean():.2E}\")\n",
    "        print(f\"std rel error:  {dgm_rel_error.std():.2E}\")\n",
    "        # Plot\n",
    "        plt.plot(grid_1d, dgm, label=\"Deep Galerkin\")\n",
    "        # save into csv\n",
    "        if fname is not None:\n",
    "            plt_data = np.concatenate((plt_data, np.expand_dims(dgm, axis=-1)), axis=-1)\n",
    "            plt_header += \", dgm\"\n",
    "            data = np.stack(\n",
    "                (dgm_runtime, dgm_l1_error, dgm_l2_error, dgm_rel_error), axis=-1\n",
    "            )\n",
    "            np.savetxt(\n",
    "                \"logs/deep_branching/data/dgm_\" + fname + \".csv\",\n",
    "                data,\n",
    "                delimiter=\",\",\n",
    "                header=\"runtime,l1_error,l2_error,rel_error\",\n",
    "                comments=\"\",\n",
    "            )\n",
    "\n",
    "    ######### Deep BSDE method\n",
    "    if not disable_bsde:\n",
    "        bsde /= len(seeds)\n",
    "        bsde_runtime, bsde_l1_error, bsde_l2_error, bsde_rel_error = (\n",
    "            np.array(bsde_runtime),\n",
    "            np.array(bsde_l1_error),\n",
    "            np.array(bsde_l2_error),\n",
    "            np.array(bsde_rel_error),\n",
    "        )\n",
    "        print(\"\\n\")\n",
    "        print(\"######## Summary for deep BSDE method\")\n",
    "        print(f\"runtime:        {bsde_runtime.mean():.0f}\")\n",
    "        print(f\"mean L1 error:  {bsde_l1_error.mean():.2E}\")\n",
    "        print(f\"std L1 error:   {bsde_l1_error.std():.2E}\")\n",
    "        print(f\"mean L2 error:  {bsde_l2_error.mean():.2E}\")\n",
    "        print(f\"std L2 error:   {bsde_l2_error.std():.2E}\")\n",
    "        print(f\"mean rel error: {bsde_rel_error.mean():.2E}\")\n",
    "        print(f\"std rel error:  {bsde_rel_error.std():.2E}\")\n",
    "        # Plot\n",
    "        plt.plot(grid_1d, bsde, label=\"Deep BSDE\")\n",
    "        # save into csv\n",
    "        if fname is not None:\n",
    "            plt_data = np.concatenate(\n",
    "                (plt_data, np.expand_dims(bsde, axis=-1)), axis=-1\n",
    "            )\n",
    "            plt_header += \", bsde\"\n",
    "            data = np.stack(\n",
    "                (bsde_runtime, bsde_l1_error, bsde_l2_error, bsde_rel_error), axis=-1\n",
    "            )\n",
    "            np.savetxt(\n",
    "                \"logs/deep_branching/data/bsde_\" + fname + \".csv\",\n",
    "                data,\n",
    "                delimiter=\",\",\n",
    "                header=\"runtime,l1_error,l2_error,rel_error\",\n",
    "                comments=\"\",\n",
    "            )\n",
    "\n",
    "    plt.legend()\n",
    "    plt.show()\n",
    "    f.savefig(f\"logs/deep_branching/plot/{'comparison' if fname is None else fname}.pdf\")\n",
    "    if fname is not None:\n",
    "        np.savetxt(\n",
    "            \"logs/deep_branching/data/plt_\" + fname + \".csv\", plt_data, delimiter=\",\", header=plt_header, comments=\"\"\n",
    "        )"
   ]
  },
  {
   "cell_type": "code",
   "execution_count": 5,
   "metadata": {},
   "outputs": [],
   "source": [
    "def gen_fun_and_inv(n, eps, nu, u1, u2):\n",
    "    if n <= 1/4 and (1/n) % 1 == 0:\n",
    "        print(\"Infinity detected when calculating hypergeometric function, the calculation is not accurate!\")\n",
    "    if n == 1:\n",
    "        fun = (\n",
    "            lambda u:(\n",
    "                nu/(u2-u1)*np.log((u2 - u)/(u - u1))\n",
    "            )\n",
    "        )\n",
    "    elif n == 1/2:\n",
    "        fun = (\n",
    "            lambda u: (\n",
    "                nu**2*(\n",
    "                    (u2-u1)**(-2)*(1/(u-u1) - 1/(u2-u))\n",
    "                    + 2*(u2-u1)**(-3)*np.log((u2-u)/(u-u1)))\n",
    "            )\n",
    "        )\n",
    "    elif n == 1/3:\n",
    "        fun = (\n",
    "            lambda u: (\n",
    "                nu**3*(\n",
    "                    .5*(u2-u1)**(-3)*(1/(u-u1)**2 - 1/(u2-u)**2)\n",
    "                    + 3*(u2-u1)**(-4)*(1/(u-u1) - 1/(u2-u))\n",
    "                    + 6*(u2-u1)**(-5)*np.log((u2-u)/(u-u1)))\n",
    "            )\n",
    "        )\n",
    "    else:\n",
    "        fun = (lambda u:-nu**(1/n)*n*(u-u1)*((u2-u1)*(u-u1))**(-1/n)*special.hyp2f1(1/n,1-1/n,2-1/n, (u-u1)/(u2-u1))/(n-1))\n",
    "    inv = (lambda xi: inversefunc(fun, y_values=xi, domain=[u1+eps,u2-eps]))\n",
    "    return fun, inv"
   ]
  },
  {
   "cell_type": "code",
   "execution_count": 7,
   "metadata": {},
   "outputs": [],
   "source": [
    "def gen_for_generalized_burgers(\n",
    "    n=1,\n",
    "    T=1.,\n",
    "    u1=0.,\n",
    "    u2=1.,\n",
    "    nu=1,\n",
    "    eps=1e-6,\n",
    "    eps_graph=1e-2,\n",
    "    verbose=False\n",
    "):\n",
    "    neurons = 50\n",
    "    nb_points = 10000\n",
    "    lambd = (u1 + u2) / 2\n",
    "    require_training = not(n == 1 or n == 2)\n",
    "    fun, inv = gen_fun_and_inv(n=n, eps=eps, nu=nu, u1=u1, u2=u2)\n",
    "    \n",
    "    if require_training:\n",
    "        torch.manual_seed(0)\n",
    "        # neural network parameter\n",
    "        inv_model = torch.nn.Sequential(\n",
    "            torch.nn.BatchNorm1d(1, device=device),\n",
    "            torch.nn.Linear(1, neurons, device=device),\n",
    "            torch.nn.Tanh(),\n",
    "            torch.nn.BatchNorm1d(neurons, device=device),\n",
    "            torch.nn.Linear(neurons, neurons, device=device),\n",
    "            torch.nn.Tanh(),\n",
    "            torch.nn.BatchNorm1d(neurons, device=device),\n",
    "            torch.nn.Linear(neurons, neurons, device=device),\n",
    "            torch.nn.Tanh(),\n",
    "            torch.nn.BatchNorm1d(neurons, device=device),\n",
    "            torch.nn.Linear(neurons, neurons, device=device),\n",
    "            torch.nn.Tanh(),\n",
    "            torch.nn.BatchNorm1d(neurons, device=device),\n",
    "            torch.nn.Linear(neurons, neurons, device=device),\n",
    "            torch.nn.Tanh(),\n",
    "            torch.nn.BatchNorm1d(neurons, device=device),\n",
    "            torch.nn.Linear(neurons, 1, device=device),\n",
    "        )\n",
    "\n",
    "        # define the functions, x, and y\n",
    "        x_for_fun = np.linspace(u1, u2, nb_points + 2)[1:-1]\n",
    "        x_lo, x_hi = fun(u2-eps), fun(u1+eps)\n",
    "        x = np.linspace(x_lo, x_hi, nb_points)\n",
    "        y = torch.tensor(inv(x), dtype=torch.get_default_dtype(), device=device)\n",
    "        x = torch.tensor(x, dtype=torch.get_default_dtype(), device=device).unsqueeze(dim=-1)\n",
    "\n",
    "        # neural network training\n",
    "        optimizer = torch.optim.Adam(inv_model.parameters(), lr=1e-2)\n",
    "        scheduler = torch.optim.lr_scheduler.MultiStepLR(optimizer, milestones=[2000, 4000, 6000, 8000], gamma=0.5)\n",
    "        loss_fun = torch.nn.MSELoss()\n",
    "        inv_model.train()\n",
    "        for epoch in range(10000):\n",
    "            optimizer.zero_grad()\n",
    "            loss = loss_fun(y, inv_model(x).squeeze())\n",
    "            loss.backward()\n",
    "            optimizer.step()\n",
    "            scheduler.step()\n",
    "            if epoch % 100 == 0 and verbose:\n",
    "                print(f\"Epoch {epoch}, loss = {loss}\")\n",
    "        inv_model.eval()\n",
    "\n",
    "        # detach all model parameters to save memory\n",
    "        for p in inv_model.parameters():\n",
    "            p.requires_grad = False\n",
    "\n",
    "        if verbose:\n",
    "            # plot the graph\n",
    "            plt.plot(x.cpu(), inv_model(x).detach().cpu(), label=\"NN approximation\")\n",
    "            plt.plot(x.cpu(), y.cpu(), label=\"true inverse\")\n",
    "            plt.legend()\n",
    "            plt.show()\n",
    "            print(f\"The max difference is {(y.cpu() - inv_model(x).detach().cpu().squeeze()).abs().max()}.\")\n",
    "\n",
    "    # function definition\n",
    "    # deriv_map = np.array([0, 1, 2]).reshape(-1, 1)\n",
    "    # deriv_map = np.concatenate((1 * np.identity(dim), 2 * np.identity(dim)), axis=0).astype(int)\n",
    "    deriv_map = np.concatenate((np.array([[0] * dim]), 1 * np.identity(dim), 2 * np.identity(dim)), axis=0).astype(int)\n",
    "\n",
    "    def f_example(y, coordinate=0):\n",
    "        \"\"\"\n",
    "        idx 0 -> no deriv\n",
    "        idx 1 -> first deriv\n",
    "        idx 2 -> second deriv\n",
    "        \"\"\"\n",
    "        return -y[0]*y[1:(dim+1)].sum(dim=0) + nu * y[(dim+1):(2*dim+1)].sum(dim=0) * n * y[1:(dim+1)].sum(dim=0).abs()**(n-1) / 2 - nu * y[(dim+1):(2*dim+1)].sum(dim=0) / 2\n",
    "\n",
    "    def dgm_f_example(y, coordinate=0):\n",
    "        \"\"\"\n",
    "        idx 0 -> no deriv\n",
    "        idx 1 -> first deriv\n",
    "        idx 2 -> second deriv\n",
    "        \"\"\"\n",
    "        return (\n",
    "            -y[0]*y[1:(dim+1)].sum(dim=0) + nu * y[(dim+1):(2*dim+1)].sum(dim=0) * n * y[1:(dim+1)].sum(dim=0).abs()**(n-1) / 2 \n",
    "        )\n",
    "\n",
    "    def phi_example(x, coordinate=0):\n",
    "        if n == 1:\n",
    "            return u2 + (u1 - u2) / (1 + torch.exp((u1 - u2) * x.sum(axis=0) / nu))\n",
    "        elif n == 2:\n",
    "            return u1 + (u2 - u1) * torch.sin(-x[0] / (2 * math.sqrt(nu)))**2\n",
    "        else:\n",
    "            return inv_model(x.T).squeeze(dim=-1)\n",
    "\n",
    "    def exact_example(t, x, T):\n",
    "        xi = x.sum(axis=0) - lambd * (T - t) * dim\n",
    "        if n == 1:\n",
    "            return u2 + (u1 - u2) / (1 + np.exp((u1 - u2) * xi / nu))\n",
    "        elif n == 2:\n",
    "            return u1 + (u2 - u1) * np.sin(-xi / (2 * math.sqrt(nu)))**2\n",
    "        else:\n",
    "            return inv(xi)\n",
    "\n",
    "    t_lo, x_lo, x_hi = 0., -10., 10.\n",
    "    # best view for waterfall, eps < eps_graph\n",
    "    x_lo, x_hi = fun(u2-eps_graph) + lambd * T, fun(u1+eps_graph)\n",
    "    grid = np.linspace(x_lo, x_hi, 100)\n",
    "    grid_d_dim = np.expand_dims(grid, axis=0)\n",
    "    grid_d_dim_with_t = np.concatenate((t_lo * np.ones((1, 100)), grid_d_dim), axis=0)\n",
    "    \n",
    "    x_mid = (x_lo + x_hi) / 2\n",
    "    grid = np.linspace(x_lo, x_hi, 100)   \n",
    "    grid_d_dim = np.concatenate((x_mid * np.ones((fixed_dim, 100)), np.expand_dims(grid, axis=0), x_mid * np.ones((dim - fixed_dim - 1, 100))), axis=0)\n",
    "    grid_d_dim_with_t = np.concatenate((t_lo * np.ones((1, 100)), grid_d_dim), axis=0)    \n",
    "    \n",
    "    true = exact_example(t_lo, grid_d_dim, T)\n",
    "    terminal = exact_example(T, grid_d_dim, T)\n",
    "    return grid, grid_d_dim, grid_d_dim_with_t, t_lo, true, terminal, f_example, deriv_map, phi_example, dgm_f_example"
   ]
  },
  {
   "cell_type": "markdown",
   "metadata": {},
   "source": [
    "## One-Dimensional Burgers equation"
   ]
  },
  {
   "cell_type": "markdown",
   "metadata": {},
   "source": [
    "### Figure 1-a) with n = 1, T = 1.0, d=1\n",
    "$$\n",
    "f(u)\n",
    "= \\frac{2 \\nu}{u_2 - u_1} \\log\\left( \\frac{u_2-u}{u-u_1} \\right),\n",
    "$$\n",
    "see e.g.\n",
    "[wolfram alpha](https://www.wolframalpha.com/input?i=int%5B%28%28u-u1%29*%28u2-u%29%29%5E%281-1%29%2F%28%28u-u1%29*%28u-u2%29%29%2Cu%5D%2C)."
   ]
  },
  {
   "cell_type": "code",
   "execution_count": 7,
   "metadata": {
    "scrolled": true
   },
   "outputs": [
    {
     "name": "stdout",
     "output_type": "stream",
     "text": [
      "#### Starting deep branching method with seed 0 - 1 out of 10 times\n"
     ]
    },
    {
     "name": "stderr",
     "output_type": "stream",
     "text": [
      "Logs are saved in /home/nprivault/NTU/nguwi_jiang_yu/burgers/deep_branching_burgers/notebooks/logs/tmp\n",
      "Logs are saved in /home/nprivault/NTU/nguwi_jiang_yu/burgers/deep_branching_burgers/notebooks/logs/tmp\n"
     ]
    },
    {
     "name": "stdout",
     "output_type": "stream",
     "text": [
      "Time taken: 36 seconds; L1 error: 2.20E-03; L2 error: 8.96E-06; rel error: 7.89E-03.\n",
      "fdb runtime: 0 seconds; total runtime: 36 seconds.\n",
      "#### Starting deep galerkin method with seed 0 - 1 out of 10 times\n",
      "Time taken: 81 seconds; L1 error: 7.03E-04; L2 error: 1.24E-06; rel error: 3.98E-03.\n",
      "#### Starting deep BSDE method with seed 0 - 1 out of 10 times\n"
     ]
    },
    {
     "name": "stderr",
     "output_type": "stream",
     "text": [
      "Logs are saved in /home/nprivault/NTU/nguwi_jiang_yu/burgers/deep_branching_burgers/notebooks/logs/tmp\n"
     ]
    },
    {
     "name": "stdout",
     "output_type": "stream",
     "text": [
      "Time taken: 140 seconds; L1 error: 4.77E-03; L2 error: 3.51E-05; rel error: 3.14E-02.\n",
      "\n",
      "\n",
      "#### Starting deep branching method with seed 1 - 2 out of 10 times\n"
     ]
    },
    {
     "name": "stderr",
     "output_type": "stream",
     "text": [
      "Logs are saved in /home/nprivault/NTU/nguwi_jiang_yu/burgers/deep_branching_burgers/notebooks/logs/tmp\n"
     ]
    },
    {
     "name": "stdout",
     "output_type": "stream",
     "text": [
      "Time taken: 33 seconds; L1 error: 3.11E-03; L2 error: 1.69E-05; rel error: 7.24E-03.\n",
      "fdb runtime: 0 seconds; total runtime: 33 seconds.\n",
      "#### Starting deep galerkin method with seed 1 - 2 out of 10 times\n",
      "Time taken: 91 seconds; L1 error: 1.11E-03; L2 error: 5.75E-06; rel error: 3.83E-03.\n",
      "#### Starting deep BSDE method with seed 1 - 2 out of 10 times\n"
     ]
    },
    {
     "name": "stderr",
     "output_type": "stream",
     "text": [
      "Logs are saved in /home/nprivault/NTU/nguwi_jiang_yu/burgers/deep_branching_burgers/notebooks/logs/tmp\n"
     ]
    },
    {
     "name": "stdout",
     "output_type": "stream",
     "text": [
      "Time taken: 147 seconds; L1 error: 4.61E-03; L2 error: 3.26E-05; rel error: 2.21E-02.\n",
      "\n",
      "\n",
      "#### Starting deep branching method with seed 2 - 3 out of 10 times\n"
     ]
    },
    {
     "name": "stderr",
     "output_type": "stream",
     "text": [
      "Logs are saved in /home/nprivault/NTU/nguwi_jiang_yu/burgers/deep_branching_burgers/notebooks/logs/tmp\n"
     ]
    },
    {
     "name": "stdout",
     "output_type": "stream",
     "text": [
      "Time taken: 34 seconds; L1 error: 2.92E-03; L2 error: 1.86E-05; rel error: 6.90E-03.\n",
      "fdb runtime: 0 seconds; total runtime: 34 seconds.\n",
      "#### Starting deep galerkin method with seed 2 - 3 out of 10 times\n",
      "Time taken: 77 seconds; L1 error: 1.10E-03; L2 error: 1.91E-06; rel error: 1.00E-02.\n",
      "#### Starting deep BSDE method with seed 2 - 3 out of 10 times\n"
     ]
    },
    {
     "name": "stderr",
     "output_type": "stream",
     "text": [
      "Logs are saved in /home/nprivault/NTU/nguwi_jiang_yu/burgers/deep_branching_burgers/notebooks/logs/tmp\n"
     ]
    },
    {
     "name": "stdout",
     "output_type": "stream",
     "text": [
      "Time taken: 144 seconds; L1 error: 5.16E-03; L2 error: 3.90E-05; rel error: 2.54E-02.\n",
      "\n",
      "\n",
      "#### Starting deep branching method with seed 3 - 4 out of 10 times\n"
     ]
    },
    {
     "name": "stderr",
     "output_type": "stream",
     "text": [
      "Logs are saved in /home/nprivault/NTU/nguwi_jiang_yu/burgers/deep_branching_burgers/notebooks/logs/tmp\n"
     ]
    },
    {
     "name": "stdout",
     "output_type": "stream",
     "text": [
      "Time taken: 33 seconds; L1 error: 2.18E-03; L2 error: 8.85E-06; rel error: 6.96E-03.\n",
      "fdb runtime: 0 seconds; total runtime: 33 seconds.\n",
      "#### Starting deep galerkin method with seed 3 - 4 out of 10 times\n",
      "Time taken: 92 seconds; L1 error: 4.36E-04; L2 error: 3.06E-07; rel error: 5.08E-03.\n",
      "#### Starting deep BSDE method with seed 3 - 4 out of 10 times\n"
     ]
    },
    {
     "name": "stderr",
     "output_type": "stream",
     "text": [
      "Logs are saved in /home/nprivault/NTU/nguwi_jiang_yu/burgers/deep_branching_burgers/notebooks/logs/tmp\n"
     ]
    },
    {
     "name": "stdout",
     "output_type": "stream",
     "text": [
      "Time taken: 142 seconds; L1 error: 4.90E-03; L2 error: 3.35E-05; rel error: 2.83E-02.\n",
      "\n",
      "\n",
      "#### Starting deep branching method with seed 4 - 5 out of 10 times\n"
     ]
    },
    {
     "name": "stderr",
     "output_type": "stream",
     "text": [
      "Logs are saved in /home/nprivault/NTU/nguwi_jiang_yu/burgers/deep_branching_burgers/notebooks/logs/tmp\n"
     ]
    },
    {
     "name": "stdout",
     "output_type": "stream",
     "text": [
      "Time taken: 34 seconds; L1 error: 1.85E-03; L2 error: 6.56E-06; rel error: 1.06E-02.\n",
      "fdb runtime: 0 seconds; total runtime: 34 seconds.\n",
      "#### Starting deep galerkin method with seed 4 - 5 out of 10 times\n",
      "Time taken: 87 seconds; L1 error: 1.17E-04; L2 error: 2.43E-08; rel error: 1.26E-03.\n",
      "#### Starting deep BSDE method with seed 4 - 5 out of 10 times\n"
     ]
    },
    {
     "name": "stderr",
     "output_type": "stream",
     "text": [
      "Logs are saved in /home/nprivault/NTU/nguwi_jiang_yu/burgers/deep_branching_burgers/notebooks/logs/tmp\n"
     ]
    },
    {
     "name": "stdout",
     "output_type": "stream",
     "text": [
      "Time taken: 142 seconds; L1 error: 6.77E-03; L2 error: 6.22E-05; rel error: 2.33E-02.\n",
      "\n",
      "\n",
      "#### Starting deep branching method with seed 5 - 6 out of 10 times\n"
     ]
    },
    {
     "name": "stderr",
     "output_type": "stream",
     "text": [
      "Logs are saved in /home/nprivault/NTU/nguwi_jiang_yu/burgers/deep_branching_burgers/notebooks/logs/tmp\n"
     ]
    },
    {
     "name": "stdout",
     "output_type": "stream",
     "text": [
      "Time taken: 32 seconds; L1 error: 2.62E-03; L2 error: 1.27E-05; rel error: 7.23E-03.\n",
      "fdb runtime: 0 seconds; total runtime: 32 seconds.\n",
      "#### Starting deep galerkin method with seed 5 - 6 out of 10 times\n",
      "Time taken: 92 seconds; L1 error: 8.74E-04; L2 error: 1.95E-06; rel error: 3.17E-03.\n",
      "#### Starting deep BSDE method with seed 5 - 6 out of 10 times\n"
     ]
    },
    {
     "name": "stderr",
     "output_type": "stream",
     "text": [
      "Logs are saved in /home/nprivault/NTU/nguwi_jiang_yu/burgers/deep_branching_burgers/notebooks/logs/tmp\n"
     ]
    },
    {
     "name": "stdout",
     "output_type": "stream",
     "text": [
      "Time taken: 140 seconds; L1 error: 3.21E-03; L2 error: 1.63E-05; rel error: 1.34E-02.\n",
      "\n",
      "\n",
      "#### Starting deep branching method with seed 6 - 7 out of 10 times\n"
     ]
    },
    {
     "name": "stderr",
     "output_type": "stream",
     "text": [
      "Logs are saved in /home/nprivault/NTU/nguwi_jiang_yu/burgers/deep_branching_burgers/notebooks/logs/tmp\n"
     ]
    },
    {
     "name": "stdout",
     "output_type": "stream",
     "text": [
      "Time taken: 36 seconds; L1 error: 2.44E-03; L2 error: 1.05E-05; rel error: 1.00E-02.\n",
      "fdb runtime: 0 seconds; total runtime: 36 seconds.\n",
      "#### Starting deep galerkin method with seed 6 - 7 out of 10 times\n",
      "Time taken: 93 seconds; L1 error: 5.05E-04; L2 error: 6.53E-07; rel error: 3.60E-03.\n",
      "#### Starting deep BSDE method with seed 6 - 7 out of 10 times\n"
     ]
    },
    {
     "name": "stderr",
     "output_type": "stream",
     "text": [
      "Logs are saved in /home/nprivault/NTU/nguwi_jiang_yu/burgers/deep_branching_burgers/notebooks/logs/tmp\n"
     ]
    },
    {
     "name": "stdout",
     "output_type": "stream",
     "text": [
      "Time taken: 147 seconds; L1 error: 3.12E-03; L2 error: 1.66E-05; rel error: 1.37E-02.\n",
      "\n",
      "\n",
      "#### Starting deep branching method with seed 7 - 8 out of 10 times\n"
     ]
    },
    {
     "name": "stderr",
     "output_type": "stream",
     "text": [
      "Logs are saved in /home/nprivault/NTU/nguwi_jiang_yu/burgers/deep_branching_burgers/notebooks/logs/tmp\n"
     ]
    },
    {
     "name": "stdout",
     "output_type": "stream",
     "text": [
      "Time taken: 35 seconds; L1 error: 2.95E-03; L2 error: 2.02E-05; rel error: 7.93E-03.\n",
      "fdb runtime: 0 seconds; total runtime: 35 seconds.\n",
      "#### Starting deep galerkin method with seed 7 - 8 out of 10 times\n",
      "Time taken: 87 seconds; L1 error: 1.62E-03; L2 error: 1.30E-05; rel error: 4.74E-03.\n",
      "#### Starting deep BSDE method with seed 7 - 8 out of 10 times\n"
     ]
    },
    {
     "name": "stderr",
     "output_type": "stream",
     "text": [
      "Logs are saved in /home/nprivault/NTU/nguwi_jiang_yu/burgers/deep_branching_burgers/notebooks/logs/tmp\n"
     ]
    },
    {
     "name": "stdout",
     "output_type": "stream",
     "text": [
      "Time taken: 143 seconds; L1 error: 5.33E-03; L2 error: 4.07E-05; rel error: 3.45E-02.\n",
      "\n",
      "\n",
      "#### Starting deep branching method with seed 8 - 9 out of 10 times\n"
     ]
    },
    {
     "name": "stderr",
     "output_type": "stream",
     "text": [
      "Logs are saved in /home/nprivault/NTU/nguwi_jiang_yu/burgers/deep_branching_burgers/notebooks/logs/tmp\n"
     ]
    },
    {
     "name": "stdout",
     "output_type": "stream",
     "text": [
      "Time taken: 35 seconds; L1 error: 2.77E-03; L2 error: 1.55E-05; rel error: 8.68E-03.\n",
      "fdb runtime: 0 seconds; total runtime: 35 seconds.\n",
      "#### Starting deep galerkin method with seed 8 - 9 out of 10 times\n",
      "Time taken: 82 seconds; L1 error: 5.07E-04; L2 error: 6.19E-07; rel error: 2.85E-03.\n",
      "#### Starting deep BSDE method with seed 8 - 9 out of 10 times\n"
     ]
    },
    {
     "name": "stderr",
     "output_type": "stream",
     "text": [
      "Logs are saved in /home/nprivault/NTU/nguwi_jiang_yu/burgers/deep_branching_burgers/notebooks/logs/tmp\n"
     ]
    },
    {
     "name": "stdout",
     "output_type": "stream",
     "text": [
      "Time taken: 140 seconds; L1 error: 4.64E-03; L2 error: 2.83E-05; rel error: 3.41E-02.\n",
      "\n",
      "\n",
      "#### Starting deep branching method with seed 9 - 10 out of 10 times\n"
     ]
    },
    {
     "name": "stderr",
     "output_type": "stream",
     "text": [
      "Logs are saved in /home/nprivault/NTU/nguwi_jiang_yu/burgers/deep_branching_burgers/notebooks/logs/tmp\n"
     ]
    },
    {
     "name": "stdout",
     "output_type": "stream",
     "text": [
      "Time taken: 35 seconds; L1 error: 1.93E-03; L2 error: 1.01E-05; rel error: 8.07E-03.\n",
      "fdb runtime: 0 seconds; total runtime: 35 seconds.\n",
      "#### Starting deep galerkin method with seed 9 - 10 out of 10 times\n",
      "Time taken: 85 seconds; L1 error: 1.05E-03; L2 error: 3.61E-06; rel error: 4.21E-03.\n",
      "#### Starting deep BSDE method with seed 9 - 10 out of 10 times\n",
      "Time taken: 136 seconds; L1 error: 5.34E-03; L2 error: 3.33E-05; rel error: 3.96E-02.\n",
      "\n",
      "\n",
      "\n",
      "\n",
      "######## Summary for deep branching method\n",
      "runtime:        34\n",
      "fdb runtime:    0\n",
      "total runtime:  34\n",
      "mean L1 error:  2.50E-03\n",
      "std L1 error:   4.21E-04\n",
      "mean L2 error:  1.29E-05\n",
      "std L2 error:   4.40E-06\n",
      "mean rel error: 8.15E-03\n",
      "std rel error:  1.21E-03\n",
      "\n",
      "\n",
      "######## Summary for deep galerkin method\n",
      "runtime:        87\n",
      "mean L1 error:  8.03E-04\n",
      "std L1 error:   4.14E-04\n",
      "mean L2 error:  2.91E-06\n",
      "std L2 error:   3.75E-06\n",
      "mean rel error: 4.27E-03\n",
      "std rel error:  2.17E-03\n",
      "\n",
      "\n",
      "######## Summary for deep BSDE method\n",
      "runtime:        142\n",
      "mean L1 error:  4.79E-03\n",
      "std L1 error:   1.00E-03\n",
      "mean L2 error:  3.38E-05\n",
      "std L2 error:   1.23E-05\n",
      "mean rel error: 2.66E-02\n",
      "std rel error:  8.29E-03\n"
     ]
    },
    {
     "data": {
      "image/png": "[encoded data removed]",
      "text/plain": [
       "<Figure size 432x288 with 1 Axes>"
      ]
     },
     "metadata": {
      "needs_background": "light"
     },
     "output_type": "display_data"
    }
   ],
   "source": [
    "n, T = 1, 1.0\n",
    "fixed_dim, dim = 0, 1\n",
    "\n",
    "grid, grid_d_dim, grid_d_dim_with_t, t_lo, true, terminal, \\\n",
    "    f_example, deriv_map, phi_example, dgm_f_example = gen_for_generalized_burgers(n=n, T=T)\n",
    "compare_performance(grid, grid_d_dim, grid_d_dim_with_t, t_lo, true, terminal=terminal, # seeds=[0],\n",
    "                    # disable_bsde=True, disable_galerkin=True, verbose=True, debug_mode=True,\n",
    "                    T=T, device=device, epochs=3000, fname=f\"burger_{n}\",\n",
    "                    branch_nb_states=1000, branch_nb_path_per_state=10000,\n",
    "                    branch_patches=1, branch_exponential_lambda=-math.log(.95)/T,\n",
    "                    second_order=True, branch_nb_states_per_batch=200,\n",
    "                    bsde_nb_states=1000, bsde_nb_time_intervals=4,\n",
    "                    dgm_nb_states=10000, f_fun=f_example, dgm_f_fun=dgm_f_example,\n",
    "                    deriv_map=deriv_map, dgm_deriv_map=deriv_map, phi_fun=phi_example,\n",
    "                    lr_gamma=0.1, branch_lr=1e-2, branch_activation=\"tanh\", neurons=20, layers=5,\n",
    "                    save_for_best_model=False, save_as_tmp=True)"
   ]
  },
  {
   "cell_type": "markdown",
   "metadata": {},
   "source": [
    "## Multidimensional Burgers equation"
   ]
  },
  {
   "cell_type": "markdown",
   "metadata": {},
   "source": [
    "### Figure 1-b) n = 1, T = 0.2, d=3\n",
    "$$\n",
    "f(u)\n",
    "= \\frac{2 \\nu}{u_2 - u_1} \\log\\left( \\frac{u_2-u}{u-u_1} \\right),\n",
    "$$\n",
    "see e.g.\n",
    "[wolfram alpha](https://www.wolframalpha.com/input?i=int%5B%28%28u-u1%29*%28u2-u%29%29%5E%281-1%29%2F%28%28u-u1%29*%28u-u2%29%29%2Cu%5D%2C)."
   ]
  },
  {
   "cell_type": "code",
   "execution_count": 9,
   "metadata": {},
   "outputs": [
    {
     "name": "stderr",
     "output_type": "stream",
     "text": [
      "Logs are saved in /home/nprivault/NTU/nguwi_jiang_yu/burgers/deep_branching_burgers/notebooks/logs/tmp\n"
     ]
    },
    {
     "name": "stdout",
     "output_type": "stream",
     "text": [
      "#### Starting deep branching method with seed 0 - 1 out of 10 times\n"
     ]
    },
    {
     "name": "stderr",
     "output_type": "stream",
     "text": [
      "Logs are saved in /home/nprivault/NTU/nguwi_jiang_yu/burgers/deep_branching_burgers/notebooks/logs/tmp\n"
     ]
    },
    {
     "name": "stdout",
     "output_type": "stream",
     "text": [
      "Time taken: 98 seconds; L1 error: 2.37E-03; L2 error: 1.18E-05; rel error: 9.58E-03.\n",
      "fdb runtime: 3 seconds; total runtime: 101 seconds.\n",
      "#### Starting deep galerkin method with seed 0 - 1 out of 10 times\n",
      "Time taken: 133 seconds; L1 error: 2.20E-03; L2 error: 8.57E-06; rel error: 3.90E-02.\n",
      "#### Starting deep BSDE method with seed 0 - 1 out of 10 times\n"
     ]
    },
    {
     "name": "stderr",
     "output_type": "stream",
     "text": [
      "Logs are saved in /home/nprivault/NTU/nguwi_jiang_yu/burgers/deep_branching_burgers/notebooks/logs/tmp\n"
     ]
    },
    {
     "name": "stdout",
     "output_type": "stream",
     "text": [
      "Time taken: 148 seconds; L1 error: 2.18E-03; L2 error: 8.21E-06; rel error: 1.05E-02.\n",
      "\n",
      "\n",
      "#### Starting deep branching method with seed 1 - 2 out of 10 times\n"
     ]
    },
    {
     "name": "stderr",
     "output_type": "stream",
     "text": [
      "Logs are saved in /home/nprivault/NTU/nguwi_jiang_yu/burgers/deep_branching_burgers/notebooks/logs/tmp\n"
     ]
    },
    {
     "name": "stdout",
     "output_type": "stream",
     "text": [
      "Time taken: 93 seconds; L1 error: 1.41E-03; L2 error: 5.10E-06; rel error: 9.59E-03.\n",
      "fdb runtime: 2 seconds; total runtime: 95 seconds.\n",
      "#### Starting deep galerkin method with seed 1 - 2 out of 10 times\n",
      "Time taken: 143 seconds; L1 error: 2.51E-03; L2 error: 8.98E-06; rel error: 3.89E-02.\n",
      "#### Starting deep BSDE method with seed 1 - 2 out of 10 times\n"
     ]
    },
    {
     "name": "stderr",
     "output_type": "stream",
     "text": [
      "Logs are saved in /home/nprivault/NTU/nguwi_jiang_yu/burgers/deep_branching_burgers/notebooks/logs/tmp\n"
     ]
    },
    {
     "name": "stdout",
     "output_type": "stream",
     "text": [
      "Time taken: 139 seconds; L1 error: 3.33E-03; L2 error: 1.79E-05; rel error: 1.35E-02.\n",
      "\n",
      "\n",
      "#### Starting deep branching method with seed 2 - 3 out of 10 times\n"
     ]
    },
    {
     "name": "stderr",
     "output_type": "stream",
     "text": [
      "Logs are saved in /home/nprivault/NTU/nguwi_jiang_yu/burgers/deep_branching_burgers/notebooks/logs/tmp\n"
     ]
    },
    {
     "name": "stdout",
     "output_type": "stream",
     "text": [
      "Time taken: 90 seconds; L1 error: 1.64E-03; L2 error: 5.77E-06; rel error: 8.88E-03.\n",
      "fdb runtime: 2 seconds; total runtime: 91 seconds.\n",
      "#### Starting deep galerkin method with seed 2 - 3 out of 10 times\n",
      "Time taken: 146 seconds; L1 error: 1.97E-03; L2 error: 5.58E-06; rel error: 2.00E-02.\n",
      "#### Starting deep BSDE method with seed 2 - 3 out of 10 times\n"
     ]
    },
    {
     "name": "stderr",
     "output_type": "stream",
     "text": [
      "Logs are saved in /home/nprivault/NTU/nguwi_jiang_yu/burgers/deep_branching_burgers/notebooks/logs/tmp\n"
     ]
    },
    {
     "name": "stdout",
     "output_type": "stream",
     "text": [
      "Time taken: 148 seconds; L1 error: 2.17E-03; L2 error: 6.67E-06; rel error: 1.07E-02.\n",
      "\n",
      "\n",
      "#### Starting deep branching method with seed 3 - 4 out of 10 times\n"
     ]
    },
    {
     "name": "stderr",
     "output_type": "stream",
     "text": [
      "Logs are saved in /home/nprivault/NTU/nguwi_jiang_yu/burgers/deep_branching_burgers/notebooks/logs/tmp\n"
     ]
    },
    {
     "name": "stdout",
     "output_type": "stream",
     "text": [
      "Time taken: 91 seconds; L1 error: 1.20E-03; L2 error: 2.46E-06; rel error: 8.77E-03.\n",
      "fdb runtime: 2 seconds; total runtime: 93 seconds.\n",
      "#### Starting deep galerkin method with seed 3 - 4 out of 10 times\n",
      "Time taken: 149 seconds; L1 error: 1.40E-03; L2 error: 2.54E-06; rel error: 1.71E-02.\n",
      "#### Starting deep BSDE method with seed 3 - 4 out of 10 times\n"
     ]
    },
    {
     "name": "stderr",
     "output_type": "stream",
     "text": [
      "Logs are saved in /home/nprivault/NTU/nguwi_jiang_yu/burgers/deep_branching_burgers/notebooks/logs/tmp\n"
     ]
    },
    {
     "name": "stdout",
     "output_type": "stream",
     "text": [
      "Time taken: 148 seconds; L1 error: 3.69E-03; L2 error: 2.35E-05; rel error: 2.03E-02.\n",
      "\n",
      "\n",
      "#### Starting deep branching method with seed 4 - 5 out of 10 times\n"
     ]
    },
    {
     "name": "stderr",
     "output_type": "stream",
     "text": [
      "Logs are saved in /home/nprivault/NTU/nguwi_jiang_yu/burgers/deep_branching_burgers/notebooks/logs/tmp\n"
     ]
    },
    {
     "name": "stdout",
     "output_type": "stream",
     "text": [
      "Time taken: 94 seconds; L1 error: 1.58E-03; L2 error: 5.71E-06; rel error: 7.21E-03.\n",
      "fdb runtime: 1 seconds; total runtime: 95 seconds.\n",
      "#### Starting deep galerkin method with seed 4 - 5 out of 10 times\n",
      "Time taken: 139 seconds; L1 error: 1.04E-03; L2 error: 1.58E-06; rel error: 6.71E-03.\n",
      "#### Starting deep BSDE method with seed 4 - 5 out of 10 times\n"
     ]
    },
    {
     "name": "stderr",
     "output_type": "stream",
     "text": [
      "Logs are saved in /home/nprivault/NTU/nguwi_jiang_yu/burgers/deep_branching_burgers/notebooks/logs/tmp\n"
     ]
    },
    {
     "name": "stdout",
     "output_type": "stream",
     "text": [
      "Time taken: 147 seconds; L1 error: 3.31E-03; L2 error: 1.65E-05; rel error: 2.68E-02.\n",
      "\n",
      "\n",
      "#### Starting deep branching method with seed 5 - 6 out of 10 times\n"
     ]
    },
    {
     "name": "stderr",
     "output_type": "stream",
     "text": [
      "Logs are saved in /home/nprivault/NTU/nguwi_jiang_yu/burgers/deep_branching_burgers/notebooks/logs/tmp\n"
     ]
    },
    {
     "name": "stdout",
     "output_type": "stream",
     "text": [
      "Time taken: 94 seconds; L1 error: 1.50E-03; L2 error: 3.87E-06; rel error: 8.73E-03.\n",
      "fdb runtime: 2 seconds; total runtime: 96 seconds.\n",
      "#### Starting deep galerkin method with seed 5 - 6 out of 10 times\n",
      "Time taken: 146 seconds; L1 error: 2.60E-03; L2 error: 9.88E-06; rel error: 3.18E-02.\n",
      "#### Starting deep BSDE method with seed 5 - 6 out of 10 times\n"
     ]
    },
    {
     "name": "stderr",
     "output_type": "stream",
     "text": [
      "Logs are saved in /home/nprivault/NTU/nguwi_jiang_yu/burgers/deep_branching_burgers/notebooks/logs/tmp\n"
     ]
    },
    {
     "name": "stdout",
     "output_type": "stream",
     "text": [
      "Time taken: 136 seconds; L1 error: 2.82E-03; L2 error: 1.35E-05; rel error: 1.24E-02.\n",
      "\n",
      "\n",
      "#### Starting deep branching method with seed 6 - 7 out of 10 times\n"
     ]
    },
    {
     "name": "stderr",
     "output_type": "stream",
     "text": [
      "Logs are saved in /home/nprivault/NTU/nguwi_jiang_yu/burgers/deep_branching_burgers/notebooks/logs/tmp\n"
     ]
    },
    {
     "name": "stdout",
     "output_type": "stream",
     "text": [
      "Time taken: 91 seconds; L1 error: 2.45E-03; L2 error: 1.52E-05; rel error: 7.37E-03.\n",
      "fdb runtime: 2 seconds; total runtime: 93 seconds.\n",
      "#### Starting deep galerkin method with seed 6 - 7 out of 10 times\n",
      "Time taken: 131 seconds; L1 error: 2.79E-03; L2 error: 1.05E-05; rel error: 4.47E-02.\n",
      "#### Starting deep BSDE method with seed 6 - 7 out of 10 times\n"
     ]
    },
    {
     "name": "stderr",
     "output_type": "stream",
     "text": [
      "Logs are saved in /home/nprivault/NTU/nguwi_jiang_yu/burgers/deep_branching_burgers/notebooks/logs/tmp\n"
     ]
    },
    {
     "name": "stdout",
     "output_type": "stream",
     "text": [
      "Time taken: 137 seconds; L1 error: 2.10E-03; L2 error: 7.05E-06; rel error: 8.14E-03.\n",
      "\n",
      "\n",
      "#### Starting deep branching method with seed 7 - 8 out of 10 times\n"
     ]
    },
    {
     "name": "stderr",
     "output_type": "stream",
     "text": [
      "Logs are saved in /home/nprivault/NTU/nguwi_jiang_yu/burgers/deep_branching_burgers/notebooks/logs/tmp\n"
     ]
    },
    {
     "name": "stdout",
     "output_type": "stream",
     "text": [
      "Time taken: 84 seconds; L1 error: 1.70E-03; L2 error: 5.87E-06; rel error: 5.57E-03.\n",
      "fdb runtime: 2 seconds; total runtime: 86 seconds.\n",
      "#### Starting deep galerkin method with seed 7 - 8 out of 10 times\n",
      "Time taken: 139 seconds; L1 error: 1.80E-03; L2 error: 4.23E-06; rel error: 1.26E-02.\n",
      "#### Starting deep BSDE method with seed 7 - 8 out of 10 times\n"
     ]
    },
    {
     "name": "stderr",
     "output_type": "stream",
     "text": [
      "Logs are saved in /home/nprivault/NTU/nguwi_jiang_yu/burgers/deep_branching_burgers/notebooks/logs/tmp\n"
     ]
    },
    {
     "name": "stdout",
     "output_type": "stream",
     "text": [
      "Time taken: 151 seconds; L1 error: 4.47E-03; L2 error: 2.92E-05; rel error: 2.27E-02.\n",
      "\n",
      "\n",
      "#### Starting deep branching method with seed 8 - 9 out of 10 times\n"
     ]
    },
    {
     "name": "stderr",
     "output_type": "stream",
     "text": [
      "Logs are saved in /home/nprivault/NTU/nguwi_jiang_yu/burgers/deep_branching_burgers/notebooks/logs/tmp\n"
     ]
    },
    {
     "name": "stdout",
     "output_type": "stream",
     "text": [
      "Time taken: 89 seconds; L1 error: 1.51E-03; L2 error: 7.13E-06; rel error: 5.02E-03.\n",
      "fdb runtime: 1 seconds; total runtime: 91 seconds.\n",
      "#### Starting deep galerkin method with seed 8 - 9 out of 10 times\n",
      "Time taken: 142 seconds; L1 error: 2.01E-03; L2 error: 6.45E-06; rel error: 2.74E-02.\n",
      "#### Starting deep BSDE method with seed 8 - 9 out of 10 times\n"
     ]
    },
    {
     "name": "stderr",
     "output_type": "stream",
     "text": [
      "Logs are saved in /home/nprivault/NTU/nguwi_jiang_yu/burgers/deep_branching_burgers/notebooks/logs/tmp\n"
     ]
    },
    {
     "name": "stdout",
     "output_type": "stream",
     "text": [
      "Time taken: 143 seconds; L1 error: 4.97E-03; L2 error: 2.78E-05; rel error: 5.08E-02.\n",
      "\n",
      "\n",
      "#### Starting deep branching method with seed 9 - 10 out of 10 times\n"
     ]
    },
    {
     "name": "stderr",
     "output_type": "stream",
     "text": [
      "Logs are saved in /home/nprivault/NTU/nguwi_jiang_yu/burgers/deep_branching_burgers/notebooks/logs/tmp\n"
     ]
    },
    {
     "name": "stdout",
     "output_type": "stream",
     "text": [
      "Time taken: 96 seconds; L1 error: 1.86E-03; L2 error: 6.14E-06; rel error: 1.02E-02.\n",
      "fdb runtime: 3 seconds; total runtime: 99 seconds.\n",
      "#### Starting deep galerkin method with seed 9 - 10 out of 10 times\n",
      "Time taken: 138 seconds; L1 error: 2.38E-03; L2 error: 9.36E-06; rel error: 1.10E-02.\n",
      "#### Starting deep BSDE method with seed 9 - 10 out of 10 times\n",
      "Time taken: 150 seconds; L1 error: 3.00E-03; L2 error: 1.66E-05; rel error: 1.02E-02.\n",
      "\n",
      "\n",
      "\n",
      "\n",
      "######## Summary for deep branching method\n",
      "runtime:        92\n",
      "fdb runtime:    2\n",
      "total runtime:  94\n",
      "mean L1 error:  1.72E-03\n",
      "std L1 error:   3.83E-04\n",
      "mean L2 error:  6.91E-06\n",
      "std L2 error:   3.60E-06\n",
      "mean rel error: 8.09E-03\n",
      "std rel error:  1.66E-03\n",
      "\n",
      "\n",
      "######## Summary for deep galerkin method\n",
      "runtime:        140\n",
      "mean L1 error:  2.07E-03\n",
      "std L1 error:   5.22E-04\n",
      "mean L2 error:  6.77E-06\n",
      "std L2 error:   3.03E-06\n",
      "mean rel error: 2.49E-02\n",
      "std rel error:  1.26E-02\n",
      "\n",
      "\n",
      "######## Summary for deep BSDE method\n",
      "runtime:        145\n",
      "mean L1 error:  3.20E-03\n",
      "std L1 error:   9.23E-04\n",
      "mean L2 error:  1.67E-05\n",
      "std L2 error:   7.77E-06\n",
      "mean rel error: 1.86E-02\n",
      "std rel error:  1.22E-02\n"
     ]
    },
    {
     "data": {
      "image/png": "[encoded data removed]",
      "text/plain": [
       "<Figure size 432x288 with 1 Axes>"
      ]
     },
     "metadata": {
      "needs_background": "light"
     },
     "output_type": "display_data"
    }
   ],
   "source": [
    "n, T = 1, 0.2\n",
    "fixed_dim, dim = 0, 3\n",
    "\n",
    "grid, grid_d_dim, grid_d_dim_with_t, t_lo, true, terminal, \\\n",
    "    f_example, deriv_map, phi_example, dgm_f_example = gen_for_generalized_burgers(n=n, T=T)\n",
    "compare_performance(grid, grid_d_dim, grid_d_dim_with_t, t_lo, true, terminal=terminal, # seeds=[0],\n",
    "                    # disable_bsde=True, disable_galerkin=True, verbose=True, debug_mode=True,\n",
    "                    T=T, device=device, epochs=3000, fname=f\"burger_{n}\",\n",
    "                    branch_nb_states=1000, branch_nb_path_per_state=10000,\n",
    "                    branch_patches=1, branch_exponential_lambda=-math.log(.95)/T,\n",
    "                    second_order=True, branch_nb_states_per_batch=200,\n",
    "                    bsde_nb_states=1000, bsde_nb_time_intervals=4,\n",
    "                    dgm_nb_states=10000, f_fun=f_example, dgm_f_fun=dgm_f_example,\n",
    "                    deriv_map=deriv_map, dgm_deriv_map=deriv_map, phi_fun=phi_example,\n",
    "                    lr_gamma=0.1, branch_lr=1e-2, branch_activation=\"tanh\", neurons=20, layers=5,\n",
    "                    save_for_best_model=False, save_as_tmp=True)"
   ]
  },
  {
   "cell_type": "markdown",
   "metadata": {},
   "source": [
    "## Non-Newtonian Burgers equation"
   ]
  },
  {
   "cell_type": "markdown",
   "metadata": {},
   "source": [
    "$$\n",
    "\\partial_t u(t, x)\n",
    "+ \\frac{\\nu}{2} \n",
    "\\partial_x \\left( |\\partial_x u(t, x)|^{n - 1} \\partial_x u(t, x) \\right)\n",
    "- u \\partial_x u(t, x)\n",
    "= 0,\n",
    "$$\n",
    "admits the solution\n",
    "$$\n",
    "u(t, x) =\n",
    "f^{-1}(\\xi),\n",
    "\\qquad (t,x) \\in [0,T]\\times \\mathbb{R},\n",
    "$$\n",
    "where $\\xi := x - \\frac{u_1+u_2}{2}(T-t)$\n",
    "and\n",
    "$$\n",
    "f(u)\n",
    "= (2 \\nu)^{1/n} \\int \\frac{((u - u_1)(u_2 - u))^{1 - 1/n}}{(u - u_1)(u - u_2)} du.\n",
    "$$\n",
    "\n",
    "The PDE solution $u$ satisfies the property that\n",
    "$$\n",
    "\\lim\\limits_{x \\to -\\infty} u(t, x) = u_2,\n",
    "\\quad\n",
    "\\lim\\limits_{x \\to \\infty} u(t, x) = u_1,\n",
    "\\quad\n",
    "\\lim\\limits_{|x| \\to \\infty} \\partial_x u(t, x) = 0,\n",
    "$$\n",
    "where $u_2 > u_1$.\n",
    "\n",
    "We note that since\n",
    "the inverse function of $f$ may not be available in closed-form,\n",
    "we use the library `pynverse`\n",
    "to obtain pointwise samples of the inverse function.\n",
    "Then, we use neural nertwork written in PyTorch\n",
    "to learn the pointwise samples\n",
    "so that we have the full knowledge of the derivatives of $\\phi$\n",
    "to be used by the deep branching solver."
   ]
  },
  {
   "cell_type": "markdown",
   "metadata": {},
   "source": [
    "### Figure 5-a) with d=1, n=2 and T=0.3"
   ]
  },
  {
   "cell_type": "code",
   "execution_count": 11,
   "metadata": {},
   "outputs": [
    {
     "name": "stdout",
     "output_type": "stream",
     "text": [
      "#### Starting deep branching method with seed 0 - 1 out of 10 times\n"
     ]
    },
    {
     "name": "stderr",
     "output_type": "stream",
     "text": [
      "Logs are saved in /home/nprivault/NTU/nguwi_jiang_yu/burgers/deep_branching_burgers/notebooks/logs/tmp\n",
      "Logs are saved in /home/nprivault/NTU/nguwi_jiang_yu/burgers/deep_branching_burgers/notebooks/logs/tmp\n"
     ]
    },
    {
     "name": "stdout",
     "output_type": "stream",
     "text": [
      "Time taken: 38 seconds; L1 error: 6.04E-03; L2 error: 6.54E-05; rel error: 3.53E-02.\n",
      "fdb runtime: 0 seconds; total runtime: 38 seconds.\n",
      "#### Starting deep galerkin method with seed 0 - 1 out of 10 times\n",
      "Time taken: 90 seconds; L1 error: 4.40E-03; L2 error: 3.06E-05; rel error: 1.24E-02.\n",
      "#### Starting deep BSDE method with seed 0 - 1 out of 10 times\n"
     ]
    },
    {
     "name": "stderr",
     "output_type": "stream",
     "text": [
      "Logs are saved in /home/nprivault/NTU/nguwi_jiang_yu/burgers/deep_branching_burgers/notebooks/logs/tmp\n"
     ]
    },
    {
     "name": "stdout",
     "output_type": "stream",
     "text": [
      "Time taken: 153 seconds; L1 error: 9.85E-02; L2 error: 1.20E-02; rel error: 5.64E-01.\n",
      "\n",
      "\n",
      "#### Starting deep branching method with seed 1 - 2 out of 10 times\n"
     ]
    },
    {
     "name": "stderr",
     "output_type": "stream",
     "text": [
      "Logs are saved in /home/nprivault/NTU/nguwi_jiang_yu/burgers/deep_branching_burgers/notebooks/logs/tmp\n"
     ]
    },
    {
     "name": "stdout",
     "output_type": "stream",
     "text": [
      "Time taken: 34 seconds; L1 error: 4.36E-03; L2 error: 3.69E-05; rel error: 2.29E-02.\n",
      "fdb runtime: 0 seconds; total runtime: 34 seconds.\n",
      "#### Starting deep galerkin method with seed 1 - 2 out of 10 times\n",
      "Time taken: 85 seconds; L1 error: 1.09E-03; L2 error: 7.68E-06; rel error: 1.75E-03.\n",
      "#### Starting deep BSDE method with seed 1 - 2 out of 10 times\n"
     ]
    },
    {
     "name": "stderr",
     "output_type": "stream",
     "text": [
      "Logs are saved in /home/nprivault/NTU/nguwi_jiang_yu/burgers/deep_branching_burgers/notebooks/logs/tmp\n"
     ]
    },
    {
     "name": "stdout",
     "output_type": "stream",
     "text": [
      "Time taken: 151 seconds; L1 error: 4.42E-02; L2 error: 2.38E-03; rel error: 2.44E-01.\n",
      "\n",
      "\n",
      "#### Starting deep branching method with seed 2 - 3 out of 10 times\n"
     ]
    },
    {
     "name": "stderr",
     "output_type": "stream",
     "text": [
      "Logs are saved in /home/nprivault/NTU/nguwi_jiang_yu/burgers/deep_branching_burgers/notebooks/logs/tmp\n"
     ]
    },
    {
     "name": "stdout",
     "output_type": "stream",
     "text": [
      "Time taken: 36 seconds; L1 error: 5.93E-03; L2 error: 5.56E-05; rel error: 3.53E-02.\n",
      "fdb runtime: 0 seconds; total runtime: 36 seconds.\n",
      "#### Starting deep galerkin method with seed 2 - 3 out of 10 times\n",
      "Time taken: 84 seconds; L1 error: 1.26E-03; L2 error: 1.15E-05; rel error: 1.51E-03.\n",
      "#### Starting deep BSDE method with seed 2 - 3 out of 10 times\n"
     ]
    },
    {
     "name": "stderr",
     "output_type": "stream",
     "text": [
      "Logs are saved in /home/nprivault/NTU/nguwi_jiang_yu/burgers/deep_branching_burgers/notebooks/logs/tmp\n"
     ]
    },
    {
     "name": "stdout",
     "output_type": "stream",
     "text": [
      "Time taken: 144 seconds; L1 error: 9.44E-02; L2 error: 1.11E-02; rel error: 5.81E-01.\n",
      "\n",
      "\n",
      "#### Starting deep branching method with seed 3 - 4 out of 10 times\n"
     ]
    },
    {
     "name": "stderr",
     "output_type": "stream",
     "text": [
      "Logs are saved in /home/nprivault/NTU/nguwi_jiang_yu/burgers/deep_branching_burgers/notebooks/logs/tmp\n"
     ]
    },
    {
     "name": "stdout",
     "output_type": "stream",
     "text": [
      "Time taken: 36 seconds; L1 error: 5.79E-03; L2 error: 5.80E-05; rel error: 3.36E-02.\n",
      "fdb runtime: 0 seconds; total runtime: 36 seconds.\n",
      "#### Starting deep galerkin method with seed 3 - 4 out of 10 times\n",
      "Time taken: 85 seconds; L1 error: 1.21E-03; L2 error: 3.96E-06; rel error: 3.12E-03.\n",
      "#### Starting deep BSDE method with seed 3 - 4 out of 10 times\n"
     ]
    },
    {
     "name": "stderr",
     "output_type": "stream",
     "text": [
      "Logs are saved in /home/nprivault/NTU/nguwi_jiang_yu/burgers/deep_branching_burgers/notebooks/logs/tmp\n"
     ]
    },
    {
     "name": "stdout",
     "output_type": "stream",
     "text": [
      "Time taken: 149 seconds; L1 error: 8.64E-02; L2 error: 9.35E-03; rel error: 5.38E-01.\n",
      "\n",
      "\n",
      "#### Starting deep branching method with seed 4 - 5 out of 10 times\n"
     ]
    },
    {
     "name": "stderr",
     "output_type": "stream",
     "text": [
      "Logs are saved in /home/nprivault/NTU/nguwi_jiang_yu/burgers/deep_branching_burgers/notebooks/logs/tmp\n"
     ]
    },
    {
     "name": "stdout",
     "output_type": "stream",
     "text": [
      "Time taken: 38 seconds; L1 error: 5.82E-03; L2 error: 4.47E-05; rel error: 3.54E-02.\n",
      "fdb runtime: 0 seconds; total runtime: 38 seconds.\n",
      "#### Starting deep galerkin method with seed 4 - 5 out of 10 times\n",
      "Time taken: 88 seconds; L1 error: 3.04E-03; L2 error: 1.47E-05; rel error: 7.58E-03.\n",
      "#### Starting deep BSDE method with seed 4 - 5 out of 10 times\n"
     ]
    },
    {
     "name": "stderr",
     "output_type": "stream",
     "text": [
      "Logs are saved in /home/nprivault/NTU/nguwi_jiang_yu/burgers/deep_branching_burgers/notebooks/logs/tmp\n"
     ]
    },
    {
     "name": "stdout",
     "output_type": "stream",
     "text": [
      "Time taken: 149 seconds; L1 error: 9.95E-02; L2 error: 1.22E-02; rel error: 5.73E-01.\n",
      "\n",
      "\n",
      "#### Starting deep branching method with seed 5 - 6 out of 10 times\n"
     ]
    },
    {
     "name": "stderr",
     "output_type": "stream",
     "text": [
      "Logs are saved in /home/nprivault/NTU/nguwi_jiang_yu/burgers/deep_branching_burgers/notebooks/logs/tmp\n"
     ]
    },
    {
     "name": "stdout",
     "output_type": "stream",
     "text": [
      "Time taken: 36 seconds; L1 error: 3.83E-03; L2 error: 3.00E-05; rel error: 2.52E-02.\n",
      "fdb runtime: 0 seconds; total runtime: 36 seconds.\n",
      "#### Starting deep galerkin method with seed 5 - 6 out of 10 times\n",
      "Time taken: 80 seconds; L1 error: 2.12E-03; L2 error: 2.83E-05; rel error: 2.82E-03.\n",
      "#### Starting deep BSDE method with seed 5 - 6 out of 10 times\n"
     ]
    },
    {
     "name": "stderr",
     "output_type": "stream",
     "text": [
      "Logs are saved in /home/nprivault/NTU/nguwi_jiang_yu/burgers/deep_branching_burgers/notebooks/logs/tmp\n"
     ]
    },
    {
     "name": "stdout",
     "output_type": "stream",
     "text": [
      "Time taken: 141 seconds; L1 error: 3.74E-02; L2 error: 1.97E-03; rel error: 2.50E-01.\n",
      "\n",
      "\n",
      "#### Starting deep branching method with seed 6 - 7 out of 10 times\n"
     ]
    },
    {
     "name": "stderr",
     "output_type": "stream",
     "text": [
      "Logs are saved in /home/nprivault/NTU/nguwi_jiang_yu/burgers/deep_branching_burgers/notebooks/logs/tmp\n"
     ]
    },
    {
     "name": "stdout",
     "output_type": "stream",
     "text": [
      "Time taken: 36 seconds; L1 error: 4.73E-03; L2 error: 4.05E-05; rel error: 2.88E-02.\n",
      "fdb runtime: 0 seconds; total runtime: 36 seconds.\n",
      "#### Starting deep galerkin method with seed 6 - 7 out of 10 times\n",
      "Time taken: 81 seconds; L1 error: 1.78E-03; L2 error: 1.97E-05; rel error: 2.26E-03.\n",
      "#### Starting deep BSDE method with seed 6 - 7 out of 10 times\n"
     ]
    },
    {
     "name": "stderr",
     "output_type": "stream",
     "text": [
      "Logs are saved in /home/nprivault/NTU/nguwi_jiang_yu/burgers/deep_branching_burgers/notebooks/logs/tmp\n"
     ]
    },
    {
     "name": "stdout",
     "output_type": "stream",
     "text": [
      "Time taken: 151 seconds; L1 error: 8.28E-02; L2 error: 8.29E-03; rel error: 4.77E-01.\n",
      "\n",
      "\n",
      "#### Starting deep branching method with seed 7 - 8 out of 10 times\n"
     ]
    },
    {
     "name": "stderr",
     "output_type": "stream",
     "text": [
      "Logs are saved in /home/nprivault/NTU/nguwi_jiang_yu/burgers/deep_branching_burgers/notebooks/logs/tmp\n"
     ]
    },
    {
     "name": "stdout",
     "output_type": "stream",
     "text": [
      "Time taken: 34 seconds; L1 error: 5.50E-03; L2 error: 5.59E-05; rel error: 4.51E-02.\n",
      "fdb runtime: 0 seconds; total runtime: 34 seconds.\n",
      "#### Starting deep galerkin method with seed 7 - 8 out of 10 times\n",
      "Time taken: 80 seconds; L1 error: 2.15E-03; L2 error: 2.63E-05; rel error: 4.45E-03.\n",
      "#### Starting deep BSDE method with seed 7 - 8 out of 10 times\n"
     ]
    },
    {
     "name": "stderr",
     "output_type": "stream",
     "text": [
      "Logs are saved in /home/nprivault/NTU/nguwi_jiang_yu/burgers/deep_branching_burgers/notebooks/logs/tmp\n"
     ]
    },
    {
     "name": "stdout",
     "output_type": "stream",
     "text": [
      "Time taken: 150 seconds; L1 error: 7.65E-02; L2 error: 7.88E-03; rel error: 5.39E-01.\n",
      "\n",
      "\n",
      "#### Starting deep branching method with seed 8 - 9 out of 10 times\n"
     ]
    },
    {
     "name": "stderr",
     "output_type": "stream",
     "text": [
      "Logs are saved in /home/nprivault/NTU/nguwi_jiang_yu/burgers/deep_branching_burgers/notebooks/logs/tmp\n"
     ]
    },
    {
     "name": "stdout",
     "output_type": "stream",
     "text": [
      "Time taken: 33 seconds; L1 error: 4.87E-03; L2 error: 4.91E-05; rel error: 2.47E-02.\n",
      "fdb runtime: 0 seconds; total runtime: 33 seconds.\n",
      "#### Starting deep galerkin method with seed 8 - 9 out of 10 times\n",
      "Time taken: 82 seconds; L1 error: 1.14E-03; L2 error: 3.61E-06; rel error: 2.29E-03.\n",
      "#### Starting deep BSDE method with seed 8 - 9 out of 10 times\n"
     ]
    },
    {
     "name": "stderr",
     "output_type": "stream",
     "text": [
      "Logs are saved in /home/nprivault/NTU/nguwi_jiang_yu/burgers/deep_branching_burgers/notebooks/logs/tmp\n"
     ]
    },
    {
     "name": "stdout",
     "output_type": "stream",
     "text": [
      "Time taken: 156 seconds; L1 error: 1.02E-01; L2 error: 1.28E-02; rel error: 5.87E-01.\n",
      "\n",
      "\n",
      "#### Starting deep branching method with seed 9 - 10 out of 10 times\n"
     ]
    },
    {
     "name": "stderr",
     "output_type": "stream",
     "text": [
      "Logs are saved in /home/nprivault/NTU/nguwi_jiang_yu/burgers/deep_branching_burgers/notebooks/logs/tmp\n"
     ]
    },
    {
     "name": "stdout",
     "output_type": "stream",
     "text": [
      "Time taken: 37 seconds; L1 error: 4.96E-03; L2 error: 4.85E-05; rel error: 2.85E-02.\n",
      "fdb runtime: 0 seconds; total runtime: 37 seconds.\n",
      "#### Starting deep galerkin method with seed 9 - 10 out of 10 times\n",
      "Time taken: 79 seconds; L1 error: 1.91E-03; L2 error: 8.03E-06; rel error: 6.11E-03.\n",
      "#### Starting deep BSDE method with seed 9 - 10 out of 10 times\n",
      "Time taken: 151 seconds; L1 error: 1.09E-01; L2 error: 1.46E-02; rel error: 6.08E-01.\n",
      "\n",
      "\n",
      "\n",
      "\n",
      "######## Summary for deep branching method\n",
      "runtime:        36\n",
      "fdb runtime:    0\n",
      "total runtime:  36\n",
      "mean L1 error:  5.18E-03\n",
      "std L1 error:   7.07E-04\n",
      "mean L2 error:  4.84E-05\n",
      "std L2 error:   1.02E-05\n",
      "mean rel error: 3.15E-02\n",
      "std rel error:  6.41E-03\n",
      "\n",
      "\n",
      "######## Summary for deep galerkin method\n",
      "runtime:        83\n",
      "mean L1 error:  2.01E-03\n",
      "std L1 error:   9.82E-04\n",
      "mean L2 error:  1.54E-05\n",
      "std L2 error:   9.67E-06\n",
      "mean rel error: 4.43E-03\n",
      "std rel error:  3.26E-03\n",
      "\n",
      "\n",
      "######## Summary for deep BSDE method\n",
      "runtime:        150\n",
      "mean L1 error:  8.30E-02\n",
      "std L1 error:   2.30E-02\n",
      "mean L2 error:  9.26E-03\n",
      "std L2 error:   4.05E-03\n",
      "mean rel error: 4.96E-01\n",
      "std rel error:  1.29E-01\n"
     ]
    },
    {
     "data": {
      "image/png": "[encoded data removed]",
      "text/plain": [
       "<Figure size 432x288 with 1 Axes>"
      ]
     },
     "metadata": {
      "needs_background": "light"
     },
     "output_type": "display_data"
    }
   ],
   "source": [
    "n, T = 2, 0.3\n",
    "fixed_dim, dim = 0, 1\n",
    "\n",
    "grid, grid_d_dim, grid_d_dim_with_t, t_lo, true, terminal, \\\n",
    "    f_example, deriv_map, phi_example, dgm_f_example = gen_for_generalized_burgers(n=n, T=T # , eps=1e-3, eps_graph=1e-1)\n",
    "                                                                                  )\n",
    "compare_performance(grid, grid_d_dim, grid_d_dim_with_t, t_lo, true, terminal=terminal, # seeds=[0],\n",
    "                    # disable_bsde=True, disable_galerkin=True, \n",
    "                    # verbose=True, debug_mode=True,\n",
    "                    T=T, device=device, epochs=3000, fname=f\"burger_{n}_T_{T}\",\n",
    "                    branch_nb_states=1000, branch_nb_path_per_state=10000,\n",
    "                    branch_patches=1, branch_exponential_lambda=-math.log(.95)/T,\n",
    "                    second_order=True, branch_nb_states_per_batch=200,\n",
    "                    bsde_nb_states=1000, bsde_nb_time_intervals=4,\n",
    "                    dgm_nb_states=10000, f_fun=f_example, dgm_f_fun=dgm_f_example,\n",
    "                    deriv_map=deriv_map, dgm_deriv_map=deriv_map, phi_fun=phi_example,\n",
    "                    lr_gamma=0.1, branch_lr=1e-2, branch_activation=\"tanh\", neurons=20, layers=5,\n",
    "                    save_for_best_model=False, save_as_tmp=True)"
   ]
  },
  {
   "cell_type": "markdown",
   "metadata": {},
   "source": [
    "### Figure 5-b) with d=1, n=3 and T=0.2"
   ]
  },
  {
   "cell_type": "code",
   "execution_count": 12,
   "metadata": {},
   "outputs": [
    {
     "name": "stderr",
     "output_type": "stream",
     "text": [
      "Logs are saved in /home/nprivault/NTU/nguwi_jiang_yu/burgers/deep_branching_burgers/notebooks/logs/tmp\n"
     ]
    },
    {
     "name": "stdout",
     "output_type": "stream",
     "text": [
      "#### Starting deep branching method with seed 0 - 1 out of 10 times\n"
     ]
    },
    {
     "name": "stderr",
     "output_type": "stream",
     "text": [
      "Logs are saved in /home/nprivault/NTU/nguwi_jiang_yu/burgers/deep_branching_burgers/notebooks/logs/tmp\n"
     ]
    },
    {
     "name": "stdout",
     "output_type": "stream",
     "text": [
      "Time taken: 53 seconds; L1 error: 8.05E-03; L2 error: 9.48E-05; rel error: 2.55E-02.\n",
      "fdb runtime: 0 seconds; total runtime: 53 seconds.\n",
      "#### Starting deep galerkin method with seed 0 - 1 out of 10 times\n",
      "Time taken: 91 seconds; L1 error: 2.50E-03; L2 error: 2.27E-05; rel error: 5.95E-03.\n",
      "#### Starting deep BSDE method with seed 0 - 1 out of 10 times\n"
     ]
    },
    {
     "name": "stderr",
     "output_type": "stream",
     "text": [
      "Logs are saved in /home/nprivault/NTU/nguwi_jiang_yu/burgers/deep_branching_burgers/notebooks/logs/tmp\n"
     ]
    },
    {
     "name": "stdout",
     "output_type": "stream",
     "text": [
      "Time taken: 161 seconds; L1 error: 1.29E-02; L2 error: 2.82E-04; rel error: 5.87E-02.\n",
      "\n",
      "\n",
      "#### Starting deep branching method with seed 1 - 2 out of 10 times\n"
     ]
    },
    {
     "name": "stderr",
     "output_type": "stream",
     "text": [
      "Logs are saved in /home/nprivault/NTU/nguwi_jiang_yu/burgers/deep_branching_burgers/notebooks/logs/tmp\n"
     ]
    },
    {
     "name": "stdout",
     "output_type": "stream",
     "text": [
      "Time taken: 56 seconds; L1 error: 7.43E-03; L2 error: 1.01E-04; rel error: 2.59E-02.\n",
      "fdb runtime: 0 seconds; total runtime: 56 seconds.\n",
      "#### Starting deep galerkin method with seed 1 - 2 out of 10 times\n",
      "Time taken: 85 seconds; L1 error: 2.38E-03; L2 error: 1.90E-05; rel error: 6.12E-03.\n",
      "#### Starting deep BSDE method with seed 1 - 2 out of 10 times\n"
     ]
    },
    {
     "name": "stderr",
     "output_type": "stream",
     "text": [
      "Logs are saved in /home/nprivault/NTU/nguwi_jiang_yu/burgers/deep_branching_burgers/notebooks/logs/tmp\n"
     ]
    },
    {
     "name": "stdout",
     "output_type": "stream",
     "text": [
      "Time taken: 160 seconds; L1 error: 1.55E-02; L2 error: 5.57E-04; rel error: 1.01E-01.\n",
      "\n",
      "\n",
      "#### Starting deep branching method with seed 2 - 3 out of 10 times\n"
     ]
    },
    {
     "name": "stderr",
     "output_type": "stream",
     "text": [
      "Logs are saved in /home/nprivault/NTU/nguwi_jiang_yu/burgers/deep_branching_burgers/notebooks/logs/tmp\n"
     ]
    },
    {
     "name": "stdout",
     "output_type": "stream",
     "text": [
      "Time taken: 55 seconds; L1 error: 8.72E-03; L2 error: 1.22E-04; rel error: 2.37E-02.\n",
      "fdb runtime: 0 seconds; total runtime: 55 seconds.\n",
      "#### Starting deep galerkin method with seed 2 - 3 out of 10 times\n",
      "Time taken: 90 seconds; L1 error: 3.56E-03; L2 error: 3.74E-05; rel error: 9.64E-03.\n",
      "#### Starting deep BSDE method with seed 2 - 3 out of 10 times\n"
     ]
    },
    {
     "name": "stderr",
     "output_type": "stream",
     "text": [
      "Logs are saved in /home/nprivault/NTU/nguwi_jiang_yu/burgers/deep_branching_burgers/notebooks/logs/tmp\n"
     ]
    },
    {
     "name": "stdout",
     "output_type": "stream",
     "text": [
      "Time taken: 153 seconds; L1 error: 1.28E-02; L2 error: 3.93E-04; rel error: 3.44E-02.\n",
      "\n",
      "\n",
      "#### Starting deep branching method with seed 3 - 4 out of 10 times\n"
     ]
    },
    {
     "name": "stderr",
     "output_type": "stream",
     "text": [
      "Logs are saved in /home/nprivault/NTU/nguwi_jiang_yu/burgers/deep_branching_burgers/notebooks/logs/tmp\n"
     ]
    },
    {
     "name": "stdout",
     "output_type": "stream",
     "text": [
      "Time taken: 55 seconds; L1 error: 8.03E-03; L2 error: 9.90E-05; rel error: 3.28E-02.\n",
      "fdb runtime: 0 seconds; total runtime: 55 seconds.\n",
      "#### Starting deep galerkin method with seed 3 - 4 out of 10 times\n",
      "Time taken: 91 seconds; L1 error: 1.86E-03; L2 error: 9.47E-06; rel error: 5.60E-03.\n",
      "#### Starting deep BSDE method with seed 3 - 4 out of 10 times\n"
     ]
    },
    {
     "name": "stderr",
     "output_type": "stream",
     "text": [
      "Logs are saved in /home/nprivault/NTU/nguwi_jiang_yu/burgers/deep_branching_burgers/notebooks/logs/tmp\n"
     ]
    },
    {
     "name": "stdout",
     "output_type": "stream",
     "text": [
      "Time taken: 153 seconds; L1 error: 1.98E-02; L2 error: 4.75E-04; rel error: 8.83E-02.\n",
      "\n",
      "\n",
      "#### Starting deep branching method with seed 4 - 5 out of 10 times\n"
     ]
    },
    {
     "name": "stderr",
     "output_type": "stream",
     "text": [
      "Logs are saved in /home/nprivault/NTU/nguwi_jiang_yu/burgers/deep_branching_burgers/notebooks/logs/tmp\n"
     ]
    },
    {
     "name": "stdout",
     "output_type": "stream",
     "text": [
      "Time taken: 55 seconds; L1 error: 7.27E-03; L2 error: 8.54E-05; rel error: 2.10E-02.\n",
      "fdb runtime: 0 seconds; total runtime: 55 seconds.\n",
      "#### Starting deep galerkin method with seed 4 - 5 out of 10 times\n",
      "Time taken: 94 seconds; L1 error: 2.61E-03; L2 error: 2.22E-05; rel error: 7.01E-03.\n",
      "#### Starting deep BSDE method with seed 4 - 5 out of 10 times\n"
     ]
    },
    {
     "name": "stderr",
     "output_type": "stream",
     "text": [
      "Logs are saved in /home/nprivault/NTU/nguwi_jiang_yu/burgers/deep_branching_burgers/notebooks/logs/tmp\n"
     ]
    },
    {
     "name": "stdout",
     "output_type": "stream",
     "text": [
      "Time taken: 158 seconds; L1 error: 2.86E-02; L2 error: 1.61E-03; rel error: 1.58E-01.\n",
      "\n",
      "\n",
      "#### Starting deep branching method with seed 5 - 6 out of 10 times\n"
     ]
    },
    {
     "name": "stderr",
     "output_type": "stream",
     "text": [
      "Logs are saved in /home/nprivault/NTU/nguwi_jiang_yu/burgers/deep_branching_burgers/notebooks/logs/tmp\n"
     ]
    },
    {
     "name": "stdout",
     "output_type": "stream",
     "text": [
      "Time taken: 56 seconds; L1 error: 7.89E-03; L2 error: 1.07E-04; rel error: 2.25E-02.\n",
      "fdb runtime: 0 seconds; total runtime: 56 seconds.\n",
      "#### Starting deep galerkin method with seed 5 - 6 out of 10 times\n",
      "Time taken: 95 seconds; L1 error: 3.09E-03; L2 error: 3.46E-05; rel error: 6.86E-03.\n",
      "#### Starting deep BSDE method with seed 5 - 6 out of 10 times\n"
     ]
    },
    {
     "name": "stderr",
     "output_type": "stream",
     "text": [
      "Logs are saved in /home/nprivault/NTU/nguwi_jiang_yu/burgers/deep_branching_burgers/notebooks/logs/tmp\n"
     ]
    },
    {
     "name": "stdout",
     "output_type": "stream",
     "text": [
      "Time taken: 162 seconds; L1 error: 7.98E-03; L2 error: 8.12E-05; rel error: 2.77E-02.\n",
      "\n",
      "\n",
      "#### Starting deep branching method with seed 6 - 7 out of 10 times\n"
     ]
    },
    {
     "name": "stderr",
     "output_type": "stream",
     "text": [
      "Logs are saved in /home/nprivault/NTU/nguwi_jiang_yu/burgers/deep_branching_burgers/notebooks/logs/tmp\n"
     ]
    },
    {
     "name": "stdout",
     "output_type": "stream",
     "text": [
      "Time taken: 60 seconds; L1 error: 6.64E-03; L2 error: 7.07E-05; rel error: 1.98E-02.\n",
      "fdb runtime: 0 seconds; total runtime: 60 seconds.\n",
      "#### Starting deep galerkin method with seed 6 - 7 out of 10 times\n",
      "Time taken: 89 seconds; L1 error: 4.12E-03; L2 error: 4.37E-05; rel error: 1.13E-02.\n",
      "#### Starting deep BSDE method with seed 6 - 7 out of 10 times\n"
     ]
    },
    {
     "name": "stderr",
     "output_type": "stream",
     "text": [
      "Logs are saved in /home/nprivault/NTU/nguwi_jiang_yu/burgers/deep_branching_burgers/notebooks/logs/tmp\n"
     ]
    },
    {
     "name": "stdout",
     "output_type": "stream",
     "text": [
      "Time taken: 155 seconds; L1 error: 1.41E-02; L2 error: 2.44E-04; rel error: 4.56E-02.\n",
      "\n",
      "\n",
      "#### Starting deep branching method with seed 7 - 8 out of 10 times\n"
     ]
    },
    {
     "name": "stderr",
     "output_type": "stream",
     "text": [
      "Logs are saved in /home/nprivault/NTU/nguwi_jiang_yu/burgers/deep_branching_burgers/notebooks/logs/tmp\n"
     ]
    },
    {
     "name": "stdout",
     "output_type": "stream",
     "text": [
      "Time taken: 52 seconds; L1 error: 8.96E-03; L2 error: 1.08E-04; rel error: 3.66E-02.\n",
      "fdb runtime: 0 seconds; total runtime: 52 seconds.\n",
      "#### Starting deep galerkin method with seed 7 - 8 out of 10 times\n",
      "Time taken: 81 seconds; L1 error: 3.64E-03; L2 error: 4.39E-05; rel error: 8.99E-03.\n",
      "#### Starting deep BSDE method with seed 7 - 8 out of 10 times\n"
     ]
    },
    {
     "name": "stderr",
     "output_type": "stream",
     "text": [
      "Logs are saved in /home/nprivault/NTU/nguwi_jiang_yu/burgers/deep_branching_burgers/notebooks/logs/tmp\n"
     ]
    },
    {
     "name": "stdout",
     "output_type": "stream",
     "text": [
      "Time taken: 155 seconds; L1 error: 1.16E-02; L2 error: 2.71E-04; rel error: 3.86E-02.\n",
      "\n",
      "\n",
      "#### Starting deep branching method with seed 8 - 9 out of 10 times\n"
     ]
    },
    {
     "name": "stderr",
     "output_type": "stream",
     "text": [
      "Logs are saved in /home/nprivault/NTU/nguwi_jiang_yu/burgers/deep_branching_burgers/notebooks/logs/tmp\n"
     ]
    },
    {
     "name": "stdout",
     "output_type": "stream",
     "text": [
      "Time taken: 54 seconds; L1 error: 5.61E-03; L2 error: 4.92E-05; rel error: 1.69E-02.\n",
      "fdb runtime: 0 seconds; total runtime: 54 seconds.\n",
      "#### Starting deep galerkin method with seed 8 - 9 out of 10 times\n",
      "Time taken: 91 seconds; L1 error: 1.66E-03; L2 error: 8.11E-06; rel error: 4.97E-03.\n",
      "#### Starting deep BSDE method with seed 8 - 9 out of 10 times\n"
     ]
    },
    {
     "name": "stderr",
     "output_type": "stream",
     "text": [
      "Logs are saved in /home/nprivault/NTU/nguwi_jiang_yu/burgers/deep_branching_burgers/notebooks/logs/tmp\n"
     ]
    },
    {
     "name": "stdout",
     "output_type": "stream",
     "text": [
      "Time taken: 156 seconds; L1 error: 2.04E-02; L2 error: 6.14E-04; rel error: 1.32E-01.\n",
      "\n",
      "\n",
      "#### Starting deep branching method with seed 9 - 10 out of 10 times\n"
     ]
    },
    {
     "name": "stderr",
     "output_type": "stream",
     "text": [
      "Logs are saved in /home/nprivault/NTU/nguwi_jiang_yu/burgers/deep_branching_burgers/notebooks/logs/tmp\n"
     ]
    },
    {
     "name": "stdout",
     "output_type": "stream",
     "text": [
      "Time taken: 53 seconds; L1 error: 6.79E-03; L2 error: 6.74E-05; rel error: 2.38E-02.\n",
      "fdb runtime: 0 seconds; total runtime: 53 seconds.\n",
      "#### Starting deep galerkin method with seed 9 - 10 out of 10 times\n",
      "Time taken: 100 seconds; L1 error: 1.93E-03; L2 error: 1.17E-05; rel error: 3.81E-03.\n",
      "#### Starting deep BSDE method with seed 9 - 10 out of 10 times\n",
      "Time taken: 155 seconds; L1 error: 1.93E-02; L2 error: 1.05E-03; rel error: 8.39E-02.\n",
      "\n",
      "\n",
      "\n",
      "\n",
      "######## Summary for deep branching method\n",
      "runtime:        55\n",
      "fdb runtime:    0\n",
      "total runtime:  55\n",
      "mean L1 error:  7.54E-03\n",
      "std L1 error:   9.59E-04\n",
      "mean L2 error:  9.05E-05\n",
      "std L2 error:   2.11E-05\n",
      "mean rel error: 2.49E-02\n",
      "std rel error:  5.60E-03\n",
      "\n",
      "\n",
      "######## Summary for deep galerkin method\n",
      "runtime:        91\n",
      "mean L1 error:  2.73E-03\n",
      "std L1 error:   7.94E-04\n",
      "mean L2 error:  2.53E-05\n",
      "std L2 error:   1.31E-05\n",
      "mean rel error: 7.02E-03\n",
      "std rel error:  2.17E-03\n",
      "\n",
      "\n",
      "######## Summary for deep BSDE method\n",
      "runtime:        157\n",
      "mean L1 error:  1.63E-02\n",
      "std L1 error:   5.57E-03\n",
      "mean L2 error:  5.58E-04\n",
      "std L2 error:   4.33E-04\n",
      "mean rel error: 7.68E-02\n",
      "std rel error:  4.16E-02\n"
     ]
    },
    {
     "data": {
      "image/png": "[encoded data removed]",
      "text/plain": [
       "<Figure size 432x288 with 1 Axes>"
      ]
     },
     "metadata": {
      "needs_background": "light"
     },
     "output_type": "display_data"
    }
   ],
   "source": [
    "n, T = 3, 0.2\n",
    "fixed_dim, dim = 0, 1\n",
    "\n",
    "grid, grid_d_dim, grid_d_dim_with_t, t_lo, true, terminal, \\\n",
    "    f_example, deriv_map, phi_example, dgm_f_example = gen_for_generalized_burgers(n=n, T=T # , eps=1e-3, eps_graph=1e-1)\n",
    "                                                                                  )\n",
    "compare_performance(grid, grid_d_dim, grid_d_dim_with_t, t_lo, true, terminal=terminal, # seeds=[0],\n",
    "                    # disable_bsde=True, disable_galerkin=True, \n",
    "                    # verbose=True, debug_mode=True,\n",
    "                    T=T, device=device, epochs=3000, fname=f\"burger_{n}_T_{T}\",\n",
    "                    branch_nb_states=1000, branch_nb_path_per_state=10000,\n",
    "                    branch_patches=1, branch_exponential_lambda=-math.log(.95)/T,\n",
    "                    second_order=True, branch_nb_states_per_batch=200,\n",
    "                    bsde_nb_states=1000, bsde_nb_time_intervals=4,\n",
    "                    dgm_nb_states=10000, f_fun=f_example, dgm_f_fun=dgm_f_example,\n",
    "                    deriv_map=deriv_map, dgm_deriv_map=deriv_map, phi_fun=phi_example,\n",
    "                    lr_gamma=0.1, branch_lr=1e-2, branch_activation=\"tanh\", neurons=20, layers=5,\n",
    "                    save_for_best_model=False, save_as_tmp=True)"
   ]
  },
  {
   "cell_type": "markdown",
   "metadata": {},
   "source": [
    "### Figure 6-a) with d=1, n=1/2 and T=3"
   ]
  },
  {
   "cell_type": "code",
   "execution_count": 13,
   "metadata": {},
   "outputs": [
    {
     "name": "stderr",
     "output_type": "stream",
     "text": [
      "Logs are saved in /home/nprivault/NTU/nguwi_jiang_yu/burgers/deep_branching_burgers/notebooks/logs/tmp\n"
     ]
    },
    {
     "name": "stdout",
     "output_type": "stream",
     "text": [
      "#### Starting deep branching method with seed 0 - 1 out of 10 times\n"
     ]
    },
    {
     "name": "stderr",
     "output_type": "stream",
     "text": [
      "Logs are saved in /home/nprivault/NTU/nguwi_jiang_yu/burgers/deep_branching_burgers/notebooks/logs/tmp\n"
     ]
    },
    {
     "name": "stdout",
     "output_type": "stream",
     "text": [
      "Time taken: 53 seconds; L1 error: 2.08E-03; L2 error: 6.22E-06; rel error: 5.20E-03.\n",
      "fdb runtime: 0 seconds; total runtime: 53 seconds.\n",
      "#### Starting deep galerkin method with seed 0 - 1 out of 10 times\n",
      "Time taken: 90 seconds; L1 error: 3.59E+00; L2 error: 1.39E+01; rel error: 1.17E+01.\n",
      "#### Starting deep BSDE method with seed 0 - 1 out of 10 times\n"
     ]
    },
    {
     "name": "stderr",
     "output_type": "stream",
     "text": [
      "Logs are saved in /home/nprivault/NTU/nguwi_jiang_yu/burgers/deep_branching_burgers/notebooks/logs/tmp\n"
     ]
    },
    {
     "name": "stdout",
     "output_type": "stream",
     "text": [
      "Time taken: 161 seconds; L1 error: 1.17E+01; L2 error: 1.39E+02; rel error: 3.83E+01.\n",
      "\n",
      "\n",
      "#### Starting deep branching method with seed 1 - 2 out of 10 times\n"
     ]
    },
    {
     "name": "stderr",
     "output_type": "stream",
     "text": [
      "Logs are saved in /home/nprivault/NTU/nguwi_jiang_yu/burgers/deep_branching_burgers/notebooks/logs/tmp\n"
     ]
    },
    {
     "name": "stdout",
     "output_type": "stream",
     "text": [
      "Time taken: 54 seconds; L1 error: 2.91E-03; L2 error: 1.73E-05; rel error: 6.00E-03.\n",
      "fdb runtime: 0 seconds; total runtime: 54 seconds.\n",
      "#### Starting deep galerkin method with seed 1 - 2 out of 10 times\n",
      "Time taken: 92 seconds; L1 error: 1.56E+00; L2 error: 2.83E+00; rel error: 3.62E+00.\n",
      "#### Starting deep BSDE method with seed 1 - 2 out of 10 times\n"
     ]
    },
    {
     "name": "stderr",
     "output_type": "stream",
     "text": [
      "Logs are saved in /home/nprivault/NTU/nguwi_jiang_yu/burgers/deep_branching_burgers/notebooks/logs/tmp\n"
     ]
    },
    {
     "name": "stdout",
     "output_type": "stream",
     "text": [
      "Time taken: 149 seconds; L1 error: 4.51E+00; L2 error: 2.72E+01; rel error: 1.29E+01.\n",
      "\n",
      "\n",
      "#### Starting deep branching method with seed 2 - 3 out of 10 times\n"
     ]
    },
    {
     "name": "stderr",
     "output_type": "stream",
     "text": [
      "Logs are saved in /home/nprivault/NTU/nguwi_jiang_yu/burgers/deep_branching_burgers/notebooks/logs/tmp\n"
     ]
    },
    {
     "name": "stdout",
     "output_type": "stream",
     "text": [
      "Time taken: 56 seconds; L1 error: 1.95E-03; L2 error: 6.56E-06; rel error: 4.27E-03.\n",
      "fdb runtime: 0 seconds; total runtime: 56 seconds.\n",
      "#### Starting deep galerkin method with seed 2 - 3 out of 10 times\n",
      "Time taken: 86 seconds; L1 error: 2.35E+00; L2 error: 6.21E+00; rel error: 7.63E+00.\n",
      "#### Starting deep BSDE method with seed 2 - 3 out of 10 times\n"
     ]
    },
    {
     "name": "stderr",
     "output_type": "stream",
     "text": [
      "Logs are saved in /home/nprivault/NTU/nguwi_jiang_yu/burgers/deep_branching_burgers/notebooks/logs/tmp\n"
     ]
    },
    {
     "name": "stdout",
     "output_type": "stream",
     "text": [
      "Time taken: 152 seconds; L1 error: 1.03E+01; L2 error: 1.09E+02; rel error: 3.24E+01.\n",
      "\n",
      "\n",
      "#### Starting deep branching method with seed 3 - 4 out of 10 times\n"
     ]
    },
    {
     "name": "stderr",
     "output_type": "stream",
     "text": [
      "Logs are saved in /home/nprivault/NTU/nguwi_jiang_yu/burgers/deep_branching_burgers/notebooks/logs/tmp\n"
     ]
    },
    {
     "name": "stdout",
     "output_type": "stream",
     "text": [
      "Time taken: 49 seconds; L1 error: 2.37E-03; L2 error: 1.11E-05; rel error: 5.02E-03.\n",
      "fdb runtime: 0 seconds; total runtime: 49 seconds.\n",
      "#### Starting deep galerkin method with seed 3 - 4 out of 10 times\n",
      "Time taken: 77 seconds; L1 error: 2.58E+00; L2 error: 7.23E+00; rel error: 8.50E+00.\n",
      "#### Starting deep BSDE method with seed 3 - 4 out of 10 times\n"
     ]
    },
    {
     "name": "stderr",
     "output_type": "stream",
     "text": [
      "Logs are saved in /home/nprivault/NTU/nguwi_jiang_yu/burgers/deep_branching_burgers/notebooks/logs/tmp\n"
     ]
    },
    {
     "name": "stdout",
     "output_type": "stream",
     "text": [
      "Time taken: 145 seconds; L1 error: 7.96E-01; L2 error: 9.34E-01; rel error: 2.44E+00.\n",
      "\n",
      "\n",
      "#### Starting deep branching method with seed 4 - 5 out of 10 times\n"
     ]
    },
    {
     "name": "stderr",
     "output_type": "stream",
     "text": [
      "Logs are saved in /home/nprivault/NTU/nguwi_jiang_yu/burgers/deep_branching_burgers/notebooks/logs/tmp\n"
     ]
    },
    {
     "name": "stdout",
     "output_type": "stream",
     "text": [
      "Time taken: 55 seconds; L1 error: 2.05E-03; L2 error: 8.80E-06; rel error: 5.03E-03.\n",
      "fdb runtime: 0 seconds; total runtime: 55 seconds.\n",
      "#### Starting deep galerkin method with seed 4 - 5 out of 10 times\n",
      "Time taken: 93 seconds; L1 error: 1.08E+00; L2 error: 1.67E+00; rel error: 4.70E+00.\n",
      "#### Starting deep BSDE method with seed 4 - 5 out of 10 times\n"
     ]
    },
    {
     "name": "stderr",
     "output_type": "stream",
     "text": [
      "Logs are saved in /home/nprivault/NTU/nguwi_jiang_yu/burgers/deep_branching_burgers/notebooks/logs/tmp\n"
     ]
    },
    {
     "name": "stdout",
     "output_type": "stream",
     "text": [
      "Time taken: 152 seconds; L1 error: 5.71E+00; L2 error: 3.56E+01; rel error: 1.37E+01.\n",
      "\n",
      "\n",
      "#### Starting deep branching method with seed 5 - 6 out of 10 times\n"
     ]
    },
    {
     "name": "stderr",
     "output_type": "stream",
     "text": [
      "Logs are saved in /home/nprivault/NTU/nguwi_jiang_yu/burgers/deep_branching_burgers/notebooks/logs/tmp\n"
     ]
    },
    {
     "name": "stdout",
     "output_type": "stream",
     "text": [
      "Time taken: 56 seconds; L1 error: 2.12E-03; L2 error: 8.78E-06; rel error: 4.37E-03.\n",
      "fdb runtime: 0 seconds; total runtime: 57 seconds.\n",
      "#### Starting deep galerkin method with seed 5 - 6 out of 10 times\n",
      "Time taken: 93 seconds; L1 error: 1.93E+00; L2 error: 4.12E+00; rel error: 6.81E+00.\n",
      "#### Starting deep BSDE method with seed 5 - 6 out of 10 times\n"
     ]
    },
    {
     "name": "stderr",
     "output_type": "stream",
     "text": [
      "Logs are saved in /home/nprivault/NTU/nguwi_jiang_yu/burgers/deep_branching_burgers/notebooks/logs/tmp\n"
     ]
    },
    {
     "name": "stdout",
     "output_type": "stream",
     "text": [
      "Time taken: 142 seconds; L1 error: 7.78E+00; L2 error: 6.66E+01; rel error: 2.76E+01.\n",
      "\n",
      "\n",
      "#### Starting deep branching method with seed 6 - 7 out of 10 times\n"
     ]
    },
    {
     "name": "stderr",
     "output_type": "stream",
     "text": [
      "Logs are saved in /home/nprivault/NTU/nguwi_jiang_yu/burgers/deep_branching_burgers/notebooks/logs/tmp\n"
     ]
    },
    {
     "name": "stdout",
     "output_type": "stream",
     "text": [
      "Time taken: 56 seconds; L1 error: 1.84E-03; L2 error: 7.87E-06; rel error: 3.84E-03.\n",
      "fdb runtime: 0 seconds; total runtime: 56 seconds.\n",
      "#### Starting deep galerkin method with seed 6 - 7 out of 10 times\n",
      "Time taken: 92 seconds; L1 error: 1.32E+00; L2 error: 2.08E+00; rel error: 4.82E+00.\n",
      "#### Starting deep BSDE method with seed 6 - 7 out of 10 times\n"
     ]
    },
    {
     "name": "stderr",
     "output_type": "stream",
     "text": [
      "Logs are saved in /home/nprivault/NTU/nguwi_jiang_yu/burgers/deep_branching_burgers/notebooks/logs/tmp\n"
     ]
    },
    {
     "name": "stdout",
     "output_type": "stream",
     "text": [
      "Time taken: 150 seconds; L1 error: 6.87E+00; L2 error: 5.59E+01; rel error: 2.67E+01.\n",
      "\n",
      "\n",
      "#### Starting deep branching method with seed 7 - 8 out of 10 times\n"
     ]
    },
    {
     "name": "stderr",
     "output_type": "stream",
     "text": [
      "Logs are saved in /home/nprivault/NTU/nguwi_jiang_yu/burgers/deep_branching_burgers/notebooks/logs/tmp\n"
     ]
    },
    {
     "name": "stdout",
     "output_type": "stream",
     "text": [
      "Time taken: 57 seconds; L1 error: 2.33E-03; L2 error: 8.40E-06; rel error: 4.62E-03.\n",
      "fdb runtime: 0 seconds; total runtime: 57 seconds.\n",
      "#### Starting deep galerkin method with seed 7 - 8 out of 10 times\n",
      "Time taken: 93 seconds; L1 error: 2.79E+00; L2 error: 8.54E+00; rel error: 9.35E+00.\n",
      "#### Starting deep BSDE method with seed 7 - 8 out of 10 times\n"
     ]
    },
    {
     "name": "stderr",
     "output_type": "stream",
     "text": [
      "Logs are saved in /home/nprivault/NTU/nguwi_jiang_yu/burgers/deep_branching_burgers/notebooks/logs/tmp\n"
     ]
    },
    {
     "name": "stdout",
     "output_type": "stream",
     "text": [
      "Time taken: 149 seconds; L1 error: 9.47E+00; L2 error: 9.58E+01; rel error: 2.57E+01.\n",
      "\n",
      "\n",
      "#### Starting deep branching method with seed 8 - 9 out of 10 times\n"
     ]
    },
    {
     "name": "stderr",
     "output_type": "stream",
     "text": [
      "Logs are saved in /home/nprivault/NTU/nguwi_jiang_yu/burgers/deep_branching_burgers/notebooks/logs/tmp\n"
     ]
    },
    {
     "name": "stdout",
     "output_type": "stream",
     "text": [
      "Time taken: 45 seconds; L1 error: 1.70E-03; L2 error: 6.42E-06; rel error: 3.97E-03.\n",
      "fdb runtime: 0 seconds; total runtime: 45 seconds.\n",
      "#### Starting deep galerkin method with seed 8 - 9 out of 10 times\n",
      "Time taken: 85 seconds; L1 error: 4.28E-01; L2 error: 2.11E-01; rel error: 1.57E+00.\n",
      "#### Starting deep BSDE method with seed 8 - 9 out of 10 times\n"
     ]
    },
    {
     "name": "stderr",
     "output_type": "stream",
     "text": [
      "Logs are saved in /home/nprivault/NTU/nguwi_jiang_yu/burgers/deep_branching_burgers/notebooks/logs/tmp\n"
     ]
    },
    {
     "name": "stdout",
     "output_type": "stream",
     "text": [
      "Time taken: 148 seconds; L1 error: 1.56E+01; L2 error: 3.05E+02; rel error: 5.95E+01.\n",
      "\n",
      "\n",
      "#### Starting deep branching method with seed 9 - 10 out of 10 times\n"
     ]
    },
    {
     "name": "stderr",
     "output_type": "stream",
     "text": [
      "Logs are saved in /home/nprivault/NTU/nguwi_jiang_yu/burgers/deep_branching_burgers/notebooks/logs/tmp\n"
     ]
    },
    {
     "name": "stdout",
     "output_type": "stream",
     "text": [
      "Time taken: 56 seconds; L1 error: 1.71E-03; L2 error: 5.10E-06; rel error: 3.57E-03.\n",
      "fdb runtime: 0 seconds; total runtime: 56 seconds.\n",
      "#### Starting deep galerkin method with seed 9 - 10 out of 10 times\n",
      "Time taken: 70 seconds; L1 error: 2.45E+00; L2 error: 6.27E+00; rel error: 7.07E+00.\n",
      "#### Starting deep BSDE method with seed 9 - 10 out of 10 times\n",
      "Time taken: 131 seconds; L1 error: 9.35E+00; L2 error: 1.01E+02; rel error: 3.35E+01.\n",
      "\n",
      "\n",
      "\n",
      "\n",
      "######## Summary for deep branching method\n",
      "runtime:        54\n",
      "fdb runtime:    0\n",
      "total runtime:  54\n",
      "mean L1 error:  2.11E-03\n",
      "std L1 error:   3.44E-04\n",
      "mean L2 error:  8.66E-06\n",
      "std L2 error:   3.31E-06\n",
      "mean rel error: 4.59E-03\n",
      "std rel error:  6.99E-04\n",
      "\n",
      "\n",
      "######## Summary for deep galerkin method\n",
      "runtime:        87\n",
      "mean L1 error:  2.01E+00\n",
      "std L1 error:   8.84E-01\n",
      "mean L2 error:  5.31E+00\n",
      "std L2 error:   3.84E+00\n",
      "mean rel error: 6.58E+00\n",
      "std rel error:  2.82E+00\n",
      "\n",
      "\n",
      "######## Summary for deep BSDE method\n",
      "runtime:        148\n",
      "mean L1 error:  8.21E+00\n",
      "std L1 error:   3.89E+00\n",
      "mean L2 error:  9.35E+01\n",
      "std L2 error:   8.09E+01\n",
      "mean rel error: 2.73E+01\n",
      "std rel error:  1.50E+01\n"
     ]
    },
    {
     "data": {
      "image/png": "[encoded data removed]",
      "text/plain": [
       "<Figure size 432x288 with 1 Axes>"
      ]
     },
     "metadata": {
      "needs_background": "light"
     },
     "output_type": "display_data"
    }
   ],
   "source": [
    "n, T = 1/2, 3\n",
    "fixed_dim, dim = 0, 1\n",
    "\n",
    "grid, grid_d_dim, grid_d_dim_with_t, t_lo, true, terminal, \\\n",
    "    f_example, deriv_map, phi_example, dgm_f_example = gen_for_generalized_burgers(n=n, T=T, eps=1e-3, eps_graph=1e-1)\n",
    "                                                                                  \n",
    "compare_performance(grid, grid_d_dim, grid_d_dim_with_t, t_lo, true, terminal=terminal, # seeds=[0],\n",
    "                    # disable_bsde=True, disable_galerkin=True, \n",
    "                    # verbose=True, debug_mode=True,\n",
    "                    T=T, device=device, epochs=3000, fname=f\"burger_{n}_T_{T}\",\n",
    "                    branch_nb_states=1000, branch_nb_path_per_state=10000,\n",
    "                    branch_patches=1, branch_exponential_lambda=-math.log(.95)/T,\n",
    "                    second_order=True, branch_nb_states_per_batch=200,\n",
    "                    bsde_nb_states=1000, bsde_nb_time_intervals=4,\n",
    "                    dgm_nb_states=10000, f_fun=f_example, dgm_f_fun=dgm_f_example,\n",
    "                    deriv_map=deriv_map, dgm_deriv_map=deriv_map, phi_fun=phi_example,\n",
    "                    lr_gamma=0.1, branch_lr=1e-2, branch_activation=\"tanh\", neurons=20, layers=5,\n",
    "                    save_for_best_model=False, save_as_tmp=True)"
   ]
  },
  {
   "cell_type": "markdown",
   "metadata": {},
   "source": [
    "### Figure 6-b) with d=1, n=1/3 and T=10"
   ]
  },
  {
   "cell_type": "code",
   "execution_count": 16,
   "metadata": {},
   "outputs": [
    {
     "name": "stderr",
     "output_type": "stream",
     "text": [
      "Logs are saved in /home/nprivault/NTU/nguwi_jiang_yu/burgers/deep_branching_burgers/notebooks/logs/tmp\n"
     ]
    },
    {
     "name": "stdout",
     "output_type": "stream",
     "text": [
      "#### Starting deep branching method with seed 0 - 1 out of 10 times\n"
     ]
    },
    {
     "name": "stderr",
     "output_type": "stream",
     "text": [
      "Logs are saved in /home/nprivault/NTU/nguwi_jiang_yu/burgers/deep_branching_burgers/notebooks/logs/tmp\n"
     ]
    },
    {
     "name": "stdout",
     "output_type": "stream",
     "text": [
      "Time taken: 56 seconds; L1 error: 1.82E-03; L2 error: 7.63E-06; rel error: 4.05E-03.\n",
      "fdb runtime: 0 seconds; total runtime: 56 seconds.\n",
      "#### Starting deep galerkin method with seed 0 - 1 out of 10 times\n",
      "Time taken: 95 seconds; L1 error: 4.76E+00; L2 error: 2.33E+01; rel error: 1.73E+01.\n",
      "#### Starting deep BSDE method with seed 0 - 1 out of 10 times\n"
     ]
    },
    {
     "name": "stderr",
     "output_type": "stream",
     "text": [
      "Logs are saved in /home/nprivault/NTU/nguwi_jiang_yu/burgers/deep_branching_burgers/notebooks/logs/tmp\n"
     ]
    },
    {
     "name": "stdout",
     "output_type": "stream",
     "text": [
      "Time taken: 160 seconds; L1 error: 6.11E+00; L2 error: 4.04E+01; rel error: 2.07E+01.\n",
      "\n",
      "\n",
      "#### Starting deep branching method with seed 1 - 2 out of 10 times\n"
     ]
    },
    {
     "name": "stderr",
     "output_type": "stream",
     "text": [
      "Logs are saved in /home/nprivault/NTU/nguwi_jiang_yu/burgers/deep_branching_burgers/notebooks/logs/tmp\n"
     ]
    },
    {
     "name": "stdout",
     "output_type": "stream",
     "text": [
      "Time taken: 54 seconds; L1 error: 1.60E-03; L2 error: 6.16E-06; rel error: 3.43E-03.\n",
      "fdb runtime: 0 seconds; total runtime: 54 seconds.\n",
      "#### Starting deep galerkin method with seed 1 - 2 out of 10 times\n",
      "Time taken: 82 seconds; L1 error: NAN; L2 error: NAN; rel error: NAN.\n",
      "#### Starting deep BSDE method with seed 1 - 2 out of 10 times\n"
     ]
    },
    {
     "name": "stderr",
     "output_type": "stream",
     "text": [
      "Logs are saved in /home/nprivault/NTU/nguwi_jiang_yu/burgers/deep_branching_burgers/notebooks/logs/tmp\n"
     ]
    },
    {
     "name": "stdout",
     "output_type": "stream",
     "text": [
      "Time taken: 160 seconds; L1 error: 9.70E+00; L2 error: 1.07E+02; rel error: 3.05E+01.\n",
      "\n",
      "\n",
      "#### Starting deep branching method with seed 2 - 3 out of 10 times\n"
     ]
    },
    {
     "name": "stderr",
     "output_type": "stream",
     "text": [
      "Logs are saved in /home/nprivault/NTU/nguwi_jiang_yu/burgers/deep_branching_burgers/notebooks/logs/tmp\n"
     ]
    },
    {
     "name": "stdout",
     "output_type": "stream",
     "text": [
      "Time taken: 57 seconds; L1 error: 1.66E-03; L2 error: 6.78E-06; rel error: 3.63E-03.\n",
      "fdb runtime: 0 seconds; total runtime: 57 seconds.\n",
      "#### Starting deep galerkin method with seed 2 - 3 out of 10 times\n",
      "Time taken: 82 seconds; L1 error: NAN; L2 error: NAN; rel error: NAN.\n",
      "#### Starting deep BSDE method with seed 2 - 3 out of 10 times\n"
     ]
    },
    {
     "name": "stderr",
     "output_type": "stream",
     "text": [
      "Logs are saved in /home/nprivault/NTU/nguwi_jiang_yu/burgers/deep_branching_burgers/notebooks/logs/tmp\n"
     ]
    },
    {
     "name": "stdout",
     "output_type": "stream",
     "text": [
      "Time taken: 154 seconds; L1 error: 1.19E+01; L2 error: 1.50E+02; rel error: 4.74E+01.\n",
      "\n",
      "\n",
      "#### Starting deep branching method with seed 3 - 4 out of 10 times\n"
     ]
    },
    {
     "name": "stderr",
     "output_type": "stream",
     "text": [
      "Logs are saved in /home/nprivault/NTU/nguwi_jiang_yu/burgers/deep_branching_burgers/notebooks/logs/tmp\n"
     ]
    },
    {
     "name": "stdout",
     "output_type": "stream",
     "text": [
      "Time taken: 54 seconds; L1 error: 1.59E-03; L2 error: 7.12E-06; rel error: 3.48E-03.\n",
      "fdb runtime: 0 seconds; total runtime: 54 seconds.\n",
      "#### Starting deep galerkin method with seed 3 - 4 out of 10 times\n",
      "Time taken: 89 seconds; L1 error: 2.34E+00; L2 error: 5.52E+00; rel error: 8.54E+00.\n",
      "#### Starting deep BSDE method with seed 3 - 4 out of 10 times\n"
     ]
    },
    {
     "name": "stderr",
     "output_type": "stream",
     "text": [
      "Logs are saved in /home/nprivault/NTU/nguwi_jiang_yu/burgers/deep_branching_burgers/notebooks/logs/tmp\n"
     ]
    },
    {
     "name": "stdout",
     "output_type": "stream",
     "text": [
      "Time taken: 156 seconds; L1 error: 1.10E+01; L2 error: 1.29E+02; rel error: 3.82E+01.\n",
      "\n",
      "\n",
      "#### Starting deep branching method with seed 4 - 5 out of 10 times\n"
     ]
    },
    {
     "name": "stderr",
     "output_type": "stream",
     "text": [
      "Logs are saved in /home/nprivault/NTU/nguwi_jiang_yu/burgers/deep_branching_burgers/notebooks/logs/tmp\n"
     ]
    },
    {
     "name": "stdout",
     "output_type": "stream",
     "text": [
      "Time taken: 56 seconds; L1 error: 1.61E-03; L2 error: 8.50E-06; rel error: 3.25E-03.\n",
      "fdb runtime: 0 seconds; total runtime: 56 seconds.\n",
      "#### Starting deep galerkin method with seed 4 - 5 out of 10 times\n",
      "Time taken: 91 seconds; L1 error: 2.38E+00; L2 error: 5.97E+00; rel error: 7.97E+00.\n",
      "#### Starting deep BSDE method with seed 4 - 5 out of 10 times\n"
     ]
    },
    {
     "name": "stderr",
     "output_type": "stream",
     "text": [
      "Logs are saved in /home/nprivault/NTU/nguwi_jiang_yu/burgers/deep_branching_burgers/notebooks/logs/tmp\n"
     ]
    },
    {
     "name": "stdout",
     "output_type": "stream",
     "text": [
      "Time taken: 160 seconds; L1 error: 6.48E+00; L2 error: 5.11E+01; rel error: 1.59E+01.\n",
      "\n",
      "\n",
      "#### Starting deep branching method with seed 5 - 6 out of 10 times\n"
     ]
    },
    {
     "name": "stderr",
     "output_type": "stream",
     "text": [
      "Logs are saved in /home/nprivault/NTU/nguwi_jiang_yu/burgers/deep_branching_burgers/notebooks/logs/tmp\n"
     ]
    },
    {
     "name": "stdout",
     "output_type": "stream",
     "text": [
      "Time taken: 56 seconds; L1 error: 1.45E-03; L2 error: 4.19E-06; rel error: 3.07E-03.\n",
      "fdb runtime: 0 seconds; total runtime: 57 seconds.\n",
      "#### Starting deep galerkin method with seed 5 - 6 out of 10 times\n",
      "Time taken: 85 seconds; L1 error: NAN; L2 error: NAN; rel error: NAN.\n",
      "#### Starting deep BSDE method with seed 5 - 6 out of 10 times\n"
     ]
    },
    {
     "name": "stderr",
     "output_type": "stream",
     "text": [
      "Logs are saved in /home/nprivault/NTU/nguwi_jiang_yu/burgers/deep_branching_burgers/notebooks/logs/tmp\n"
     ]
    },
    {
     "name": "stdout",
     "output_type": "stream",
     "text": [
      "Time taken: 151 seconds; L1 error: 6.12E+00; L2 error: 4.16E+01; rel error: 2.36E+01.\n",
      "\n",
      "\n",
      "#### Starting deep branching method with seed 6 - 7 out of 10 times\n"
     ]
    },
    {
     "name": "stderr",
     "output_type": "stream",
     "text": [
      "Logs are saved in /home/nprivault/NTU/nguwi_jiang_yu/burgers/deep_branching_burgers/notebooks/logs/tmp\n"
     ]
    },
    {
     "name": "stdout",
     "output_type": "stream",
     "text": [
      "Time taken: 57 seconds; L1 error: 1.30E-03; L2 error: 3.81E-06; rel error: 3.97E-03.\n",
      "fdb runtime: 0 seconds; total runtime: 57 seconds.\n",
      "#### Starting deep galerkin method with seed 6 - 7 out of 10 times\n",
      "Time taken: 85 seconds; L1 error: 3.60E+00; L2 error: 1.36E+01; rel error: 1.13E+01.\n",
      "#### Starting deep BSDE method with seed 6 - 7 out of 10 times\n"
     ]
    },
    {
     "name": "stderr",
     "output_type": "stream",
     "text": [
      "Logs are saved in /home/nprivault/NTU/nguwi_jiang_yu/burgers/deep_branching_burgers/notebooks/logs/tmp\n"
     ]
    },
    {
     "name": "stdout",
     "output_type": "stream",
     "text": [
      "Time taken: 164 seconds; L1 error: 7.44E+00; L2 error: 5.64E+01; rel error: 2.71E+01.\n",
      "\n",
      "\n",
      "#### Starting deep branching method with seed 7 - 8 out of 10 times\n"
     ]
    },
    {
     "name": "stderr",
     "output_type": "stream",
     "text": [
      "Logs are saved in /home/nprivault/NTU/nguwi_jiang_yu/burgers/deep_branching_burgers/notebooks/logs/tmp\n"
     ]
    },
    {
     "name": "stdout",
     "output_type": "stream",
     "text": [
      "Time taken: 53 seconds; L1 error: 1.81E-03; L2 error: 7.19E-06; rel error: 3.61E-03.\n",
      "fdb runtime: 0 seconds; total runtime: 53 seconds.\n",
      "#### Starting deep galerkin method with seed 7 - 8 out of 10 times\n",
      "Time taken: 82 seconds; L1 error: 8.77E-01; L2 error: 1.22E+00; rel error: 4.76E+00.\n",
      "#### Starting deep BSDE method with seed 7 - 8 out of 10 times\n"
     ]
    },
    {
     "name": "stderr",
     "output_type": "stream",
     "text": [
      "Logs are saved in /home/nprivault/NTU/nguwi_jiang_yu/burgers/deep_branching_burgers/notebooks/logs/tmp\n"
     ]
    },
    {
     "name": "stdout",
     "output_type": "stream",
     "text": [
      "Time taken: 151 seconds; L1 error: 1.21E+01; L2 error: 1.62E+02; rel error: 4.17E+01.\n",
      "\n",
      "\n",
      "#### Starting deep branching method with seed 8 - 9 out of 10 times\n"
     ]
    },
    {
     "name": "stderr",
     "output_type": "stream",
     "text": [
      "Logs are saved in /home/nprivault/NTU/nguwi_jiang_yu/burgers/deep_branching_burgers/notebooks/logs/tmp\n"
     ]
    },
    {
     "name": "stdout",
     "output_type": "stream",
     "text": [
      "Time taken: 55 seconds; L1 error: 1.90E-03; L2 error: 9.44E-06; rel error: 4.48E-03.\n",
      "fdb runtime: 0 seconds; total runtime: 55 seconds.\n",
      "#### Starting deep galerkin method with seed 8 - 9 out of 10 times\n",
      "Time taken: 91 seconds; L1 error: NAN; L2 error: NAN; rel error: NAN.\n",
      "#### Starting deep BSDE method with seed 8 - 9 out of 10 times\n"
     ]
    },
    {
     "name": "stderr",
     "output_type": "stream",
     "text": [
      "Logs are saved in /home/nprivault/NTU/nguwi_jiang_yu/burgers/deep_branching_burgers/notebooks/logs/tmp\n"
     ]
    },
    {
     "name": "stdout",
     "output_type": "stream",
     "text": [
      "Time taken: 152 seconds; L1 error: 7.07E+00; L2 error: 5.99E+01; rel error: 2.66E+01.\n",
      "\n",
      "\n",
      "#### Starting deep branching method with seed 9 - 10 out of 10 times\n"
     ]
    },
    {
     "name": "stderr",
     "output_type": "stream",
     "text": [
      "Logs are saved in /home/nprivault/NTU/nguwi_jiang_yu/burgers/deep_branching_burgers/notebooks/logs/tmp\n"
     ]
    },
    {
     "name": "stdout",
     "output_type": "stream",
     "text": [
      "Time taken: 54 seconds; L1 error: 1.28E-03; L2 error: 4.22E-06; rel error: 2.95E-03.\n",
      "fdb runtime: 0 seconds; total runtime: 54 seconds.\n",
      "#### Starting deep galerkin method with seed 9 - 10 out of 10 times\n",
      "Time taken: 86 seconds; L1 error: 3.69E+00; L2 error: 1.38E+01; rel error: 1.29E+01.\n",
      "#### Starting deep BSDE method with seed 9 - 10 out of 10 times\n",
      "Time taken: 162 seconds; L1 error: 1.64E+01; L2 error: 2.80E+02; rel error: 6.01E+01.\n",
      "\n",
      "\n",
      "\n",
      "\n",
      "######## Summary for deep branching method\n",
      "runtime:        55\n",
      "fdb runtime:    0\n",
      "total runtime:  55\n",
      "mean L1 error:  1.60E-03\n",
      "std L1 error:   2.00E-04\n",
      "mean L2 error:  6.50E-06\n",
      "std L2 error:   1.81E-06\n",
      "mean rel error: 3.59E-03\n",
      "std rel error:  4.46E-04\n",
      "\n",
      "\n",
      "######## Summary for deep galerkin method\n",
      "runtime:        87\n",
      "mean L1 error:  NAN\n",
      "std L1 error:   NAN\n",
      "mean L2 error:  NAN\n",
      "std L2 error:   NAN\n",
      "mean rel error: NAN\n",
      "std rel error:  NAN\n",
      "\n",
      "\n",
      "######## Summary for deep BSDE method\n",
      "runtime:        157\n",
      "mean L1 error:  9.43E+00\n",
      "std L1 error:   3.22E+00\n",
      "mean L2 error:  1.08E+02\n",
      "std L2 error:   7.22E+01\n",
      "mean rel error: 3.32E+01\n",
      "std rel error:  1.29E+01\n"
     ]
    },
    {
     "data": {
      "image/png": "[encoded data removed]",
      "text/plain": [
       "<Figure size 432x288 with 1 Axes>"
      ]
     },
     "metadata": {
      "needs_background": "light"
     },
     "output_type": "display_data"
    }
   ],
   "source": [
    "n, T = 1/3, 10\n",
    "fixed_dim, dim = 0, 1\n",
    "\n",
    "grid, grid_d_dim, grid_d_dim_with_t, t_lo, true, terminal, \\\n",
    "    f_example, deriv_map, phi_example, dgm_f_example = gen_for_generalized_burgers(n=n, T=T, eps=1e-2, eps_graph=1e-1)\n",
    "                                                                                  \n",
    "compare_performance(grid, grid_d_dim, grid_d_dim_with_t, t_lo, true, terminal=terminal, # seeds=[0],\n",
    "                    # disable_bsde=True, disable_galerkin=True, \n",
    "                    # verbose=True, debug_mode=True,\n",
    "                    T=T, device=device, epochs=3000, fname=f\"burger_{n}_T_{T}\",\n",
    "                    branch_nb_states=1000, branch_nb_path_per_state=10000,\n",
    "                    branch_patches=1, branch_exponential_lambda=-math.log(.95)/T,\n",
    "                    second_order=True, branch_nb_states_per_batch=200,\n",
    "                    bsde_nb_states=1000, bsde_nb_time_intervals=4,\n",
    "                    dgm_nb_states=10000, f_fun=f_example, dgm_f_fun=dgm_f_example,\n",
    "                    deriv_map=deriv_map, dgm_deriv_map=deriv_map, phi_fun=phi_example,\n",
    "                    lr_gamma=0.1, branch_lr=1e-2, branch_activation=\"tanh\", neurons=20, layers=5,\n",
    "                    save_for_best_model=False, save_as_tmp=True)"
   ]
  }
 ],
 "metadata": {
  "accelerator": "GPU",
  "colab": {
   "collapsed_sections": [
    "GSuvC0ycqjNq",
    "XC4ej7xCLaN1",
    "Rr6nHqQLYdLJ",
    "lGC3MnEEHLtv",
    "fQXKDk7IexOm",
    "u_dYHEeePLeD"
   ],
   "name": "comparison.ipynb",
   "provenance": [
    {
     "file_id": "/v2/external/notebooks/pro.ipynb",
     "timestamp": 1644891847321
    }
   ]
  },
  "kernelspec": {
   "display_name": "Python 3 (ipykernel)",
   "language": "python",
   "name": "python3"
  },
  "language_info": {
   "codemirror_mode": {
    "name": "ipython",
    "version": 3
   },
   "file_extension": ".py",
   "mimetype": "text/x-python",
   "name": "python",
   "nbconvert_exporter": "python",
   "pygments_lexer": "ipython3",
   "version": "3.10.7"
  }
 },
 "nbformat": 4,
 "nbformat_minor": 1
}
