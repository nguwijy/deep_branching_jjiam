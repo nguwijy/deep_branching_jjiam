{
 "cells": [
  {
   "cell_type": "markdown",
   "metadata": {},
   "source": [
    "<table align=\"left\">\n",
    "  <td>\n",
    "    <a href=\"https://colab.research.google.com/github/nguwijy/deep_branching_with_domain/blob/master/notebooks/deep_branching.ipynb\" target=\"_parent\"><img src=\"https://colab.research.google.com/assets/colab-badge.svg\" alt=\"Open In Colab\"/></a>\n",
    "  </td>\n",
    "</table>"
   ]
  },
  {
   "cell_type": "markdown",
   "metadata": {
    "id": "GSuvC0ycqjNq",
    "pycharm": {
     "name": "#%% md\n"
    }
   },
   "source": [
    "# Imports & basic configuration"
   ]
  },
  {
   "cell_type": "code",
   "execution_count": 1,
   "metadata": {
    "colab": {
     "base_uri": "https://localhost:8080/"
    },
    "executionInfo": {
     "elapsed": 2706,
     "status": "ok",
     "timestamp": 1647940111437,
     "user": {
      "displayName": "nguwi jy",
      "photoUrl": "https://lh3.googleusercontent.com/a-/AOh14GgoiFFc59OKXMvhrMZCwWWzqPAzDXA1ooQ_zi8p=s64",
      "userId": "17294038731682000497"
     },
     "user_tz": -480
    },
    "id": "6357edd9",
    "outputId": "f45d2e8e-9123-4654-b639-cb824fdfdbdc",
    "pycharm": {
     "name": "#%%\n"
    }
   },
   "outputs": [],
   "source": [
    "import os\n",
    "import sys\n",
    "# install the package if not yet installed\n",
    "try:\n",
    "    from branch.branch import Net\n",
    "except:\n",
    "    !python -m pip install git+https://github.com/nguwijy/deep_branching_with_domain.git\n",
    "    from branch.branch import Net\n",
    "import math\n",
    "from scipy import special\n",
    "import numpy as np\n",
    "import torch\n",
    "import matplotlib.pyplot as plt\n",
    "import time\n",
    "import logging\n",
    "from pynverse import inversefunc\n",
    "from branch.galerkin import DGMNet\n",
    "from branch.bsde import BSDENet\n",
    "\n",
    "device = torch.device(\"cuda\" if torch.cuda.is_available() else \"cpu\")"
   ]
  },
  {
   "cell_type": "code",
   "execution_count": 2,
   "metadata": {
    "colab": {
     "base_uri": "https://localhost:8080/"
    },
    "executionInfo": {
     "elapsed": 362,
     "status": "ok",
     "timestamp": 1647940117264,
     "user": {
      "displayName": "nguwi jy",
      "photoUrl": "https://lh3.googleusercontent.com/a-/AOh14GgoiFFc59OKXMvhrMZCwWWzqPAzDXA1ooQ_zi8p=s64",
      "userId": "17294038731682000497"
     },
     "user_tz": -480
    },
    "id": "GKSN0XXSwzs_",
    "outputId": "479076d5-d9fa-418a-99aa-b38c14893038",
    "pycharm": {
     "name": "#%%\n"
    }
   },
   "outputs": [
    {
     "name": "stdout",
     "output_type": "stream",
     "text": [
      "torch version: 1.13.1+cu117\n"
     ]
    }
   ],
   "source": [
    "# perfect reproducibility is not guaranteed with different version of torch\n",
    "#\n",
    "print(f\"torch version: {torch.__version__}\")"
   ]
  },
  {
   "cell_type": "code",
   "execution_count": 3,
   "metadata": {
    "colab": {
     "base_uri": "https://localhost:8080/"
    },
    "executionInfo": {
     "elapsed": 29,
     "status": "ok",
     "timestamp": 1647940111438,
     "user": {
      "displayName": "nguwi jy",
      "photoUrl": "https://lh3.googleusercontent.com/a-/AOh14GgoiFFc59OKXMvhrMZCwWWzqPAzDXA1ooQ_zi8p=s64",
      "userId": "17294038731682000497"
     },
     "user_tz": -480
    },
    "id": "W8KR70pwVNfJ",
    "outputId": "0971b8c8-a20c-424a-d81f-1b53d6b34b84",
    "pycharm": {
     "name": "#%%\n"
    }
   },
   "outputs": [
    {
     "name": "stdout",
     "output_type": "stream",
     "text": [
      "Information of the allocated GPU.\n",
      "Fri Mar 10 14:03:37 2023       \r\n",
      "+-----------------------------------------------------------------------------+\r\n",
      "| NVIDIA-SMI 525.60.13    Driver Version: 525.60.13    CUDA Version: 12.0     |\r\n",
      "|-------------------------------+----------------------+----------------------+\r\n",
      "| GPU  Name        Persistence-M| Bus-Id        Disp.A | Volatile Uncorr. ECC |\r\n",
      "| Fan  Temp  Perf  Pwr:Usage/Cap|         Memory-Usage | GPU-Util  Compute M. |\r\n",
      "|                               |                      |               MIG M. |\r\n",
      "|===============================+======================+======================|\r\n",
      "|   0  NVIDIA RTX A4000    On   | 00000000:21:00.0  On |                  Off |\r\n",
      "| 41%   35C    P8    19W / 140W |  10736MiB / 16376MiB |      6%      Default |\r\n",
      "|                               |                      |                  N/A |\r\n",
      "+-------------------------------+----------------------+----------------------+\r\n",
      "                                                                               \r\n",
      "+-----------------------------------------------------------------------------+\r\n",
      "| Processes:                                                                  |\r\n",
      "|  GPU   GI   CI        PID   Type   Process name                  GPU Memory |\r\n",
      "|        ID   ID                                                   Usage      |\r\n",
      "|=============================================================================|\r\n",
      "|    0   N/A  N/A      1664      G   /usr/lib/xorg/Xorg                460MiB |\r\n",
      "|    0   N/A  N/A      1905      G   /usr/bin/gnome-shell               79MiB |\r\n",
      "|    0   N/A  N/A      2548      G   ...AAAAAAAAA= --shared-files       47MiB |\r\n",
      "|    0   N/A  N/A      2943      G   ...RendererForSitePerProcess       33MiB |\r\n",
      "|    0   N/A  N/A      4517      G   ...6/usr/lib/firefox/firefox      149MiB |\r\n",
      "|    0   N/A  N/A      6818      G   ...926817986069288642,131072       73MiB |\r\n",
      "|    0   N/A  N/A     13071      C   /usr/bin/python3                 1438MiB |\r\n",
      "|    0   N/A  N/A    155104      G   ...b/thunderbird/thunderbird      138MiB |\r\n",
      "|    0   N/A  N/A    350877      C   /usr/bin/python3                 4040MiB |\r\n",
      "|    0   N/A  N/A    376662      C   /usr/bin/python3                 4042MiB |\r\n",
      "|    0   N/A  N/A    528653      G   ...171261283708655119,131072      189MiB |\r\n",
      "+-----------------------------------------------------------------------------+\r\n"
     ]
    }
   ],
   "source": [
    "print(\"Information of the allocated GPU.\")\n",
    "!nvidia-smi"
   ]
  },
  {
   "cell_type": "code",
   "execution_count": 4,
   "metadata": {
    "id": "sdQhnjL3U5SJ",
    "pycharm": {
     "name": "#%%\n"
    }
   },
   "outputs": [],
   "source": [
    "# performance evaluation for PDE\n",
    "def compare_performance(\n",
    "    grid_1d,\n",
    "    grid_nd,\n",
    "    grid_with_t,\n",
    "    t_lo,\n",
    "    true,\n",
    "    terminal,\n",
    "    fname=None,\n",
    "    debug_mode=False,\n",
    "    disable_galerkin=False,\n",
    "    disable_bsde=False,\n",
    "    disable_branch=False,\n",
    "    seeds=list(range(10)),\n",
    "    disable_relative=False,\n",
    "    **kwargs,\n",
    "):\n",
    "    if not os.path.isdir('logs/deep_branching/data/'):\n",
    "        os.makedirs('logs/deep_branching/data/')\n",
    "    if not os.path.isdir('logs/deep_branching/plot/'):\n",
    "        os.makedirs('logs/deep_branching/plot/')\n",
    "    x_lo, x_hi = grid_nd.min(), grid_nd.max()\n",
    "    grid_nd = grid_nd.astype(np.float32)\n",
    "    grid_with_t = grid_with_t.astype(np.float32)\n",
    "    \n",
    "    problem_name = fname\n",
    "    fname = f\"{fname}_dim_{grid_nd.shape[0]}\" if fname is not None else None\n",
    "    counter = 1\n",
    "\n",
    "    branch_runtime, branch_l1_error, branch_l2_error, branch_rel_error, branch = (\n",
    "        [],\n",
    "        [],\n",
    "        [],\n",
    "        [],\n",
    "        0,\n",
    "    )\n",
    "    branch_fdb_runtime, branch_total_runtime = [], []\n",
    "    dgm_runtime, dgm_l1_error, dgm_l2_error, dgm_rel_error, dgm = [], [], [], [], 0\n",
    "    bsde_runtime, bsde_l1_error, bsde_l2_error, bsde_rel_error, bsde = [], [], [], [], 0\n",
    "    for seed in seeds:\n",
    "        ######### Deep branching method\n",
    "        if not disable_branch:\n",
    "            torch.manual_seed(seed)\n",
    "            print(\n",
    "                f\"#### Starting deep branching method with seed {seed} - {counter} out of {len(seeds)} times\"\n",
    "            )\n",
    "            start = time.time()\n",
    "            model = Net(t_lo=t_lo, t_hi=t_lo, x_lo=x_lo, x_hi=x_hi, problem_name=problem_name, **kwargs)\n",
    "            model.train_and_eval(debug_mode)\n",
    "            branch_total_runtime.append(time.time() - start)\n",
    "            branch_fdb_runtime.append(model.fdb_runtime)\n",
    "            branch_runtime.append(branch_total_runtime[-1] - branch_fdb_runtime[-1])\n",
    "            # note that branch output batch_size x 1 instead of batch_size like other algo\n",
    "            tmp = (\n",
    "                model(torch.tensor(grid_with_t.T, device=device), patch=model.patches - 1)[:, 0].detach().cpu().numpy()\n",
    "            )\n",
    "            branch += tmp\n",
    "            branch_l1_error.append((np.abs(tmp - true)).mean())\n",
    "            branch_l2_error.append(((tmp - true) ** 2).mean())\n",
    "            if not disable_relative:\n",
    "                branch_rel_error.append((np.abs(tmp - true) / np.abs(true)).mean())\n",
    "            else:\n",
    "                branch_rel_error.append(0)\n",
    "            print(\n",
    "                f\"Time taken: {branch_runtime[-1]:.0f} seconds; L1 error: {branch_l1_error[-1]:.2E}; L2 error: {branch_l2_error[-1]:.2E}; rel error: {branch_rel_error[-1]:.2E}.\"\n",
    "            )\n",
    "            print(\n",
    "                f\"fdb runtime: {branch_fdb_runtime[-1]:.0f} seconds; total runtime: {branch_total_runtime[-1]:.0f} seconds.\"\n",
    "            )\n",
    "\n",
    "        ######### Deep galerkin method\n",
    "        if not disable_galerkin:\n",
    "            torch.manual_seed(seed)\n",
    "            print(\n",
    "                f\"#### Starting deep galerkin method with seed {seed} - {counter} out of {len(seeds)} times\"\n",
    "            )\n",
    "            start = time.time()\n",
    "            model = DGMNet(t_lo=t_lo, t_hi=kwargs[\"T\"], x_lo=x_lo, x_hi=x_hi, **kwargs)\n",
    "            model.train_and_eval(debug_mode)\n",
    "            dgm_runtime.append(time.time() - start)\n",
    "            tmp = (\n",
    "                model(torch.tensor(grid_with_t.T, device=device)).detach().cpu().numpy()\n",
    "            )\n",
    "            dgm += tmp\n",
    "            dgm_l1_error.append((np.abs(tmp - true)).mean())\n",
    "            dgm_l2_error.append(((tmp - true) ** 2).mean())\n",
    "            if not disable_relative:\n",
    "                dgm_rel_error.append((np.abs(tmp - true) / np.abs(true)).mean())\n",
    "            else:\n",
    "                dgm_rel_error.append(0)\n",
    "            print(\n",
    "                f\"Time taken: {dgm_runtime[-1]:.0f} seconds; L1 error: {dgm_l1_error[-1]:.2E}; L2 error: {dgm_l2_error[-1]:.2E}; rel error: {dgm_rel_error[-1]:.2E}.\"\n",
    "            )\n",
    "\n",
    "        ######### Deep BSDE method\n",
    "        if not disable_bsde:\n",
    "            torch.manual_seed(seed)\n",
    "            print(\n",
    "                f\"#### Starting deep BSDE method with seed {seed} - {counter} out of {len(seeds)} times\"\n",
    "            )\n",
    "            start = time.time()\n",
    "            model = BSDENet(t_lo=t_lo, t_hi=kwargs[\"T\"], x_lo=x_lo, x_hi=x_hi, **kwargs)\n",
    "            model.train_and_eval(debug_mode)\n",
    "            bsde_runtime.append(time.time() - start)\n",
    "            tmp = (\n",
    "                model(torch.tensor(grid_nd.T, device=device))\n",
    "                .squeeze(-1)\n",
    "                .detach()\n",
    "                .cpu()\n",
    "                .numpy()\n",
    "            )\n",
    "            bsde += tmp\n",
    "            bsde_l1_error.append((np.abs(tmp - true)).mean())\n",
    "            bsde_l2_error.append(((tmp - true) ** 2).mean())\n",
    "            if not disable_relative:\n",
    "                bsde_rel_error.append((np.abs(tmp - true) / np.abs(true)).mean())\n",
    "            else:\n",
    "                bsde_rel_error.append(0)\n",
    "            print(\n",
    "                f\"Time taken: {bsde_runtime[-1]:.0f} seconds; L1 error: {bsde_l1_error[-1]:.2E}; L2 error: {bsde_l2_error[-1]:.2E}; rel error: {bsde_rel_error[-1]:.2E}.\"\n",
    "            )\n",
    "\n",
    "        print(\"\\n\")\n",
    "        counter += 1\n",
    "\n",
    "    # Plot\n",
    "    f = plt.figure()\n",
    "    plt.plot(grid_1d, true, label=\"True solution\")\n",
    "    plt.plot(grid_1d, terminal, label=\"Terminal condition\")\n",
    "    # save into csv\n",
    "    if fname is not None:\n",
    "        plt_data = np.stack((grid_1d, true, terminal), axis=-1)\n",
    "        plt_header = \"x, true, terminal\"\n",
    "\n",
    "    if not disable_branch:\n",
    "        branch /= len(seeds)\n",
    "        branch_runtime, branch_l1_error, branch_l2_error, branch_rel_error = (\n",
    "            np.array(branch_runtime),\n",
    "            np.array(branch_l1_error),\n",
    "            np.array(branch_l2_error),\n",
    "            np.array(branch_rel_error),\n",
    "        )\n",
    "        branch_fdb_runtime, branch_total_runtime = np.array(\n",
    "            branch_fdb_runtime\n",
    "        ), np.array(branch_total_runtime)\n",
    "        print(\"\\n\")\n",
    "        print(\"######## Summary for deep branching method\")\n",
    "        print(f\"runtime:        {branch_runtime.mean():.0f}\")\n",
    "        print(f\"fdb runtime:    {branch_fdb_runtime.mean():.0f}\")\n",
    "        print(f\"total runtime:  {branch_total_runtime.mean():.0f}\")\n",
    "        print(f\"mean L1 error:  {branch_l1_error.mean():.2E}\")\n",
    "        print(f\"std L1 error:   {branch_l1_error.std():.2E}\")\n",
    "        print(f\"mean L2 error:  {branch_l2_error.mean():.2E}\")\n",
    "        print(f\"std L2 error:   {branch_l2_error.std():.2E}\")\n",
    "        print(f\"mean rel error: {branch_rel_error.mean():.2E}\")\n",
    "        print(f\"std rel error:  {branch_rel_error.std():.2E}\")\n",
    "        # Plot\n",
    "        plt.plot(grid_1d, branch, label=\"Deep branching\")\n",
    "        # save into csv\n",
    "        if fname is not None:\n",
    "            plt_data = np.concatenate(\n",
    "                (plt_data, np.expand_dims(branch, axis=-1)), axis=-1\n",
    "            )\n",
    "            plt_header += \", branch\"\n",
    "            data = np.stack(\n",
    "                (branch_runtime, branch_l1_error, branch_l2_error, branch_rel_error),\n",
    "                axis=-1,\n",
    "            )\n",
    "            np.savetxt(\n",
    "                \"logs/deep_branching/data/branch_\" + fname + \".csv\",\n",
    "                data,\n",
    "                delimiter=\",\",\n",
    "                header=\"runtime,l1_error,l2_error,rel_error\",\n",
    "                comments=\"\",\n",
    "            )\n",
    "\n",
    "    if not disable_galerkin:\n",
    "        dgm /= len(seeds)\n",
    "        dgm_runtime, dgm_l1_error, dgm_l2_error, dgm_rel_error = (\n",
    "            np.array(dgm_runtime),\n",
    "            np.array(dgm_l1_error),\n",
    "            np.array(dgm_l2_error),\n",
    "            np.array(dgm_rel_error),\n",
    "        )\n",
    "        print(\"\\n\")\n",
    "        print(\"######## Summary for deep galerkin method\")\n",
    "        print(f\"runtime:        {dgm_runtime.mean():.0f}\")\n",
    "        print(f\"mean L1 error:  {dgm_l1_error.mean():.2E}\")\n",
    "        print(f\"std L1 error:   {dgm_l1_error.std():.2E}\")\n",
    "        print(f\"mean L2 error:  {dgm_l2_error.mean():.2E}\")\n",
    "        print(f\"std L2 error:   {dgm_l2_error.std():.2E}\")\n",
    "        print(f\"mean rel error: {dgm_rel_error.mean():.2E}\")\n",
    "        print(f\"std rel error:  {dgm_rel_error.std():.2E}\")\n",
    "        # Plot\n",
    "        plt.plot(grid_1d, dgm, label=\"Deep Galerkin\")\n",
    "        # save into csv\n",
    "        if fname is not None:\n",
    "            plt_data = np.concatenate((plt_data, np.expand_dims(dgm, axis=-1)), axis=-1)\n",
    "            plt_header += \", dgm\"\n",
    "            data = np.stack(\n",
    "                (dgm_runtime, dgm_l1_error, dgm_l2_error, dgm_rel_error), axis=-1\n",
    "            )\n",
    "            np.savetxt(\n",
    "                \"logs/deep_branching/data/dgm_\" + fname + \".csv\",\n",
    "                data,\n",
    "                delimiter=\",\",\n",
    "                header=\"runtime,l1_error,l2_error,rel_error\",\n",
    "                comments=\"\",\n",
    "            )\n",
    "\n",
    "    ######### Deep BSDE method\n",
    "    if not disable_bsde:\n",
    "        bsde /= len(seeds)\n",
    "        bsde_runtime, bsde_l1_error, bsde_l2_error, bsde_rel_error = (\n",
    "            np.array(bsde_runtime),\n",
    "            np.array(bsde_l1_error),\n",
    "            np.array(bsde_l2_error),\n",
    "            np.array(bsde_rel_error),\n",
    "        )\n",
    "        print(\"\\n\")\n",
    "        print(\"######## Summary for deep BSDE method\")\n",
    "        print(f\"runtime:        {bsde_runtime.mean():.0f}\")\n",
    "        print(f\"mean L1 error:  {bsde_l1_error.mean():.2E}\")\n",
    "        print(f\"std L1 error:   {bsde_l1_error.std():.2E}\")\n",
    "        print(f\"mean L2 error:  {bsde_l2_error.mean():.2E}\")\n",
    "        print(f\"std L2 error:   {bsde_l2_error.std():.2E}\")\n",
    "        print(f\"mean rel error: {bsde_rel_error.mean():.2E}\")\n",
    "        print(f\"std rel error:  {bsde_rel_error.std():.2E}\")\n",
    "        # Plot\n",
    "        plt.plot(grid_1d, bsde, label=\"Deep BSDE\")\n",
    "        # save into csv\n",
    "        if fname is not None:\n",
    "            plt_data = np.concatenate(\n",
    "                (plt_data, np.expand_dims(bsde, axis=-1)), axis=-1\n",
    "            )\n",
    "            plt_header += \", bsde\"\n",
    "            data = np.stack(\n",
    "                (bsde_runtime, bsde_l1_error, bsde_l2_error, bsde_rel_error), axis=-1\n",
    "            )\n",
    "            np.savetxt(\n",
    "                \"logs/deep_branching/data/bsde_\" + fname + \".csv\",\n",
    "                data,\n",
    "                delimiter=\",\",\n",
    "                header=\"runtime,l1_error,l2_error,rel_error\",\n",
    "                comments=\"\",\n",
    "            )\n",
    "\n",
    "    plt.legend()\n",
    "    plt.show()\n",
    "    f.savefig(f\"logs/deep_branching/plot/{'comparison' if fname is None else fname}.pdf\")\n",
    "    if fname is not None:\n",
    "        np.savetxt(\n",
    "            \"logs/deep_branching/data/plt_\" + fname + \".csv\", plt_data, delimiter=\",\", header=plt_header, comments=\"\"\n",
    "        )"
   ]
  },
  {
   "cell_type": "code",
   "execution_count": 5,
   "metadata": {},
   "outputs": [],
   "source": [
    "def gen_fun_and_inv(n, eps, nu, u1, u2):\n",
    "    if n <= 1/4 and (1/n) % 1 == 0:\n",
    "        print(\"Infinity detected when calculating hypergeometric function, the calculation is not accurate!\")\n",
    "    if n == 1:\n",
    "        fun = (\n",
    "            lambda u:(\n",
    "                nu/(u2-u1)*np.log((u2 - u)/(u - u1))\n",
    "            )\n",
    "        )\n",
    "    elif n == 1/2:\n",
    "        fun = (\n",
    "            lambda u: (\n",
    "                nu**2*(\n",
    "                    (u2-u1)**(-2)*(1/(u-u1) - 1/(u2-u))\n",
    "                    + 2*(u2-u1)**(-3)*np.log((u2-u)/(u-u1)))\n",
    "            )\n",
    "        )\n",
    "    elif n == 1/3:\n",
    "        fun = (\n",
    "            lambda u: (\n",
    "                nu**3*(\n",
    "                    .5*(u2-u1)**(-3)*(1/(u-u1)**2 - 1/(u2-u)**2)\n",
    "                    + 3*(u2-u1)**(-4)*(1/(u-u1) - 1/(u2-u))\n",
    "                    + 6*(u2-u1)**(-5)*np.log((u2-u)/(u-u1)))\n",
    "            )\n",
    "        )\n",
    "    else:\n",
    "        fun = (lambda u:-nu**(1/n)*n*(u-u1)*((u2-u1)*(u-u1))**(-1/n)*special.hyp2f1(1/n,1-1/n,2-1/n, (u-u1)/(u2-u1))/(n-1))\n",
    "    inv = (lambda xi: inversefunc(fun, y_values=xi, domain=[u1+eps,u2-eps]))\n",
    "    return fun, inv"
   ]
  },
  {
   "cell_type": "markdown",
   "metadata": {},
   "source": [
    "## Mofified Burgers equation"
   ]
  },
  {
   "cell_type": "code",
   "execution_count": 6,
   "metadata": {},
   "outputs": [],
   "source": [
    "def gen_for_modified_burgers(\n",
    "    n=1,\n",
    "    T=1.,\n",
    "    u1=0.,\n",
    "    u2=1.,\n",
    "    nu=1,\n",
    "    eps=1e-6,\n",
    "    eps_graph=1e-2,\n",
    "    alpha=1,\n",
    "    p=1,\n",
    "    verbose=False\n",
    "):\n",
    "    neurons = 50\n",
    "    nb_points = 10000\n",
    "    lambd = (u1 + u2) / 2\n",
    "    require_training = not(n == 1 or n == 2)\n",
    "    fun, inv = gen_fun_and_inv(n=n, eps=eps, nu=nu, u1=u1, u2=u2)\n",
    "    \n",
    "    if require_training:\n",
    "        torch.manual_seed(0)\n",
    "        # neural network parameter\n",
    "        inv_model = torch.nn.Sequential(\n",
    "            torch.nn.BatchNorm1d(1, device=device),\n",
    "            torch.nn.Linear(1, neurons, device=device),\n",
    "            torch.nn.Tanh(),\n",
    "            torch.nn.BatchNorm1d(neurons, device=device),\n",
    "            torch.nn.Linear(neurons, neurons, device=device),\n",
    "            torch.nn.Tanh(),\n",
    "            torch.nn.BatchNorm1d(neurons, device=device),\n",
    "            torch.nn.Linear(neurons, neurons, device=device),\n",
    "            torch.nn.Tanh(),\n",
    "            torch.nn.BatchNorm1d(neurons, device=device),\n",
    "            torch.nn.Linear(neurons, neurons, device=device),\n",
    "            torch.nn.Tanh(),\n",
    "            torch.nn.BatchNorm1d(neurons, device=device),\n",
    "            torch.nn.Linear(neurons, neurons, device=device),\n",
    "            torch.nn.Tanh(),\n",
    "            torch.nn.BatchNorm1d(neurons, device=device),\n",
    "            torch.nn.Linear(neurons, 1, device=device),\n",
    "        )\n",
    "\n",
    "        # define the functions, x, and y\n",
    "        x_for_fun = np.linspace(u1, u2, nb_points + 2)[1:-1]\n",
    "        x_lo, x_hi = fun(u2-eps), fun(u1+eps)\n",
    "        x = np.linspace(x_lo, x_hi, nb_points)\n",
    "        y = torch.tensor(inv(x), dtype=torch.get_default_dtype(), device=device)\n",
    "        x = torch.tensor(x, dtype=torch.get_default_dtype(), device=device).unsqueeze(dim=-1)\n",
    "\n",
    "        # neural network training\n",
    "        optimizer = torch.optim.Adam(inv_model.parameters(), lr=1e-2)\n",
    "        scheduler = torch.optim.lr_scheduler.MultiStepLR(optimizer, milestones=[2000, 4000, 6000, 8000], gamma=0.5)\n",
    "        loss_fun = torch.nn.MSELoss()\n",
    "        inv_model.train()\n",
    "        for epoch in range(10000):\n",
    "            optimizer.zero_grad()\n",
    "            loss = loss_fun(y, inv_model(x).squeeze())\n",
    "            loss.backward()\n",
    "            optimizer.step()\n",
    "            scheduler.step()\n",
    "            if epoch % 100 == 0 and verbose:\n",
    "                print(f\"Epoch {epoch}, loss = {loss}\")\n",
    "        inv_model.eval()\n",
    "\n",
    "        # detach all model parameters to save memory\n",
    "        for p in inv_model.parameters():\n",
    "            p.requires_grad = False\n",
    "\n",
    "        if verbose:\n",
    "            # plot the graph\n",
    "            plt.plot(x.cpu(), inv_model(x).detach().cpu(), label=\"NN approximation\")\n",
    "            plt.plot(x.cpu(), y.cpu(), label=\"true inverse\")\n",
    "            plt.legend()\n",
    "            plt.show()\n",
    "            print(f\"The max difference is {(y.cpu() - inv_model(x).detach().cpu().squeeze()).abs().max()}.\")\n",
    "\n",
    "    # function definition\n",
    "    # dgm_deriv_map = np.concatenate((deriv_map, 2 * np.identity(dim)), axis=0)\n",
    "    # deriv_map = np.array([0, 1, 2]).reshape(-1, 1)\n",
    "            \n",
    "    #deriv_map = np.concatenate((np.array([[0] * dim]), np.identity(dim)), axis=0).astype(int)\n",
    "    #deriv_map = np.concatenate((deriv_map, 2 * np.identity(dim)), axis=0).astype(int)\n",
    "    deriv_map = np.array([0, 1, 2]).reshape(-1, 1)\n",
    "\n",
    "    def f_example(y, coordinate=0): return -y[0]**p*y[1] # - 2*dim*torch.exp(-2*y[0]) + dim*torch.exp(-y[0])\n",
    " \n",
    "    def dgm_f_example(y, coordinate=0):\n",
    "        \"\"\"\n",
    "        idx 0 -> no deriv\n",
    "        idx 1 -> first deriv\n",
    "        idx 2 -> second deriv\n",
    "        \"\"\"\n",
    "        return (- y[0]**p * y[1] + nu * y[2] * n * y[1].abs()**(n-1) / 2)\n",
    "\n",
    "    def phi_example(x, coordinate=0):\n",
    "        return x[0]/(1 + alpha * torch.exp(x[0]**2/(2*nu)))\n",
    "\n",
    "    def exact_example(t, x, T):\n",
    "        return x[0]/(1 + alpha * np.sqrt(1+T-t)*np.exp(x[0]**2/(2*nu*(1+T-t))))/(1+T-t)\n",
    "   \n",
    "    #    t_lo, x_lo, x_hi = 0., -4., 4.\n",
    "    \n",
    "        # t_lo, x_lo, x_hi = 0., fun(u2-eps_graph) + lambd * T, fun(u1+eps_graph)\n",
    "    t_lo, x_lo, x_hi = 0., -4, 4\n",
    "    x_mid = (x_lo + x_hi) / 2\n",
    "    grid = np.linspace(x_lo, x_hi, 100)   \n",
    "    grid_d_dim = np.concatenate((x_mid * np.ones((fixed_dim, 100)), np.expand_dims(grid, axis=0), x_mid * np.ones((dim - fixed_dim - 1, 100))), axis=0)\n",
    "    \n",
    "    grid_d_dim_with_t = np.concatenate((t_lo * np.ones((1, 100)), grid_d_dim), axis=0)\n",
    "    true = exact_example(t_lo, grid_d_dim, T)\n",
    "    terminal = exact_example(T, grid_d_dim, T)\n",
    "    return grid, grid_d_dim, grid_d_dim_with_t, t_lo, true, terminal, f_example, deriv_map, phi_example, dgm_f_example"
   ]
  },
  {
   "cell_type": "markdown",
   "metadata": {},
   "source": [
    "### Figure 2-a) with d=1, p=1 and T=0.5."
   ]
  },
  {
   "cell_type": "code",
   "execution_count": 7,
   "metadata": {},
   "outputs": [
    {
     "name": "stdout",
     "output_type": "stream",
     "text": [
      "#### Starting deep branching method with seed 0 - 1 out of 10 times\n"
     ]
    },
    {
     "name": "stderr",
     "output_type": "stream",
     "text": [
      "Logs are saved in /home/nprivault/NTU/nguwi_jiang_yu/burgers/deep_branching_burgers/notebooks/logs/tmp\n",
      "Logs are saved in /home/nprivault/NTU/nguwi_jiang_yu/burgers/deep_branching_burgers/notebooks/logs/tmp\n"
     ]
    },
    {
     "name": "stdout",
     "output_type": "stream",
     "text": [
      "Time taken: 40 seconds; L1 error: 1.79E-03; L2 error: 6.19E-06; rel error: 2.13E-02.\n",
      "fdb runtime: 0 seconds; total runtime: 40 seconds.\n",
      "#### Starting deep galerkin method with seed 0 - 1 out of 10 times\n",
      "Time taken: 82 seconds; L1 error: 2.82E-03; L2 error: 1.01E-05; rel error: 6.19E-02.\n",
      "#### Starting deep BSDE method with seed 0 - 1 out of 10 times\n"
     ]
    },
    {
     "name": "stderr",
     "output_type": "stream",
     "text": [
      "Logs are saved in /home/nprivault/NTU/nguwi_jiang_yu/burgers/deep_branching_burgers/notebooks/logs/tmp\n"
     ]
    },
    {
     "name": "stdout",
     "output_type": "stream",
     "text": [
      "Time taken: 141 seconds; L1 error: 3.22E-03; L2 error: 1.58E-05; rel error: 4.54E-02.\n",
      "\n",
      "\n",
      "#### Starting deep branching method with seed 1 - 2 out of 10 times\n"
     ]
    },
    {
     "name": "stderr",
     "output_type": "stream",
     "text": [
      "Logs are saved in /home/nprivault/NTU/nguwi_jiang_yu/burgers/deep_branching_burgers/notebooks/logs/tmp\n"
     ]
    },
    {
     "name": "stdout",
     "output_type": "stream",
     "text": [
      "Time taken: 37 seconds; L1 error: 1.28E-03; L2 error: 4.00E-06; rel error: 1.73E-02.\n",
      "fdb runtime: 0 seconds; total runtime: 37 seconds.\n",
      "#### Starting deep galerkin method with seed 1 - 2 out of 10 times\n",
      "Time taken: 86 seconds; L1 error: 3.36E-04; L2 error: 1.69E-07; rel error: 6.91E-03.\n",
      "#### Starting deep BSDE method with seed 1 - 2 out of 10 times\n"
     ]
    },
    {
     "name": "stderr",
     "output_type": "stream",
     "text": [
      "Logs are saved in /home/nprivault/NTU/nguwi_jiang_yu/burgers/deep_branching_burgers/notebooks/logs/tmp\n"
     ]
    },
    {
     "name": "stdout",
     "output_type": "stream",
     "text": [
      "Time taken: 137 seconds; L1 error: 5.82E-03; L2 error: 4.51E-05; rel error: 7.98E-02.\n",
      "\n",
      "\n",
      "#### Starting deep branching method with seed 2 - 3 out of 10 times\n"
     ]
    },
    {
     "name": "stderr",
     "output_type": "stream",
     "text": [
      "Logs are saved in /home/nprivault/NTU/nguwi_jiang_yu/burgers/deep_branching_burgers/notebooks/logs/tmp\n"
     ]
    },
    {
     "name": "stdout",
     "output_type": "stream",
     "text": [
      "Time taken: 38 seconds; L1 error: 1.49E-03; L2 error: 3.87E-06; rel error: 2.10E-02.\n",
      "fdb runtime: 0 seconds; total runtime: 38 seconds.\n",
      "#### Starting deep galerkin method with seed 2 - 3 out of 10 times\n",
      "Time taken: 76 seconds; L1 error: 7.15E-04; L2 error: 8.56E-07; rel error: 1.95E-02.\n",
      "#### Starting deep BSDE method with seed 2 - 3 out of 10 times\n"
     ]
    },
    {
     "name": "stderr",
     "output_type": "stream",
     "text": [
      "Logs are saved in /home/nprivault/NTU/nguwi_jiang_yu/burgers/deep_branching_burgers/notebooks/logs/tmp\n"
     ]
    },
    {
     "name": "stdout",
     "output_type": "stream",
     "text": [
      "Time taken: 141 seconds; L1 error: 2.19E-03; L2 error: 7.22E-06; rel error: 3.54E-02.\n",
      "\n",
      "\n",
      "#### Starting deep branching method with seed 3 - 4 out of 10 times\n"
     ]
    },
    {
     "name": "stderr",
     "output_type": "stream",
     "text": [
      "Logs are saved in /home/nprivault/NTU/nguwi_jiang_yu/burgers/deep_branching_burgers/notebooks/logs/tmp\n"
     ]
    },
    {
     "name": "stdout",
     "output_type": "stream",
     "text": [
      "Time taken: 38 seconds; L1 error: 1.63E-03; L2 error: 4.31E-06; rel error: 2.62E-02.\n",
      "fdb runtime: 0 seconds; total runtime: 38 seconds.\n",
      "#### Starting deep galerkin method with seed 3 - 4 out of 10 times\n",
      "Time taken: 81 seconds; L1 error: 1.15E-03; L2 error: 1.62E-06; rel error: 1.76E-02.\n",
      "#### Starting deep BSDE method with seed 3 - 4 out of 10 times\n"
     ]
    },
    {
     "name": "stderr",
     "output_type": "stream",
     "text": [
      "Logs are saved in /home/nprivault/NTU/nguwi_jiang_yu/burgers/deep_branching_burgers/notebooks/logs/tmp\n"
     ]
    },
    {
     "name": "stdout",
     "output_type": "stream",
     "text": [
      "Time taken: 138 seconds; L1 error: 2.77E-03; L2 error: 1.07E-05; rel error: 4.64E-02.\n",
      "\n",
      "\n",
      "#### Starting deep branching method with seed 4 - 5 out of 10 times\n"
     ]
    },
    {
     "name": "stderr",
     "output_type": "stream",
     "text": [
      "Logs are saved in /home/nprivault/NTU/nguwi_jiang_yu/burgers/deep_branching_burgers/notebooks/logs/tmp\n"
     ]
    },
    {
     "name": "stdout",
     "output_type": "stream",
     "text": [
      "Time taken: 37 seconds; L1 error: 1.64E-03; L2 error: 4.44E-06; rel error: 2.76E-02.\n",
      "fdb runtime: 0 seconds; total runtime: 37 seconds.\n",
      "#### Starting deep galerkin method with seed 4 - 5 out of 10 times\n",
      "Time taken: 84 seconds; L1 error: 4.64E-03; L2 error: 2.80E-05; rel error: 9.97E-02.\n",
      "#### Starting deep BSDE method with seed 4 - 5 out of 10 times\n"
     ]
    },
    {
     "name": "stderr",
     "output_type": "stream",
     "text": [
      "Logs are saved in /home/nprivault/NTU/nguwi_jiang_yu/burgers/deep_branching_burgers/notebooks/logs/tmp\n"
     ]
    },
    {
     "name": "stdout",
     "output_type": "stream",
     "text": [
      "Time taken: 138 seconds; L1 error: 3.24E-03; L2 error: 1.68E-05; rel error: 4.96E-02.\n",
      "\n",
      "\n",
      "#### Starting deep branching method with seed 5 - 6 out of 10 times\n"
     ]
    },
    {
     "name": "stderr",
     "output_type": "stream",
     "text": [
      "Logs are saved in /home/nprivault/NTU/nguwi_jiang_yu/burgers/deep_branching_burgers/notebooks/logs/tmp\n"
     ]
    },
    {
     "name": "stdout",
     "output_type": "stream",
     "text": [
      "Time taken: 39 seconds; L1 error: 1.48E-03; L2 error: 3.98E-06; rel error: 2.48E-02.\n",
      "fdb runtime: 0 seconds; total runtime: 39 seconds.\n",
      "#### Starting deep galerkin method with seed 5 - 6 out of 10 times\n",
      "Time taken: 85 seconds; L1 error: 1.70E-03; L2 error: 4.46E-06; rel error: 4.00E-02.\n",
      "#### Starting deep BSDE method with seed 5 - 6 out of 10 times\n"
     ]
    },
    {
     "name": "stderr",
     "output_type": "stream",
     "text": [
      "Logs are saved in /home/nprivault/NTU/nguwi_jiang_yu/burgers/deep_branching_burgers/notebooks/logs/tmp\n"
     ]
    },
    {
     "name": "stdout",
     "output_type": "stream",
     "text": [
      "Time taken: 144 seconds; L1 error: 2.12E-03; L2 error: 6.83E-06; rel error: 3.83E-02.\n",
      "\n",
      "\n",
      "#### Starting deep branching method with seed 6 - 7 out of 10 times\n"
     ]
    },
    {
     "name": "stderr",
     "output_type": "stream",
     "text": [
      "Logs are saved in /home/nprivault/NTU/nguwi_jiang_yu/burgers/deep_branching_burgers/notebooks/logs/tmp\n"
     ]
    },
    {
     "name": "stdout",
     "output_type": "stream",
     "text": [
      "Time taken: 37 seconds; L1 error: 1.69E-03; L2 error: 5.81E-06; rel error: 2.90E-02.\n",
      "fdb runtime: 0 seconds; total runtime: 37 seconds.\n",
      "#### Starting deep galerkin method with seed 6 - 7 out of 10 times\n",
      "Time taken: 88 seconds; L1 error: 9.85E-04; L2 error: 1.37E-06; rel error: 1.63E-02.\n",
      "#### Starting deep BSDE method with seed 6 - 7 out of 10 times\n"
     ]
    },
    {
     "name": "stderr",
     "output_type": "stream",
     "text": [
      "Logs are saved in /home/nprivault/NTU/nguwi_jiang_yu/burgers/deep_branching_burgers/notebooks/logs/tmp\n"
     ]
    },
    {
     "name": "stdout",
     "output_type": "stream",
     "text": [
      "Time taken: 143 seconds; L1 error: 2.48E-03; L2 error: 9.48E-06; rel error: 3.32E-02.\n",
      "\n",
      "\n",
      "#### Starting deep branching method with seed 7 - 8 out of 10 times\n"
     ]
    },
    {
     "name": "stderr",
     "output_type": "stream",
     "text": [
      "Logs are saved in /home/nprivault/NTU/nguwi_jiang_yu/burgers/deep_branching_burgers/notebooks/logs/tmp\n"
     ]
    },
    {
     "name": "stdout",
     "output_type": "stream",
     "text": [
      "Time taken: 37 seconds; L1 error: 2.12E-03; L2 error: 7.50E-06; rel error: 3.31E-02.\n",
      "fdb runtime: 0 seconds; total runtime: 37 seconds.\n",
      "#### Starting deep galerkin method with seed 7 - 8 out of 10 times\n",
      "Time taken: 82 seconds; L1 error: 2.99E-03; L2 error: 1.21E-05; rel error: 6.79E-02.\n",
      "#### Starting deep BSDE method with seed 7 - 8 out of 10 times\n"
     ]
    },
    {
     "name": "stderr",
     "output_type": "stream",
     "text": [
      "Logs are saved in /home/nprivault/NTU/nguwi_jiang_yu/burgers/deep_branching_burgers/notebooks/logs/tmp\n"
     ]
    },
    {
     "name": "stdout",
     "output_type": "stream",
     "text": [
      "Time taken: 148 seconds; L1 error: 5.02E-03; L2 error: 4.21E-05; rel error: 7.29E-02.\n",
      "\n",
      "\n",
      "#### Starting deep branching method with seed 8 - 9 out of 10 times\n"
     ]
    },
    {
     "name": "stderr",
     "output_type": "stream",
     "text": [
      "Logs are saved in /home/nprivault/NTU/nguwi_jiang_yu/burgers/deep_branching_burgers/notebooks/logs/tmp\n"
     ]
    },
    {
     "name": "stdout",
     "output_type": "stream",
     "text": [
      "Time taken: 36 seconds; L1 error: 2.01E-03; L2 error: 9.36E-06; rel error: 3.05E-02.\n",
      "fdb runtime: 0 seconds; total runtime: 36 seconds.\n",
      "#### Starting deep galerkin method with seed 8 - 9 out of 10 times\n",
      "Time taken: 81 seconds; L1 error: 6.23E-04; L2 error: 8.09E-07; rel error: 1.99E-02.\n",
      "#### Starting deep BSDE method with seed 8 - 9 out of 10 times\n"
     ]
    },
    {
     "name": "stderr",
     "output_type": "stream",
     "text": [
      "Logs are saved in /home/nprivault/NTU/nguwi_jiang_yu/burgers/deep_branching_burgers/notebooks/logs/tmp\n"
     ]
    },
    {
     "name": "stdout",
     "output_type": "stream",
     "text": [
      "Time taken: 143 seconds; L1 error: 4.12E-03; L2 error: 2.29E-05; rel error: 5.76E-02.\n",
      "\n",
      "\n",
      "#### Starting deep branching method with seed 9 - 10 out of 10 times\n"
     ]
    },
    {
     "name": "stderr",
     "output_type": "stream",
     "text": [
      "Logs are saved in /home/nprivault/NTU/nguwi_jiang_yu/burgers/deep_branching_burgers/notebooks/logs/tmp\n"
     ]
    },
    {
     "name": "stdout",
     "output_type": "stream",
     "text": [
      "Time taken: 38 seconds; L1 error: 2.12E-03; L2 error: 7.90E-06; rel error: 3.50E-02.\n",
      "fdb runtime: 0 seconds; total runtime: 38 seconds.\n",
      "#### Starting deep galerkin method with seed 9 - 10 out of 10 times\n",
      "Time taken: 80 seconds; L1 error: 7.15E-04; L2 error: 8.47E-07; rel error: 1.66E-02.\n",
      "#### Starting deep BSDE method with seed 9 - 10 out of 10 times\n",
      "Time taken: 136 seconds; L1 error: 3.61E-03; L2 error: 1.99E-05; rel error: 7.52E-02.\n",
      "\n",
      "\n",
      "\n",
      "\n",
      "######## Summary for deep branching method\n",
      "runtime:        38\n",
      "fdb runtime:    0\n",
      "total runtime:  38\n",
      "mean L1 error:  1.72E-03\n",
      "std L1 error:   2.70E-04\n",
      "mean L2 error:  5.74E-06\n",
      "std L2 error:   1.86E-06\n",
      "mean rel error: 2.66E-02\n",
      "std rel error:  5.32E-03\n",
      "\n",
      "\n",
      "######## Summary for deep galerkin method\n",
      "runtime:        83\n",
      "mean L1 error:  1.67E-03\n",
      "std L1 error:   1.31E-03\n",
      "mean L2 error:  6.03E-06\n",
      "std L2 error:   8.33E-06\n",
      "mean rel error: 3.66E-02\n",
      "std rel error:  2.87E-02\n",
      "\n",
      "\n",
      "######## Summary for deep BSDE method\n",
      "runtime:        141\n",
      "mean L1 error:  3.46E-03\n",
      "std L1 error:   1.16E-03\n",
      "mean L2 error:  1.97E-05\n",
      "std L2 error:   1.30E-05\n",
      "mean rel error: 5.34E-02\n",
      "std rel error:  1.63E-02\n"
     ]
    },
    {
     "data": {
      "image/png": "[encoded data removed]",
      "text/plain": [
       "<Figure size 432x288 with 1 Axes>"
      ]
     },
     "metadata": {
      "needs_background": "light"
     },
     "output_type": "display_data"
    }
   ],
   "source": [
    "n, T, p, alpha, nu = 1, 0.5, 1, 1, 1\n",
    "fixed_dim, dim = 0, 1\n",
    "\n",
    "grid, grid_d_dim, grid_d_dim_with_t, t_lo, true, terminal, \\\n",
    "    f_example, deriv_map, phi_example, dgm_f_example = gen_for_modified_burgers(n=n, T=T, alpha=alpha, nu=nu, p=p)\n",
    "compare_performance(grid, grid_d_dim, grid_d_dim_with_t, t_lo, true, terminal=terminal, # seeds=[0],\n",
    "                    # disable_bsde=True, disable_galerkin=True, # verbose=True, debug_mode=True,\n",
    "                    T=T, device=device, epochs=3000, fname=f\"burger_{n}_T_{T}_p_{p}\",\n",
    "                    branch_nb_states=1000, branch_nb_path_per_state=10000,\n",
    "                    branch_patches=1, branch_exponential_lambda=-math.log(.95)/T,\n",
    "                    second_order=True, branch_nb_states_per_batch=200,\n",
    "                    bsde_nb_states=1000, bsde_nb_time_intervals=4,\n",
    "                    dgm_nb_states=10000, f_fun=f_example, dgm_f_fun=dgm_f_example,\n",
    "                    deriv_map=deriv_map, dgm_deriv_map=deriv_map, phi_fun=phi_example,\n",
    "                    lr_gamma=0.1, branch_lr=1e-2, branch_activation=\"tanh\", neurons=20, layers=5,\n",
    "                    save_for_best_model=False, save_as_tmp=True)"
   ]
  },
  {
   "cell_type": "markdown",
   "metadata": {},
   "source": [
    "### Figure 2-a) with d=1, p=1 and T=1."
   ]
  },
  {
   "cell_type": "code",
   "execution_count": 14,
   "metadata": {},
   "outputs": [
    {
     "name": "stderr",
     "output_type": "stream",
     "text": [
      "Logs are saved in /home/nprivault/NTU/nguwi_jiang_yu/burgers/deep_branching_burgers/notebooks/logs/tmp\n"
     ]
    },
    {
     "name": "stdout",
     "output_type": "stream",
     "text": [
      "#### Starting deep branching method with seed 0 - 1 out of 10 times\n"
     ]
    },
    {
     "name": "stderr",
     "output_type": "stream",
     "text": [
      "Logs are saved in /home/nprivault/NTU/nguwi_jiang_yu/burgers/deep_branching_burgers/notebooks/logs/tmp\n"
     ]
    },
    {
     "name": "stdout",
     "output_type": "stream",
     "text": [
      "Time taken: 37 seconds; L1 error: 5.84E-03; L2 error: 7.24E-05; rel error: 8.24E-02.\n",
      "fdb runtime: 0 seconds; total runtime: 37 seconds.\n",
      "#### Starting deep galerkin method with seed 0 - 1 out of 10 times\n",
      "Time taken: 85 seconds; L1 error: 8.61E-04; L2 error: 2.24E-06; rel error: 1.84E-02.\n",
      "#### Starting deep BSDE method with seed 0 - 1 out of 10 times\n"
     ]
    },
    {
     "name": "stderr",
     "output_type": "stream",
     "text": [
      "Logs are saved in /home/nprivault/NTU/nguwi_jiang_yu/burgers/deep_branching_burgers/notebooks/logs/tmp\n"
     ]
    },
    {
     "name": "stdout",
     "output_type": "stream",
     "text": [
      "Time taken: 145 seconds; L1 error: 2.19E-03; L2 error: 7.93E-06; rel error: 3.20E-02.\n",
      "\n",
      "\n",
      "#### Starting deep branching method with seed 1 - 2 out of 10 times\n"
     ]
    },
    {
     "name": "stderr",
     "output_type": "stream",
     "text": [
      "Logs are saved in /home/nprivault/NTU/nguwi_jiang_yu/burgers/deep_branching_burgers/notebooks/logs/tmp\n"
     ]
    },
    {
     "name": "stdout",
     "output_type": "stream",
     "text": [
      "Time taken: 38 seconds; L1 error: 4.03E-03; L2 error: 3.33E-05; rel error: 6.72E-02.\n",
      "fdb runtime: 0 seconds; total runtime: 38 seconds.\n",
      "#### Starting deep galerkin method with seed 1 - 2 out of 10 times\n",
      "Time taken: 87 seconds; L1 error: 1.35E-03; L2 error: 2.59E-06; rel error: 2.10E-02.\n",
      "#### Starting deep BSDE method with seed 1 - 2 out of 10 times\n"
     ]
    },
    {
     "name": "stderr",
     "output_type": "stream",
     "text": [
      "Logs are saved in /home/nprivault/NTU/nguwi_jiang_yu/burgers/deep_branching_burgers/notebooks/logs/tmp\n"
     ]
    },
    {
     "name": "stdout",
     "output_type": "stream",
     "text": [
      "Time taken: 143 seconds; L1 error: 3.77E-03; L2 error: 2.39E-05; rel error: 5.00E-02.\n",
      "\n",
      "\n",
      "#### Starting deep branching method with seed 2 - 3 out of 10 times\n"
     ]
    },
    {
     "name": "stderr",
     "output_type": "stream",
     "text": [
      "Logs are saved in /home/nprivault/NTU/nguwi_jiang_yu/burgers/deep_branching_burgers/notebooks/logs/tmp\n"
     ]
    },
    {
     "name": "stdout",
     "output_type": "stream",
     "text": [
      "Time taken: 40 seconds; L1 error: 5.48E-03; L2 error: 5.83E-05; rel error: 8.70E-02.\n",
      "fdb runtime: 0 seconds; total runtime: 40 seconds.\n",
      "#### Starting deep galerkin method with seed 2 - 3 out of 10 times\n",
      "Time taken: 86 seconds; L1 error: 1.71E-03; L2 error: 6.72E-06; rel error: 3.46E-02.\n",
      "#### Starting deep BSDE method with seed 2 - 3 out of 10 times\n"
     ]
    },
    {
     "name": "stderr",
     "output_type": "stream",
     "text": [
      "Logs are saved in /home/nprivault/NTU/nguwi_jiang_yu/burgers/deep_branching_burgers/notebooks/logs/tmp\n"
     ]
    },
    {
     "name": "stdout",
     "output_type": "stream",
     "text": [
      "Time taken: 145 seconds; L1 error: 1.97E-03; L2 error: 6.09E-06; rel error: 2.43E-02.\n",
      "\n",
      "\n",
      "#### Starting deep branching method with seed 3 - 4 out of 10 times\n"
     ]
    },
    {
     "name": "stderr",
     "output_type": "stream",
     "text": [
      "Logs are saved in /home/nprivault/NTU/nguwi_jiang_yu/burgers/deep_branching_burgers/notebooks/logs/tmp\n"
     ]
    },
    {
     "name": "stdout",
     "output_type": "stream",
     "text": [
      "Time taken: 38 seconds; L1 error: 6.09E-03; L2 error: 6.64E-05; rel error: 8.08E-02.\n",
      "fdb runtime: 0 seconds; total runtime: 38 seconds.\n",
      "#### Starting deep galerkin method with seed 3 - 4 out of 10 times\n",
      "Time taken: 85 seconds; L1 error: 3.04E-03; L2 error: 1.30E-05; rel error: 4.71E-02.\n",
      "#### Starting deep BSDE method with seed 3 - 4 out of 10 times\n"
     ]
    },
    {
     "name": "stderr",
     "output_type": "stream",
     "text": [
      "Logs are saved in /home/nprivault/NTU/nguwi_jiang_yu/burgers/deep_branching_burgers/notebooks/logs/tmp\n"
     ]
    },
    {
     "name": "stdout",
     "output_type": "stream",
     "text": [
      "Time taken: 139 seconds; L1 error: 2.14E-03; L2 error: 7.15E-06; rel error: 2.66E-02.\n",
      "\n",
      "\n",
      "#### Starting deep branching method with seed 4 - 5 out of 10 times\n"
     ]
    },
    {
     "name": "stderr",
     "output_type": "stream",
     "text": [
      "Logs are saved in /home/nprivault/NTU/nguwi_jiang_yu/burgers/deep_branching_burgers/notebooks/logs/tmp\n"
     ]
    },
    {
     "name": "stdout",
     "output_type": "stream",
     "text": [
      "Time taken: 39 seconds; L1 error: 4.82E-03; L2 error: 5.73E-05; rel error: 9.03E-02.\n",
      "fdb runtime: 0 seconds; total runtime: 39 seconds.\n",
      "#### Starting deep galerkin method with seed 4 - 5 out of 10 times\n",
      "Time taken: 84 seconds; L1 error: 1.27E-03; L2 error: 1.97E-06; rel error: 1.67E-02.\n",
      "#### Starting deep BSDE method with seed 4 - 5 out of 10 times\n"
     ]
    },
    {
     "name": "stderr",
     "output_type": "stream",
     "text": [
      "Logs are saved in /home/nprivault/NTU/nguwi_jiang_yu/burgers/deep_branching_burgers/notebooks/logs/tmp\n"
     ]
    },
    {
     "name": "stdout",
     "output_type": "stream",
     "text": [
      "Time taken: 143 seconds; L1 error: 4.25E-03; L2 error: 2.58E-05; rel error: 6.45E-02.\n",
      "\n",
      "\n",
      "#### Starting deep branching method with seed 5 - 6 out of 10 times\n"
     ]
    },
    {
     "name": "stderr",
     "output_type": "stream",
     "text": [
      "Logs are saved in /home/nprivault/NTU/nguwi_jiang_yu/burgers/deep_branching_burgers/notebooks/logs/tmp\n"
     ]
    },
    {
     "name": "stdout",
     "output_type": "stream",
     "text": [
      "Time taken: 33 seconds; L1 error: 5.77E-03; L2 error: 6.36E-05; rel error: 8.49E-02.\n",
      "fdb runtime: 0 seconds; total runtime: 33 seconds.\n",
      "#### Starting deep galerkin method with seed 5 - 6 out of 10 times\n",
      "Time taken: 81 seconds; L1 error: 2.58E-03; L2 error: 1.35E-05; rel error: 4.68E-02.\n",
      "#### Starting deep BSDE method with seed 5 - 6 out of 10 times\n"
     ]
    },
    {
     "name": "stderr",
     "output_type": "stream",
     "text": [
      "Logs are saved in /home/nprivault/NTU/nguwi_jiang_yu/burgers/deep_branching_burgers/notebooks/logs/tmp\n"
     ]
    },
    {
     "name": "stdout",
     "output_type": "stream",
     "text": [
      "Time taken: 137 seconds; L1 error: 1.80E-03; L2 error: 4.04E-06; rel error: 2.50E-02.\n",
      "\n",
      "\n",
      "#### Starting deep branching method with seed 6 - 7 out of 10 times\n"
     ]
    },
    {
     "name": "stderr",
     "output_type": "stream",
     "text": [
      "Logs are saved in /home/nprivault/NTU/nguwi_jiang_yu/burgers/deep_branching_burgers/notebooks/logs/tmp\n"
     ]
    },
    {
     "name": "stdout",
     "output_type": "stream",
     "text": [
      "Time taken: 41 seconds; L1 error: 6.65E-03; L2 error: 1.07E-04; rel error: 1.43E-01.\n",
      "fdb runtime: 0 seconds; total runtime: 41 seconds.\n",
      "#### Starting deep galerkin method with seed 6 - 7 out of 10 times\n",
      "Time taken: 85 seconds; L1 error: 2.09E-03; L2 error: 6.74E-06; rel error: 3.14E-02.\n",
      "#### Starting deep BSDE method with seed 6 - 7 out of 10 times\n"
     ]
    },
    {
     "name": "stderr",
     "output_type": "stream",
     "text": [
      "Logs are saved in /home/nprivault/NTU/nguwi_jiang_yu/burgers/deep_branching_burgers/notebooks/logs/tmp\n"
     ]
    },
    {
     "name": "stdout",
     "output_type": "stream",
     "text": [
      "Time taken: 142 seconds; L1 error: 2.52E-03; L2 error: 1.04E-05; rel error: 2.39E-02.\n",
      "\n",
      "\n",
      "#### Starting deep branching method with seed 7 - 8 out of 10 times\n"
     ]
    },
    {
     "name": "stderr",
     "output_type": "stream",
     "text": [
      "Logs are saved in /home/nprivault/NTU/nguwi_jiang_yu/burgers/deep_branching_burgers/notebooks/logs/tmp\n"
     ]
    },
    {
     "name": "stdout",
     "output_type": "stream",
     "text": [
      "Time taken: 33 seconds; L1 error: 5.50E-03; L2 error: 6.28E-05; rel error: 5.83E-02.\n",
      "fdb runtime: 0 seconds; total runtime: 33 seconds.\n",
      "#### Starting deep galerkin method with seed 7 - 8 out of 10 times\n",
      "Time taken: 82 seconds; L1 error: 2.38E-03; L2 error: 9.42E-06; rel error: 4.03E-02.\n",
      "#### Starting deep BSDE method with seed 7 - 8 out of 10 times\n"
     ]
    },
    {
     "name": "stderr",
     "output_type": "stream",
     "text": [
      "Logs are saved in /home/nprivault/NTU/nguwi_jiang_yu/burgers/deep_branching_burgers/notebooks/logs/tmp\n"
     ]
    },
    {
     "name": "stdout",
     "output_type": "stream",
     "text": [
      "Time taken: 148 seconds; L1 error: 3.06E-03; L2 error: 1.36E-05; rel error: 3.64E-02.\n",
      "\n",
      "\n",
      "#### Starting deep branching method with seed 8 - 9 out of 10 times\n"
     ]
    },
    {
     "name": "stderr",
     "output_type": "stream",
     "text": [
      "Logs are saved in /home/nprivault/NTU/nguwi_jiang_yu/burgers/deep_branching_burgers/notebooks/logs/tmp\n"
     ]
    },
    {
     "name": "stdout",
     "output_type": "stream",
     "text": [
      "Time taken: 36 seconds; L1 error: 5.66E-03; L2 error: 9.33E-05; rel error: 9.16E-02.\n",
      "fdb runtime: 0 seconds; total runtime: 36 seconds.\n",
      "#### Starting deep galerkin method with seed 8 - 9 out of 10 times\n",
      "Time taken: 75 seconds; L1 error: 4.41E-04; L2 error: 3.21E-07; rel error: 6.61E-03.\n",
      "#### Starting deep BSDE method with seed 8 - 9 out of 10 times\n"
     ]
    },
    {
     "name": "stderr",
     "output_type": "stream",
     "text": [
      "Logs are saved in /home/nprivault/NTU/nguwi_jiang_yu/burgers/deep_branching_burgers/notebooks/logs/tmp\n"
     ]
    },
    {
     "name": "stdout",
     "output_type": "stream",
     "text": [
      "Time taken: 138 seconds; L1 error: 3.73E-03; L2 error: 2.15E-05; rel error: 5.61E-02.\n",
      "\n",
      "\n",
      "#### Starting deep branching method with seed 9 - 10 out of 10 times\n"
     ]
    },
    {
     "name": "stderr",
     "output_type": "stream",
     "text": [
      "Logs are saved in /home/nprivault/NTU/nguwi_jiang_yu/burgers/deep_branching_burgers/notebooks/logs/tmp\n"
     ]
    },
    {
     "name": "stdout",
     "output_type": "stream",
     "text": [
      "Time taken: 35 seconds; L1 error: 4.54E-03; L2 error: 5.62E-05; rel error: 1.06E-01.\n",
      "fdb runtime: 0 seconds; total runtime: 35 seconds.\n",
      "#### Starting deep galerkin method with seed 9 - 10 out of 10 times\n",
      "Time taken: 91 seconds; L1 error: 8.72E-04; L2 error: 1.78E-06; rel error: 1.84E-02.\n",
      "#### Starting deep BSDE method with seed 9 - 10 out of 10 times\n",
      "Time taken: 137 seconds; L1 error: 2.45E-03; L2 error: 1.13E-05; rel error: 4.46E-02.\n",
      "\n",
      "\n",
      "\n",
      "\n",
      "######## Summary for deep branching method\n",
      "runtime:        37\n",
      "fdb runtime:    0\n",
      "total runtime:  37\n",
      "mean L1 error:  5.44E-03\n",
      "std L1 error:   7.33E-04\n",
      "mean L2 error:  6.71E-05\n",
      "std L2 error:   1.94E-05\n",
      "mean rel error: 8.91E-02\n",
      "std rel error:  2.17E-02\n",
      "\n",
      "\n",
      "######## Summary for deep galerkin method\n",
      "runtime:        84\n",
      "mean L1 error:  1.66E-03\n",
      "std L1 error:   8.03E-04\n",
      "mean L2 error:  5.83E-06\n",
      "std L2 error:   4.58E-06\n",
      "mean rel error: 2.81E-02\n",
      "std rel error:  1.32E-02\n",
      "\n",
      "\n",
      "######## Summary for deep BSDE method\n",
      "runtime:        142\n",
      "mean L1 error:  2.79E-03\n",
      "std L1 error:   8.18E-04\n",
      "mean L2 error:  1.32E-05\n",
      "std L2 error:   7.43E-06\n",
      "mean rel error: 3.83E-02\n",
      "std rel error:  1.39E-02\n"
     ]
    },
    {
     "data": {
      "image/png": "[encoded data removed]",
      "text/plain": [
       "<Figure size 432x288 with 1 Axes>"
      ]
     },
     "metadata": {
      "needs_background": "light"
     },
     "output_type": "display_data"
    }
   ],
   "source": [
    "n, T, p, alpha, nu = 1, 1, 1, 1, 1\n",
    "fixed_dim, dim = 0, 1\n",
    "\n",
    "grid, grid_d_dim, grid_d_dim_with_t, t_lo, true, terminal, \\\n",
    "    f_example, deriv_map, phi_example, dgm_f_example = gen_for_modified_burgers(n=n, T=T, alpha=alpha, nu=nu, p=p)\n",
    "compare_performance(grid, grid_d_dim, grid_d_dim_with_t, t_lo, true, terminal=terminal, # seeds=[0],\n",
    "                    # disable_bsde=True, disable_galerkin=True, # verbose=True, debug_mode=True,\n",
    "                    T=T, device=device, epochs=3000, fname=f\"burger_{n}_T_{T}_p_{p}\",\n",
    "                    branch_nb_states=1000, branch_nb_path_per_state=10000,\n",
    "                    branch_patches=1, branch_exponential_lambda=-math.log(.95)/T,\n",
    "                    second_order=True, branch_nb_states_per_batch=200,\n",
    "                    bsde_nb_states=1000, bsde_nb_time_intervals=4,\n",
    "                    dgm_nb_states=10000, f_fun=f_example, dgm_f_fun=dgm_f_example,\n",
    "                    deriv_map=deriv_map, dgm_deriv_map=deriv_map, phi_fun=phi_example,\n",
    "                    lr_gamma=0.1, branch_lr=1e-2, branch_activation=\"tanh\", neurons=20, layers=5,\n",
    "                    save_for_best_model=False, save_as_tmp=True)"
   ]
  },
  {
   "cell_type": "markdown",
   "metadata": {},
   "source": [
    "### Figure 3-a) with d=1, p=2 and T=1."
   ]
  },
  {
   "cell_type": "code",
   "execution_count": 17,
   "metadata": {},
   "outputs": [
    {
     "name": "stderr",
     "output_type": "stream",
     "text": [
      "Logs are saved in /home/nprivault/NTU/nguwi_jiang_yu/burgers/deep_branching_burgers/notebooks/logs/tmp\n"
     ]
    },
    {
     "name": "stdout",
     "output_type": "stream",
     "text": [
      "#### Starting deep branching method with seed 0 - 1 out of 10 times\n"
     ]
    },
    {
     "name": "stderr",
     "output_type": "stream",
     "text": [
      "Logs are saved in /home/nprivault/NTU/nguwi_jiang_yu/burgers/deep_branching_burgers/notebooks/logs/tmp\n"
     ]
    },
    {
     "name": "stdout",
     "output_type": "stream",
     "text": [
      "Time taken: 38 seconds; L1 error: 3.08E-03; L2 error: 1.57E-05; rel error: 5.33E-02.\n",
      "fdb runtime: 0 seconds; total runtime: 38 seconds.\n",
      "#### Starting deep galerkin method with seed 0 - 1 out of 10 times\n",
      "Time taken: 90 seconds; L1 error: 2.98E-03; L2 error: 1.22E-05; rel error: 4.93E-02.\n",
      "#### Starting deep BSDE method with seed 0 - 1 out of 10 times\n"
     ]
    },
    {
     "name": "stderr",
     "output_type": "stream",
     "text": [
      "Logs are saved in /home/nprivault/NTU/nguwi_jiang_yu/burgers/deep_branching_burgers/notebooks/logs/tmp\n"
     ]
    },
    {
     "name": "stdout",
     "output_type": "stream",
     "text": [
      "Time taken: 146 seconds; L1 error: 3.13E-03; L2 error: 1.63E-05; rel error: 5.86E-02.\n",
      "\n",
      "\n",
      "#### Starting deep branching method with seed 1 - 2 out of 10 times\n"
     ]
    },
    {
     "name": "stderr",
     "output_type": "stream",
     "text": [
      "Logs are saved in /home/nprivault/NTU/nguwi_jiang_yu/burgers/deep_branching_burgers/notebooks/logs/tmp\n"
     ]
    },
    {
     "name": "stdout",
     "output_type": "stream",
     "text": [
      "Time taken: 38 seconds; L1 error: 3.31E-03; L2 error: 1.52E-05; rel error: 7.13E-02.\n",
      "fdb runtime: 0 seconds; total runtime: 38 seconds.\n",
      "#### Starting deep galerkin method with seed 1 - 2 out of 10 times\n",
      "Time taken: 88 seconds; L1 error: 4.51E-03; L2 error: 2.87E-05; rel error: 1.20E-01.\n",
      "#### Starting deep BSDE method with seed 1 - 2 out of 10 times\n"
     ]
    },
    {
     "name": "stderr",
     "output_type": "stream",
     "text": [
      "Logs are saved in /home/nprivault/NTU/nguwi_jiang_yu/burgers/deep_branching_burgers/notebooks/logs/tmp\n"
     ]
    },
    {
     "name": "stdout",
     "output_type": "stream",
     "text": [
      "Time taken: 140 seconds; L1 error: 3.96E-03; L2 error: 2.25E-05; rel error: 9.95E-02.\n",
      "\n",
      "\n",
      "#### Starting deep branching method with seed 2 - 3 out of 10 times\n"
     ]
    },
    {
     "name": "stderr",
     "output_type": "stream",
     "text": [
      "Logs are saved in /home/nprivault/NTU/nguwi_jiang_yu/burgers/deep_branching_burgers/notebooks/logs/tmp\n"
     ]
    },
    {
     "name": "stdout",
     "output_type": "stream",
     "text": [
      "Time taken: 36 seconds; L1 error: 4.15E-03; L2 error: 2.19E-05; rel error: 8.69E-02.\n",
      "fdb runtime: 0 seconds; total runtime: 36 seconds.\n",
      "#### Starting deep galerkin method with seed 2 - 3 out of 10 times\n",
      "Time taken: 83 seconds; L1 error: 3.29E-03; L2 error: 1.59E-05; rel error: 8.17E-02.\n",
      "#### Starting deep BSDE method with seed 2 - 3 out of 10 times\n"
     ]
    },
    {
     "name": "stderr",
     "output_type": "stream",
     "text": [
      "Logs are saved in /home/nprivault/NTU/nguwi_jiang_yu/burgers/deep_branching_burgers/notebooks/logs/tmp\n"
     ]
    },
    {
     "name": "stdout",
     "output_type": "stream",
     "text": [
      "Time taken: 137 seconds; L1 error: 3.55E-03; L2 error: 2.00E-05; rel error: 6.62E-02.\n",
      "\n",
      "\n",
      "#### Starting deep branching method with seed 3 - 4 out of 10 times\n"
     ]
    },
    {
     "name": "stderr",
     "output_type": "stream",
     "text": [
      "Logs are saved in /home/nprivault/NTU/nguwi_jiang_yu/burgers/deep_branching_burgers/notebooks/logs/tmp\n"
     ]
    },
    {
     "name": "stdout",
     "output_type": "stream",
     "text": [
      "Time taken: 39 seconds; L1 error: 3.42E-03; L2 error: 1.52E-05; rel error: 5.82E-02.\n",
      "fdb runtime: 0 seconds; total runtime: 39 seconds.\n",
      "#### Starting deep galerkin method with seed 3 - 4 out of 10 times\n",
      "Time taken: 80 seconds; L1 error: 2.35E-03; L2 error: 7.67E-06; rel error: 4.51E-02.\n",
      "#### Starting deep BSDE method with seed 3 - 4 out of 10 times\n"
     ]
    },
    {
     "name": "stderr",
     "output_type": "stream",
     "text": [
      "Logs are saved in /home/nprivault/NTU/nguwi_jiang_yu/burgers/deep_branching_burgers/notebooks/logs/tmp\n"
     ]
    },
    {
     "name": "stdout",
     "output_type": "stream",
     "text": [
      "Time taken: 139 seconds; L1 error: 3.50E-03; L2 error: 1.77E-05; rel error: 6.87E-02.\n",
      "\n",
      "\n",
      "#### Starting deep branching method with seed 4 - 5 out of 10 times\n"
     ]
    },
    {
     "name": "stderr",
     "output_type": "stream",
     "text": [
      "Logs are saved in /home/nprivault/NTU/nguwi_jiang_yu/burgers/deep_branching_burgers/notebooks/logs/tmp\n"
     ]
    },
    {
     "name": "stdout",
     "output_type": "stream",
     "text": [
      "Time taken: 37 seconds; L1 error: 3.15E-03; L2 error: 1.38E-05; rel error: 5.94E-02.\n",
      "fdb runtime: 0 seconds; total runtime: 37 seconds.\n",
      "#### Starting deep galerkin method with seed 4 - 5 out of 10 times\n",
      "Time taken: 77 seconds; L1 error: 2.50E-03; L2 error: 8.20E-06; rel error: 4.76E-02.\n",
      "#### Starting deep BSDE method with seed 4 - 5 out of 10 times\n"
     ]
    },
    {
     "name": "stderr",
     "output_type": "stream",
     "text": [
      "Logs are saved in /home/nprivault/NTU/nguwi_jiang_yu/burgers/deep_branching_burgers/notebooks/logs/tmp\n"
     ]
    },
    {
     "name": "stdout",
     "output_type": "stream",
     "text": [
      "Time taken: 142 seconds; L1 error: 3.83E-03; L2 error: 2.18E-05; rel error: 7.99E-02.\n",
      "\n",
      "\n",
      "#### Starting deep branching method with seed 5 - 6 out of 10 times\n"
     ]
    },
    {
     "name": "stderr",
     "output_type": "stream",
     "text": [
      "Logs are saved in /home/nprivault/NTU/nguwi_jiang_yu/burgers/deep_branching_burgers/notebooks/logs/tmp\n"
     ]
    },
    {
     "name": "stdout",
     "output_type": "stream",
     "text": [
      "Time taken: 40 seconds; L1 error: 3.59E-03; L2 error: 1.61E-05; rel error: 6.96E-02.\n",
      "fdb runtime: 0 seconds; total runtime: 40 seconds.\n",
      "#### Starting deep galerkin method with seed 5 - 6 out of 10 times\n",
      "Time taken: 85 seconds; L1 error: 3.00E-03; L2 error: 1.25E-05; rel error: 8.28E-02.\n",
      "#### Starting deep BSDE method with seed 5 - 6 out of 10 times\n"
     ]
    },
    {
     "name": "stderr",
     "output_type": "stream",
     "text": [
      "Logs are saved in /home/nprivault/NTU/nguwi_jiang_yu/burgers/deep_branching_burgers/notebooks/logs/tmp\n"
     ]
    },
    {
     "name": "stdout",
     "output_type": "stream",
     "text": [
      "Time taken: 140 seconds; L1 error: 2.99E-03; L2 error: 1.49E-05; rel error: 4.33E-02.\n",
      "\n",
      "\n",
      "#### Starting deep branching method with seed 6 - 7 out of 10 times\n"
     ]
    },
    {
     "name": "stderr",
     "output_type": "stream",
     "text": [
      "Logs are saved in /home/nprivault/NTU/nguwi_jiang_yu/burgers/deep_branching_burgers/notebooks/logs/tmp\n"
     ]
    },
    {
     "name": "stdout",
     "output_type": "stream",
     "text": [
      "Time taken: 40 seconds; L1 error: 3.59E-03; L2 error: 1.77E-05; rel error: 6.13E-02.\n",
      "fdb runtime: 0 seconds; total runtime: 40 seconds.\n",
      "#### Starting deep galerkin method with seed 6 - 7 out of 10 times\n",
      "Time taken: 91 seconds; L1 error: 2.88E-03; L2 error: 1.19E-05; rel error: 4.80E-02.\n",
      "#### Starting deep BSDE method with seed 6 - 7 out of 10 times\n"
     ]
    },
    {
     "name": "stderr",
     "output_type": "stream",
     "text": [
      "Logs are saved in /home/nprivault/NTU/nguwi_jiang_yu/burgers/deep_branching_burgers/notebooks/logs/tmp\n"
     ]
    },
    {
     "name": "stdout",
     "output_type": "stream",
     "text": [
      "Time taken: 148 seconds; L1 error: 3.44E-03; L2 error: 1.74E-05; rel error: 5.48E-02.\n",
      "\n",
      "\n",
      "#### Starting deep branching method with seed 7 - 8 out of 10 times\n"
     ]
    },
    {
     "name": "stderr",
     "output_type": "stream",
     "text": [
      "Logs are saved in /home/nprivault/NTU/nguwi_jiang_yu/burgers/deep_branching_burgers/notebooks/logs/tmp\n"
     ]
    },
    {
     "name": "stdout",
     "output_type": "stream",
     "text": [
      "Time taken: 39 seconds; L1 error: 3.59E-03; L2 error: 1.80E-05; rel error: 6.12E-02.\n",
      "fdb runtime: 0 seconds; total runtime: 39 seconds.\n",
      "#### Starting deep galerkin method with seed 7 - 8 out of 10 times\n",
      "Time taken: 89 seconds; L1 error: 3.00E-03; L2 error: 1.31E-05; rel error: 5.22E-02.\n",
      "#### Starting deep BSDE method with seed 7 - 8 out of 10 times\n"
     ]
    },
    {
     "name": "stderr",
     "output_type": "stream",
     "text": [
      "Logs are saved in /home/nprivault/NTU/nguwi_jiang_yu/burgers/deep_branching_burgers/notebooks/logs/tmp\n"
     ]
    },
    {
     "name": "stdout",
     "output_type": "stream",
     "text": [
      "Time taken: 148 seconds; L1 error: 3.41E-03; L2 error: 1.64E-05; rel error: 7.73E-02.\n",
      "\n",
      "\n",
      "#### Starting deep branching method with seed 8 - 9 out of 10 times\n"
     ]
    },
    {
     "name": "stderr",
     "output_type": "stream",
     "text": [
      "Logs are saved in /home/nprivault/NTU/nguwi_jiang_yu/burgers/deep_branching_burgers/notebooks/logs/tmp\n"
     ]
    },
    {
     "name": "stdout",
     "output_type": "stream",
     "text": [
      "Time taken: 40 seconds; L1 error: 3.55E-03; L2 error: 1.64E-05; rel error: 6.76E-02.\n",
      "fdb runtime: 0 seconds; total runtime: 40 seconds.\n",
      "#### Starting deep galerkin method with seed 8 - 9 out of 10 times\n",
      "Time taken: 78 seconds; L1 error: 2.96E-03; L2 error: 1.17E-05; rel error: 5.24E-02.\n",
      "#### Starting deep BSDE method with seed 8 - 9 out of 10 times\n"
     ]
    },
    {
     "name": "stderr",
     "output_type": "stream",
     "text": [
      "Logs are saved in /home/nprivault/NTU/nguwi_jiang_yu/burgers/deep_branching_burgers/notebooks/logs/tmp\n"
     ]
    },
    {
     "name": "stdout",
     "output_type": "stream",
     "text": [
      "Time taken: 148 seconds; L1 error: 3.49E-03; L2 error: 1.66E-05; rel error: 6.79E-02.\n",
      "\n",
      "\n",
      "#### Starting deep branching method with seed 9 - 10 out of 10 times\n"
     ]
    },
    {
     "name": "stderr",
     "output_type": "stream",
     "text": [
      "Logs are saved in /home/nprivault/NTU/nguwi_jiang_yu/burgers/deep_branching_burgers/notebooks/logs/tmp\n"
     ]
    },
    {
     "name": "stdout",
     "output_type": "stream",
     "text": [
      "Time taken: 35 seconds; L1 error: 3.33E-03; L2 error: 1.54E-05; rel error: 6.67E-02.\n",
      "fdb runtime: 0 seconds; total runtime: 35 seconds.\n",
      "#### Starting deep galerkin method with seed 9 - 10 out of 10 times\n",
      "Time taken: 85 seconds; L1 error: 2.79E-03; L2 error: 1.10E-05; rel error: 4.92E-02.\n",
      "#### Starting deep BSDE method with seed 9 - 10 out of 10 times\n",
      "Time taken: 145 seconds; L1 error: 3.17E-03; L2 error: 1.55E-05; rel error: 6.35E-02.\n",
      "\n",
      "\n",
      "\n",
      "\n",
      "######## Summary for deep branching method\n",
      "runtime:        38\n",
      "fdb runtime:    0\n",
      "total runtime:  38\n",
      "mean L1 error:  3.47E-03\n",
      "std L1 error:   2.85E-04\n",
      "mean L2 error:  1.65E-05\n",
      "std L2 error:   2.13E-06\n",
      "mean rel error: 6.55E-02\n",
      "std rel error:  8.88E-03\n",
      "\n",
      "\n",
      "######## Summary for deep galerkin method\n",
      "runtime:        85\n",
      "mean L1 error:  3.02E-03\n",
      "std L1 error:   5.56E-04\n",
      "mean L2 error:  1.33E-05\n",
      "std L2 error:   5.61E-06\n",
      "mean rel error: 6.28E-02\n",
      "std rel error:  2.31E-02\n",
      "\n",
      "\n",
      "######## Summary for deep BSDE method\n",
      "runtime:        143\n",
      "mean L1 error:  3.45E-03\n",
      "std L1 error:   2.87E-04\n",
      "mean L2 error:  1.79E-05\n",
      "std L2 error:   2.50E-06\n",
      "mean rel error: 6.80E-02\n",
      "std rel error:  1.45E-02\n"
     ]
    },
    {
     "data": {
      "image/png": "[encoded data removed]",
      "text/plain": [
       "<Figure size 432x288 with 1 Axes>"
      ]
     },
     "metadata": {
      "needs_background": "light"
     },
     "output_type": "display_data"
    }
   ],
   "source": [
    "n, T, p, alpha, nu = 1, 1, 2, 2, 1\n",
    "fixed_dim, dim = 0, 1\n",
    "\n",
    "grid, grid_d_dim, grid_d_dim_with_t, t_lo, true, terminal, \\\n",
    "    f_example, deriv_map, phi_example, dgm_f_example = gen_for_modified_burgers(n=n, T=T, alpha=alpha, nu=nu, p=p)\n",
    "compare_performance(grid, grid_d_dim, grid_d_dim_with_t, t_lo, true, terminal=terminal, # seeds=[0],\n",
    "                    # disable_bsde=True, disable_galerkin=True, # verbose=True, debug_mode=True,\n",
    "                    T=T, device=device, epochs=3000, fname=f\"burger_{n}_T_{T}_p_{p}\",\n",
    "                    branch_nb_states=1000, branch_nb_path_per_state=10000,\n",
    "                    branch_patches=1, branch_exponential_lambda=-math.log(.95)/T,\n",
    "                    second_order=True, branch_nb_states_per_batch=200,\n",
    "                    bsde_nb_states=1000, bsde_nb_time_intervals=4,\n",
    "                    dgm_nb_states=10000, f_fun=f_example, dgm_f_fun=dgm_f_example,\n",
    "                    deriv_map=deriv_map, dgm_deriv_map=deriv_map, phi_fun=phi_example,\n",
    "                    lr_gamma=0.1, branch_lr=1e-2, branch_activation=\"tanh\", neurons=20, layers=5,\n",
    "                    save_for_best_model=False, save_as_tmp=True)"
   ]
  },
  {
   "cell_type": "markdown",
   "metadata": {},
   "source": [
    "### Figure 3-b) with d=1, p=3 and T=1."
   ]
  },
  {
   "cell_type": "code",
   "execution_count": 16,
   "metadata": {},
   "outputs": [
    {
     "name": "stderr",
     "output_type": "stream",
     "text": [
      "Logs are saved in /home/nprivault/NTU/nguwi_jiang_yu/burgers/deep_branching_burgers/notebooks/logs/tmp\n"
     ]
    },
    {
     "name": "stdout",
     "output_type": "stream",
     "text": [
      "#### Starting deep branching method with seed 0 - 1 out of 10 times\n"
     ]
    },
    {
     "name": "stderr",
     "output_type": "stream",
     "text": [
      "Logs are saved in /home/nprivault/NTU/nguwi_jiang_yu/burgers/deep_branching_burgers/notebooks/logs/tmp\n"
     ]
    },
    {
     "name": "stdout",
     "output_type": "stream",
     "text": [
      "Time taken: 36 seconds; L1 error: 2.88E-03; L2 error: 1.24E-05; rel error: 4.61E-02.\n",
      "fdb runtime: 0 seconds; total runtime: 36 seconds.\n",
      "#### Starting deep galerkin method with seed 0 - 1 out of 10 times\n",
      "Time taken: 89 seconds; L1 error: 3.31E-03; L2 error: 1.72E-05; rel error: 9.13E-02.\n",
      "#### Starting deep BSDE method with seed 0 - 1 out of 10 times\n"
     ]
    },
    {
     "name": "stderr",
     "output_type": "stream",
     "text": [
      "Logs are saved in /home/nprivault/NTU/nguwi_jiang_yu/burgers/deep_branching_burgers/notebooks/logs/tmp\n"
     ]
    },
    {
     "name": "stdout",
     "output_type": "stream",
     "text": [
      "Time taken: 149 seconds; L1 error: 4.19E-03; L2 error: 2.49E-05; rel error: 1.01E-01.\n",
      "\n",
      "\n",
      "#### Starting deep branching method with seed 1 - 2 out of 10 times\n"
     ]
    },
    {
     "name": "stderr",
     "output_type": "stream",
     "text": [
      "Logs are saved in /home/nprivault/NTU/nguwi_jiang_yu/burgers/deep_branching_burgers/notebooks/logs/tmp\n"
     ]
    },
    {
     "name": "stdout",
     "output_type": "stream",
     "text": [
      "Time taken: 38 seconds; L1 error: 3.26E-03; L2 error: 1.43E-05; rel error: 5.25E-02.\n",
      "fdb runtime: 0 seconds; total runtime: 38 seconds.\n",
      "#### Starting deep galerkin method with seed 1 - 2 out of 10 times\n",
      "Time taken: 77 seconds; L1 error: 4.38E-03; L2 error: 2.59E-05; rel error: 8.17E-02.\n",
      "#### Starting deep BSDE method with seed 1 - 2 out of 10 times\n"
     ]
    },
    {
     "name": "stderr",
     "output_type": "stream",
     "text": [
      "Logs are saved in /home/nprivault/NTU/nguwi_jiang_yu/burgers/deep_branching_burgers/notebooks/logs/tmp\n"
     ]
    },
    {
     "name": "stdout",
     "output_type": "stream",
     "text": [
      "Time taken: 129 seconds; L1 error: 3.63E-03; L2 error: 2.06E-05; rel error: 6.25E-02.\n",
      "\n",
      "\n",
      "#### Starting deep branching method with seed 2 - 3 out of 10 times\n"
     ]
    },
    {
     "name": "stderr",
     "output_type": "stream",
     "text": [
      "Logs are saved in /home/nprivault/NTU/nguwi_jiang_yu/burgers/deep_branching_burgers/notebooks/logs/tmp\n"
     ]
    },
    {
     "name": "stdout",
     "output_type": "stream",
     "text": [
      "Time taken: 39 seconds; L1 error: 3.24E-03; L2 error: 1.38E-05; rel error: 5.29E-02.\n",
      "fdb runtime: 0 seconds; total runtime: 39 seconds.\n",
      "#### Starting deep galerkin method with seed 2 - 3 out of 10 times\n",
      "Time taken: 92 seconds; L1 error: 4.93E-03; L2 error: 3.12E-05; rel error: 1.26E-01.\n",
      "#### Starting deep BSDE method with seed 2 - 3 out of 10 times\n"
     ]
    },
    {
     "name": "stderr",
     "output_type": "stream",
     "text": [
      "Logs are saved in /home/nprivault/NTU/nguwi_jiang_yu/burgers/deep_branching_burgers/notebooks/logs/tmp\n"
     ]
    },
    {
     "name": "stdout",
     "output_type": "stream",
     "text": [
      "Time taken: 135 seconds; L1 error: 3.82E-03; L2 error: 2.18E-05; rel error: 7.25E-02.\n",
      "\n",
      "\n",
      "#### Starting deep branching method with seed 3 - 4 out of 10 times\n"
     ]
    },
    {
     "name": "stderr",
     "output_type": "stream",
     "text": [
      "Logs are saved in /home/nprivault/NTU/nguwi_jiang_yu/burgers/deep_branching_burgers/notebooks/logs/tmp\n"
     ]
    },
    {
     "name": "stdout",
     "output_type": "stream",
     "text": [
      "Time taken: 38 seconds; L1 error: 3.16E-03; L2 error: 1.30E-05; rel error: 4.97E-02.\n",
      "fdb runtime: 0 seconds; total runtime: 38 seconds.\n",
      "#### Starting deep galerkin method with seed 3 - 4 out of 10 times\n",
      "Time taken: 85 seconds; L1 error: 2.31E-03; L2 error: 7.00E-06; rel error: 4.27E-02.\n",
      "#### Starting deep BSDE method with seed 3 - 4 out of 10 times\n"
     ]
    },
    {
     "name": "stderr",
     "output_type": "stream",
     "text": [
      "Logs are saved in /home/nprivault/NTU/nguwi_jiang_yu/burgers/deep_branching_burgers/notebooks/logs/tmp\n"
     ]
    },
    {
     "name": "stdout",
     "output_type": "stream",
     "text": [
      "Time taken: 140 seconds; L1 error: 3.88E-03; L2 error: 2.12E-05; rel error: 7.35E-02.\n",
      "\n",
      "\n",
      "#### Starting deep branching method with seed 4 - 5 out of 10 times\n"
     ]
    },
    {
     "name": "stderr",
     "output_type": "stream",
     "text": [
      "Logs are saved in /home/nprivault/NTU/nguwi_jiang_yu/burgers/deep_branching_burgers/notebooks/logs/tmp\n"
     ]
    },
    {
     "name": "stdout",
     "output_type": "stream",
     "text": [
      "Time taken: 35 seconds; L1 error: 3.10E-03; L2 error: 1.34E-05; rel error: 4.78E-02.\n",
      "fdb runtime: 0 seconds; total runtime: 35 seconds.\n",
      "#### Starting deep galerkin method with seed 4 - 5 out of 10 times\n",
      "Time taken: 89 seconds; L1 error: 3.28E-03; L2 error: 1.43E-05; rel error: 5.28E-02.\n",
      "#### Starting deep BSDE method with seed 4 - 5 out of 10 times\n"
     ]
    },
    {
     "name": "stderr",
     "output_type": "stream",
     "text": [
      "Logs are saved in /home/nprivault/NTU/nguwi_jiang_yu/burgers/deep_branching_burgers/notebooks/logs/tmp\n"
     ]
    },
    {
     "name": "stdout",
     "output_type": "stream",
     "text": [
      "Time taken: 142 seconds; L1 error: 4.34E-03; L2 error: 2.36E-05; rel error: 1.02E-01.\n",
      "\n",
      "\n",
      "#### Starting deep branching method with seed 5 - 6 out of 10 times\n"
     ]
    },
    {
     "name": "stderr",
     "output_type": "stream",
     "text": [
      "Logs are saved in /home/nprivault/NTU/nguwi_jiang_yu/burgers/deep_branching_burgers/notebooks/logs/tmp\n"
     ]
    },
    {
     "name": "stdout",
     "output_type": "stream",
     "text": [
      "Time taken: 40 seconds; L1 error: 3.34E-03; L2 error: 1.41E-05; rel error: 5.68E-02.\n",
      "fdb runtime: 0 seconds; total runtime: 40 seconds.\n",
      "#### Starting deep galerkin method with seed 5 - 6 out of 10 times\n",
      "Time taken: 85 seconds; L1 error: 2.94E-03; L2 error: 1.09E-05; rel error: 6.51E-02.\n",
      "#### Starting deep BSDE method with seed 5 - 6 out of 10 times\n"
     ]
    },
    {
     "name": "stderr",
     "output_type": "stream",
     "text": [
      "Logs are saved in /home/nprivault/NTU/nguwi_jiang_yu/burgers/deep_branching_burgers/notebooks/logs/tmp\n"
     ]
    },
    {
     "name": "stdout",
     "output_type": "stream",
     "text": [
      "Time taken: 144 seconds; L1 error: 5.97E-03; L2 error: 5.31E-05; rel error: 1.13E-01.\n",
      "\n",
      "\n",
      "#### Starting deep branching method with seed 6 - 7 out of 10 times\n"
     ]
    },
    {
     "name": "stderr",
     "output_type": "stream",
     "text": [
      "Logs are saved in /home/nprivault/NTU/nguwi_jiang_yu/burgers/deep_branching_burgers/notebooks/logs/tmp\n"
     ]
    },
    {
     "name": "stdout",
     "output_type": "stream",
     "text": [
      "Time taken: 38 seconds; L1 error: 3.09E-03; L2 error: 1.30E-05; rel error: 5.14E-02.\n",
      "fdb runtime: 0 seconds; total runtime: 38 seconds.\n",
      "#### Starting deep galerkin method with seed 6 - 7 out of 10 times\n",
      "Time taken: 88 seconds; L1 error: 2.77E-03; L2 error: 1.09E-05; rel error: 4.44E-02.\n",
      "#### Starting deep BSDE method with seed 6 - 7 out of 10 times\n"
     ]
    },
    {
     "name": "stderr",
     "output_type": "stream",
     "text": [
      "Logs are saved in /home/nprivault/NTU/nguwi_jiang_yu/burgers/deep_branching_burgers/notebooks/logs/tmp\n"
     ]
    },
    {
     "name": "stdout",
     "output_type": "stream",
     "text": [
      "Time taken: 142 seconds; L1 error: 3.62E-03; L2 error: 1.80E-05; rel error: 6.78E-02.\n",
      "\n",
      "\n",
      "#### Starting deep branching method with seed 7 - 8 out of 10 times\n"
     ]
    },
    {
     "name": "stderr",
     "output_type": "stream",
     "text": [
      "Logs are saved in /home/nprivault/NTU/nguwi_jiang_yu/burgers/deep_branching_burgers/notebooks/logs/tmp\n"
     ]
    },
    {
     "name": "stdout",
     "output_type": "stream",
     "text": [
      "Time taken: 37 seconds; L1 error: 3.18E-03; L2 error: 1.31E-05; rel error: 5.30E-02.\n",
      "fdb runtime: 0 seconds; total runtime: 37 seconds.\n",
      "#### Starting deep galerkin method with seed 7 - 8 out of 10 times\n",
      "Time taken: 91 seconds; L1 error: 3.01E-03; L2 error: 1.28E-05; rel error: 5.20E-02.\n",
      "#### Starting deep BSDE method with seed 7 - 8 out of 10 times\n"
     ]
    },
    {
     "name": "stderr",
     "output_type": "stream",
     "text": [
      "Logs are saved in /home/nprivault/NTU/nguwi_jiang_yu/burgers/deep_branching_burgers/notebooks/logs/tmp\n"
     ]
    },
    {
     "name": "stdout",
     "output_type": "stream",
     "text": [
      "Time taken: 147 seconds; L1 error: 4.31E-03; L2 error: 2.72E-05; rel error: 1.35E-01.\n",
      "\n",
      "\n",
      "#### Starting deep branching method with seed 8 - 9 out of 10 times\n"
     ]
    },
    {
     "name": "stderr",
     "output_type": "stream",
     "text": [
      "Logs are saved in /home/nprivault/NTU/nguwi_jiang_yu/burgers/deep_branching_burgers/notebooks/logs/tmp\n"
     ]
    },
    {
     "name": "stdout",
     "output_type": "stream",
     "text": [
      "Time taken: 41 seconds; L1 error: 3.05E-03; L2 error: 1.19E-05; rel error: 5.72E-02.\n",
      "fdb runtime: 0 seconds; total runtime: 41 seconds.\n",
      "#### Starting deep galerkin method with seed 8 - 9 out of 10 times\n",
      "Time taken: 87 seconds; L1 error: 4.22E-03; L2 error: 2.37E-05; rel error: 7.41E-02.\n",
      "#### Starting deep BSDE method with seed 8 - 9 out of 10 times\n"
     ]
    },
    {
     "name": "stderr",
     "output_type": "stream",
     "text": [
      "Logs are saved in /home/nprivault/NTU/nguwi_jiang_yu/burgers/deep_branching_burgers/notebooks/logs/tmp\n"
     ]
    },
    {
     "name": "stdout",
     "output_type": "stream",
     "text": [
      "Time taken: 143 seconds; L1 error: 5.41E-03; L2 error: 4.49E-05; rel error: 1.08E-01.\n",
      "\n",
      "\n",
      "#### Starting deep branching method with seed 9 - 10 out of 10 times\n"
     ]
    },
    {
     "name": "stderr",
     "output_type": "stream",
     "text": [
      "Logs are saved in /home/nprivault/NTU/nguwi_jiang_yu/burgers/deep_branching_burgers/notebooks/logs/tmp\n"
     ]
    },
    {
     "name": "stdout",
     "output_type": "stream",
     "text": [
      "Time taken: 39 seconds; L1 error: 2.93E-03; L2 error: 1.14E-05; rel error: 5.11E-02.\n",
      "fdb runtime: 0 seconds; total runtime: 39 seconds.\n",
      "#### Starting deep galerkin method with seed 9 - 10 out of 10 times\n",
      "Time taken: 87 seconds; L1 error: 2.74E-03; L2 error: 9.99E-06; rel error: 4.56E-02.\n",
      "#### Starting deep BSDE method with seed 9 - 10 out of 10 times\n",
      "Time taken: 142 seconds; L1 error: 4.25E-03; L2 error: 2.43E-05; rel error: 1.08E-01.\n",
      "\n",
      "\n",
      "\n",
      "\n",
      "######## Summary for deep branching method\n",
      "runtime:        38\n",
      "fdb runtime:    0\n",
      "total runtime:  38\n",
      "mean L1 error:  3.12E-03\n",
      "std L1 error:   1.37E-04\n",
      "mean L2 error:  1.30E-05\n",
      "std L2 error:   8.92E-07\n",
      "mean rel error: 5.18E-02\n",
      "std rel error:  3.33E-03\n",
      "\n",
      "\n",
      "######## Summary for deep galerkin method\n",
      "runtime:        87\n",
      "mean L1 error:  3.39E-03\n",
      "std L1 error:   7.99E-04\n",
      "mean L2 error:  1.64E-05\n",
      "std L2 error:   7.55E-06\n",
      "mean rel error: 6.76E-02\n",
      "std rel error:  2.52E-02\n",
      "\n",
      "\n",
      "######## Summary for deep BSDE method\n",
      "runtime:        141\n",
      "mean L1 error:  4.34E-03\n",
      "std L1 error:   7.32E-04\n",
      "mean L2 error:  2.80E-05\n",
      "std L2 error:   1.09E-05\n",
      "mean rel error: 9.44E-02\n",
      "std rel error:  2.26E-02\n"
     ]
    },
    {
     "data": {
      "image/png": "[encoded data removed]",
      "text/plain": [
       "<Figure size 432x288 with 1 Axes>"
      ]
     },
     "metadata": {
      "needs_background": "light"
     },
     "output_type": "display_data"
    }
   ],
   "source": [
    "n, T, p, alpha, nu = 1, 1, 3, 2, 1\n",
    "fixed_dim, dim = 0, 1\n",
    "\n",
    "grid, grid_d_dim, grid_d_dim_with_t, t_lo, true, terminal, \\\n",
    "    f_example, deriv_map, phi_example, dgm_f_example = gen_for_modified_burgers(n=n, T=T, alpha=alpha, nu=nu, p=p)\n",
    "compare_performance(grid, grid_d_dim, grid_d_dim_with_t, t_lo, true, terminal=terminal, # seeds=[0],\n",
    "                    # disable_bsde=True, disable_galerkin=True, # verbose=True, debug_mode=True,\n",
    "                    T=T, device=device, epochs=3000, fname=f\"burger_{n}_T_{T}_p_{p}\",\n",
    "                    branch_nb_states=1000, branch_nb_path_per_state=10000,\n",
    "                    branch_patches=1, branch_exponential_lambda=-math.log(.95)/T,\n",
    "                    second_order=True, branch_nb_states_per_batch=200,\n",
    "                    bsde_nb_states=1000, bsde_nb_time_intervals=4,\n",
    "                    dgm_nb_states=10000, f_fun=f_example, dgm_f_fun=dgm_f_example,\n",
    "                    deriv_map=deriv_map, dgm_deriv_map=deriv_map, phi_fun=phi_example,\n",
    "                    lr_gamma=0.1, branch_lr=1e-2, branch_activation=\"tanh\", neurons=20, layers=5,\n",
    "                    save_for_best_model=False, save_as_tmp=True)"
   ]
  }
 ],
 "metadata": {
  "accelerator": "GPU",
  "colab": {
   "collapsed_sections": [
    "GSuvC0ycqjNq",
    "XC4ej7xCLaN1",
    "Rr6nHqQLYdLJ",
    "lGC3MnEEHLtv",
    "fQXKDk7IexOm",
    "u_dYHEeePLeD"
   ],
   "name": "comparison.ipynb",
   "provenance": [
    {
     "file_id": "/v2/external/notebooks/pro.ipynb",
     "timestamp": 1644891847321
    }
   ]
  },
  "kernelspec": {
   "display_name": "Python 3 (ipykernel)",
   "language": "python",
   "name": "python3"
  },
  "language_info": {
   "codemirror_mode": {
    "name": "ipython",
    "version": 3
   },
   "file_extension": ".py",
   "mimetype": "text/x-python",
   "name": "python",
   "nbconvert_exporter": "python",
   "pygments_lexer": "ipython3",
   "version": "3.10.7"
  }
 },
 "nbformat": 4,
 "nbformat_minor": 1
}
